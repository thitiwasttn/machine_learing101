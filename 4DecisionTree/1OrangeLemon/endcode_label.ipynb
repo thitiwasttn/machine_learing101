{
 "cells": [
  {
   "cell_type": "markdown",
   "source": [
    "ข้อมูลที่เราเก็บมาได้หรือได้มาจากแหล่งอื่น โดยทั่วไปจะประกอบไปด้วยตัวเลขและข้อความ ณ 258 36 lemon orange ฯลฯ แต่ข้อมูลทีนํามา Train ให้กับระบบ (ป้อนเข้าสู่ fit) จะใช้ตัวเลข เป็นหลัก ดังตัวอย่าง Workshop ที่ผ่านๆ มา เราทำการแทนที่ lemon orange และ pomelo ด้วย 112 เสียก่อน แล้วจึงนำไป Train ให้กับระบบ การเปลี่ยนหรือแปลงข้อความเป็นตัวเลขนี้ เรียก ว่าการเข้ารหัสหรือ Label Encoding"
   ],
   "metadata": {
    "collapsed": false,
    "pycharm": {
     "name": "#%% md\n"
    }
   }
  },
  {
   "cell_type": "code",
   "execution_count": 2,
   "metadata": {
    "collapsed": true,
    "pycharm": {
     "name": "#%%\n"
    }
   },
   "outputs": [
    {
     "data": {
      "text/plain": "array([0, 1, 1, 0, 0, 1, 2, 2, 2], dtype=int64)"
     },
     "execution_count": 2,
     "metadata": {},
     "output_type": "execute_result"
    }
   ],
   "source": [
    "from sklearn.tree import DecisionTreeClassifier\n",
    "from sklearn.preprocessing import LabelEncoder\n",
    "\n",
    "X = [[27],\n",
    "     [35],\n",
    "     [39],\n",
    "     [21],\n",
    "     [22],\n",
    "     [45],\n",
    "     [102],\n",
    "     [110],\n",
    "     [120],\n",
    "    ]\n",
    "\n",
    "y_names = ['lemon', 'orange', 'orange', 'lemon', 'lemon', 'orange', 'pamelo', 'pamelo', 'pamelo']\n",
    "\n",
    "# y = [0, 1, 1, 0, 0, 1, 2, 2, 2]\n",
    "y_le = LabelEncoder()\n",
    "\n",
    "y = y_le.fit_transform(y_names)\n",
    "y"
   ]
  }
 ],
 "metadata": {
  "kernelspec": {
   "display_name": "Python 3",
   "language": "python",
   "name": "python3"
  },
  "language_info": {
   "codemirror_mode": {
    "name": "ipython",
    "version": 2
   },
   "file_extension": ".py",
   "mimetype": "text/x-python",
   "name": "python",
   "nbconvert_exporter": "python",
   "pygments_lexer": "ipython2",
   "version": "2.7.6"
  }
 },
 "nbformat": 4,
 "nbformat_minor": 0
}