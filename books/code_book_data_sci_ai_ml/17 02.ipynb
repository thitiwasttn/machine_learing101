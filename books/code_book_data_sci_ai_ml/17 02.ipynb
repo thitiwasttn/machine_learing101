{
 "cells": [
  {
   "cell_type": "code",
   "execution_count": null,
   "metadata": {},
   "outputs": [],
   "source": [
    "# ws03\n",
    "import seaborn as sns\n",
    "import matplotlib.pyplot as plt\n",
    "\n",
    "df = sns.load_dataset('iris')\n",
    "df.head()"
   ]
  },
  {
   "cell_type": "code",
   "execution_count": null,
   "metadata": {},
   "outputs": [],
   "source": [
    "df.isnull().sum()"
   ]
  },
  {
   "cell_type": "code",
   "execution_count": null,
   "metadata": {},
   "outputs": [],
   "source": [
    "sns.set_style('whitegrid')\n",
    "sns.scatterplot('sepal_length','sepal_width',data=df, hue='species',palette='Set1', s=70)\n",
    "plt.title('Sepal')\n",
    "plt.show()"
   ]
  },
  {
   "cell_type": "code",
   "execution_count": null,
   "metadata": {},
   "outputs": [],
   "source": [
    "sns.scatterplot('petal_length','petal_width',data=df, hue='species',palette='Set1', s=70)\n",
    "plt.title('Petal')\n",
    "plt.show()"
   ]
  },
  {
   "cell_type": "code",
   "execution_count": null,
   "metadata": {},
   "outputs": [],
   "source": [
    "sns.pairplot(df, hue='species', height=2.0)\n",
    "plt.show()"
   ]
  },
  {
   "cell_type": "code",
   "execution_count": null,
   "metadata": {},
   "outputs": [],
   "source": [
    "feature_cols = ['sepal_length', 'sepal_width', 'petal_length', 'petal_width']\n",
    "X = df[feature_cols]\n",
    "X.head()"
   ]
  },
  {
   "cell_type": "code",
   "execution_count": null,
   "metadata": {},
   "outputs": [],
   "source": [
    "X = df.drop('species', axis=1)\n",
    "X.head()"
   ]
  },
  {
   "cell_type": "code",
   "execution_count": null,
   "metadata": {},
   "outputs": [],
   "source": [
    "y = df.species\n",
    "y.head()"
   ]
  },
  {
   "cell_type": "code",
   "execution_count": null,
   "metadata": {},
   "outputs": [],
   "source": [
    "X.shape"
   ]
  },
  {
   "cell_type": "code",
   "execution_count": null,
   "metadata": {},
   "outputs": [],
   "source": [
    "y.shape"
   ]
  },
  {
   "cell_type": "code",
   "execution_count": null,
   "metadata": {},
   "outputs": [],
   "source": [
    "# ws06\n",
    "from sklearn.model_selection import cross_val_score\n",
    "from sklearn.naive_bayes import GaussianNB\n",
    "\n",
    "model = GaussianNB()\n",
    "\n",
    "cvs = cross_val_score(model, X, y, cv=10)  # no need to use model.fit\n",
    "print('cross val scores {}'.format(cvs.round(3)))\n",
    "print('mean (%) = {:.3f}' .format(cvs.mean() * 100 ))"
   ]
  },
  {
   "cell_type": "code",
   "execution_count": null,
   "metadata": {},
   "outputs": [],
   "source": [
    "from sklearn.model_selection import train_test_split\n",
    "from sklearn.metrics import classification_report\n",
    "from sklearn.metrics import confusion_matrix\n",
    "from sklearn.metrics import accuracy_score \n",
    "\n",
    "X_train, X_test,y_train,y_test = train_test_split(X, y, test_size=0.3) "
   ]
  },
  {
   "cell_type": "code",
   "execution_count": null,
   "metadata": {},
   "outputs": [],
   "source": [
    "# ws07\n",
    "import numpy as np\n",
    "(label, count) = np.unique(y_test , return_counts=True)\n",
    "freq = np.asarray((label, count)).T\n",
    "print(freq)"
   ]
  },
  {
   "cell_type": "code",
   "execution_count": null,
   "metadata": {},
   "outputs": [],
   "source": [
    "model = GaussianNB()\n",
    "\n",
    "model.fit(X_train, y_train)\n",
    "\n",
    "y_pred = model.predict(X_test)\n",
    "\n",
    "print('Accuracy Score: {:.4f}'.format(accuracy_score(y_test, y_pred)))\n",
    "print(classification_report(y_test, y_pred))\n",
    "cm = confusion_matrix(y_test, y_pred)\n",
    "print(cm)"
   ]
  },
  {
   "cell_type": "code",
   "execution_count": null,
   "metadata": {},
   "outputs": [],
   "source": [
    "y_test[(y_test == y_pred)].count()"
   ]
  },
  {
   "cell_type": "code",
   "execution_count": null,
   "metadata": {},
   "outputs": [],
   "source": [
    "import pandas as pd\n",
    "dy = pd.DataFrame()\n",
    "dy['y_test'] = y_test\n",
    "dy['y_pred'] = y_pred\n",
    "dy['result'] = y_test == y_pred\n",
    "\n",
    "dy[dy.result == False]"
   ]
  },
  {
   "cell_type": "code",
   "execution_count": null,
   "metadata": {},
   "outputs": [],
   "source": [
    "# ws07\n",
    "import numpy as np\n",
    "\n",
    "X_input = np.array([[4.7,3.6,2.0,0.8],\n",
    "                    [6.5,2.5,4.8,1.4]\n",
    "                   ])\n",
    "X_input"
   ]
  },
  {
   "cell_type": "code",
   "execution_count": null,
   "metadata": {},
   "outputs": [],
   "source": [
    "# model.fit(X, y)\n",
    "print(model.predict(X_input))"
   ]
  },
  {
   "cell_type": "code",
   "execution_count": null,
   "metadata": {},
   "outputs": [],
   "source": [
    "print(y.unique())\n",
    "print(model.predict_proba(X_input).round(8))"
   ]
  },
  {
   "cell_type": "code",
   "execution_count": null,
   "metadata": {},
   "outputs": [],
   "source": [
    "# ws08\n",
    "xsp = X_input[:,:1].reshape(1,-1)[0]\n",
    "ysp = X_input[:,1:2].reshape(1,-1)[0]\n",
    "xsp, ysp"
   ]
  },
  {
   "cell_type": "code",
   "execution_count": null,
   "metadata": {},
   "outputs": [],
   "source": [
    "sns.scatterplot('sepal_length','sepal_width',data=df, hue='species',palette='Set1', s=70)\n",
    "plt.title('New Points (Sepal)')\n",
    "sns.scatterplot(xsp, ysp, marker='s', color='blue', s=180)\n",
    "plt.show()"
   ]
  },
  {
   "cell_type": "code",
   "execution_count": null,
   "metadata": {},
   "outputs": [],
   "source": [
    "xpe = X_input[:,2:3].reshape(1,-1)[0]\n",
    "ype = X_input[:,3:4].reshape(1,-1)[0]\n",
    "xpe, ype"
   ]
  },
  {
   "cell_type": "code",
   "execution_count": null,
   "metadata": {},
   "outputs": [],
   "source": [
    "sns.scatterplot('petal_length','petal_width',data=df, hue='species',palette='Set1', s=70)\n",
    "plt.title('New Points (Petal)')\n",
    "sns.scatterplot(xpe, ype, marker='s', color='blue', s=180)\n",
    "plt.show()"
   ]
  },
  {
   "cell_type": "code",
   "execution_count": null,
   "metadata": {},
   "outputs": [],
   "source": [
    "# ws09\n",
    "from sklearn.svm import SVC\n",
    "\n",
    "model = SVC(kernel='linear') \n",
    "\n",
    "cvs = cross_val_score(model, X, y, cv=10) \n",
    "print('cross val scores {}'.format(cvs.round(3)))\n",
    "print('mean (%) = {:.3f}' .format(cvs.mean() * 100 ))"
   ]
  },
  {
   "cell_type": "code",
   "execution_count": null,
   "metadata": {},
   "outputs": [],
   "source": [
    "model.fit(X, y)\n",
    "print(model.predict(X_input))"
   ]
  },
  {
   "cell_type": "code",
   "execution_count": null,
   "metadata": {},
   "outputs": [],
   "source": [
    "# ws10\n",
    "from sklearn.neighbors import KNeighborsClassifier\n",
    "model = KNeighborsClassifier(n_neighbors=3) \n",
    "\n",
    "cvs = cross_val_score(model, X, y, cv=10)  \n",
    "print('cross val scores {}'.format(cvs.round(3)))\n",
    "print('mean (%) = {:.3f}' .format(cvs.mean() * 100 ))"
   ]
  },
  {
   "cell_type": "code",
   "execution_count": null,
   "metadata": {},
   "outputs": [],
   "source": [
    "model.fit(X, y)\n",
    "print(model.predict(X_input))"
   ]
  },
  {
   "cell_type": "code",
   "execution_count": null,
   "metadata": {},
   "outputs": [],
   "source": [
    "# ws11\n",
    "len(X_train)"
   ]
  },
  {
   "cell_type": "code",
   "execution_count": null,
   "metadata": {},
   "outputs": [],
   "source": [
    "import scikitplot as skplot\n",
    "from sklearn.ensemble import RandomForestClassifier\n",
    "\n",
    "model = RandomForestClassifier(n_estimators=80)\n",
    "model.fit(X_train, y_train)"
   ]
  },
  {
   "cell_type": "code",
   "execution_count": null,
   "metadata": {},
   "outputs": [],
   "source": [
    "class_names = df.species.unique()\n",
    "class_names"
   ]
  },
  {
   "cell_type": "code",
   "execution_count": null,
   "metadata": {},
   "outputs": [],
   "source": [
    "y_predict = model.predict(X_test)\n",
    "\n",
    "print('Score -> {:.4f}' . format(model.score(X_test, y_test)))\n",
    "print(classification_report(y_test, y_predict, target_names=class_names))\n",
    "print(confusion_matrix(y_test, y_predict))\n",
    "\n",
    "skplot.metrics.plot_confusion_matrix(y_test, y_predict)\n",
    "plt.show()"
   ]
  },
  {
   "cell_type": "code",
   "execution_count": null,
   "metadata": {},
   "outputs": [],
   "source": [
    "from sklearn.tree import DecisionTreeClassifier\n",
    "model = DecisionTreeClassifier()\n",
    "model.fit(X_train, y_train)\n",
    "\n",
    "\n",
    "print('Score: {:.4f}' . format(model.score(X_test, y_test)))\n",
    "print(classification_report(y_test, y_predict, target_names=class_names))\n",
    "print(confusion_matrix(y_test, y_predict))\n",
    "\n",
    "skplot.metrics.plot_confusion_matrix(y_test, y_predict, normalize=False)\n"
   ]
  },
  {
   "cell_type": "code",
   "execution_count": null,
   "metadata": {},
   "outputs": [],
   "source": [
    "# ws12\n",
    "print(y.unique())"
   ]
  },
  {
   "cell_type": "code",
   "execution_count": null,
   "metadata": {},
   "outputs": [],
   "source": [
    "from sklearn.cluster import KMeans\n",
    "model = KMeans(n_clusters=3)\n",
    "y_kmeans = model.fit_predict(X)"
   ]
  },
  {
   "cell_type": "code",
   "execution_count": null,
   "metadata": {},
   "outputs": [],
   "source": [
    "y_kmeans[:80]"
   ]
  },
  {
   "cell_type": "code",
   "execution_count": null,
   "metadata": {},
   "outputs": [],
   "source": [
    "df['cluster'] = y_kmeans\n",
    "df.sample(8)"
   ]
  },
  {
   "cell_type": "code",
   "execution_count": null,
   "metadata": {},
   "outputs": [],
   "source": [
    "df[df.cluster==0].head()"
   ]
  },
  {
   "cell_type": "code",
   "execution_count": null,
   "metadata": {},
   "outputs": [],
   "source": [
    "\n",
    "pvt = df.pivot_table(index='species',columns=['cluster'], values='petal_length',\n",
    "                     fill_value=0, aggfunc='count')\n",
    "pvt"
   ]
  },
  {
   "cell_type": "code",
   "execution_count": null,
   "metadata": {},
   "outputs": [],
   "source": [
    "model.cluster_centers_"
   ]
  },
  {
   "cell_type": "code",
   "execution_count": null,
   "metadata": {},
   "outputs": [],
   "source": [
    "x_centroids = model.cluster_centers_[:,0]\n",
    "y_centroids = model.cluster_centers_[:,1]"
   ]
  },
  {
   "cell_type": "code",
   "execution_count": null,
   "metadata": {},
   "outputs": [],
   "source": [
    "x_centroids"
   ]
  },
  {
   "cell_type": "code",
   "execution_count": null,
   "metadata": {},
   "outputs": [],
   "source": [
    "sns.scatterplot('sepal_length','sepal_width',data=df,hue='species',s=50,palette='Set1')\n",
    "plt.title('Actual')\n",
    "plt.show()"
   ]
  },
  {
   "cell_type": "code",
   "execution_count": null,
   "metadata": {},
   "outputs": [],
   "source": [
    "   \n",
    "color_dict = dict({0:'blue',\n",
    "                  1:'red',\n",
    "                  2: 'g'})\n",
    "\n",
    "centroid_colors=['r','b','m']\n",
    "sns.scatterplot('sepal_length','sepal_width',data=df,hue='cluster', palette=color_dict, s=80)\n",
    "plt.scatter(x_centroids, y_centroids,s=1200, marker='x', c=centroid_colors)\n",
    "plt.title('k-Means Clustering')\n",
    "\n",
    "plt.show()"
   ]
  },
  {
   "cell_type": "code",
   "execution_count": null,
   "metadata": {},
   "outputs": [],
   "source": [
    "print(model.predict(X_input))"
   ]
  },
  {
   "cell_type": "code",
   "execution_count": null,
   "metadata": {},
   "outputs": [],
   "source": [
    "w1 = df[(df.cluster==0) & (df.species!='versicolor')] #.count()\n",
    "w2 = df[(df.cluster==2) & (df.species!='virginica')] #.count()\n",
    "\n",
    "color_dict = dict({0:'blue',\n",
    "                  1:'red',\n",
    "                  2: 'g'})\n",
    "\n",
    "\n",
    "sns.scatterplot('sepal_length','sepal_width',data=df,hue='cluster', palette=color_dict, s=80, alpha=0.7)\n",
    "\n",
    "plt.scatter(w1.sepal_length, w1.sepal_width, marker='x',s=250,c='red')\n",
    "plt.scatter(w2.sepal_length, w2.sepal_width, marker='x',s=250,c='black')\n",
    "plt.title('k-Means Clustering')\n",
    "plt.savefig('kmean-clustering-wrong',dpi=120)\n",
    "plt.show()"
   ]
  },
  {
   "cell_type": "code",
   "execution_count": null,
   "metadata": {},
   "outputs": [],
   "source": []
  }
 ],
 "metadata": {
  "kernelspec": {
   "display_name": "Python 3",
   "language": "python",
   "name": "python3"
  },
  "language_info": {
   "codemirror_mode": {
    "name": "ipython",
    "version": 3
   },
   "file_extension": ".py",
   "mimetype": "text/x-python",
   "name": "python",
   "nbconvert_exporter": "python",
   "pygments_lexer": "ipython3",
   "version": "3.7.1"
  }
 },
 "nbformat": 4,
 "nbformat_minor": 2
}
