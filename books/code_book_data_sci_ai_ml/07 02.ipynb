{
 "cells": [
  {
   "cell_type": "code",
   "execution_count": null,
   "metadata": {},
   "outputs": [],
   "source": [
    "\n",
    "import seaborn as sns\n",
    "import pandas as pd\n",
    "\n",
    "import matplotlib.pyplot as plt # no need for seaborn but i include for savefig\n",
    "plt.rcParams.update({'font.size':13})\n",
    "\n",
    "df = sns.load_dataset('tips')  # need Internet\n",
    "\n",
    "df.head()\n",
    "df.tail()\n",
    "df.sample(5)"
   ]
  },
  {
   "cell_type": "code",
   "execution_count": null,
   "metadata": {},
   "outputs": [],
   "source": [
    "# df.info()\n",
    "# df.shape\n",
    "df.dtypes"
   ]
  },
  {
   "cell_type": "code",
   "execution_count": null,
   "metadata": {},
   "outputs": [],
   "source": [
    "df.describe()"
   ]
  },
  {
   "cell_type": "code",
   "execution_count": null,
   "metadata": {},
   "outputs": [],
   "source": [
    "df['size'] = df['size'].astype('category')\n",
    "df.dtypes"
   ]
  },
  {
   "cell_type": "code",
   "execution_count": null,
   "metadata": {},
   "outputs": [],
   "source": [
    "df.describe()"
   ]
  },
  {
   "cell_type": "code",
   "execution_count": null,
   "metadata": {},
   "outputs": [],
   "source": [
    "df.isnull().sum()"
   ]
  },
  {
   "cell_type": "code",
   "execution_count": null,
   "metadata": {},
   "outputs": [],
   "source": [
    "df['size'].hist()\n",
    "# df.size.hist()"
   ]
  },
  {
   "cell_type": "code",
   "execution_count": null,
   "metadata": {},
   "outputs": [],
   "source": [
    "# sns.countplot(df['size']) \n",
    "sns.countplot('size', data=df)"
   ]
  },
  {
   "cell_type": "code",
   "execution_count": null,
   "metadata": {},
   "outputs": [],
   "source": [
    "df['size'].value_counts()  "
   ]
  },
  {
   "cell_type": "code",
   "execution_count": null,
   "metadata": {},
   "outputs": [],
   "source": [
    "pvt = df.pivot_table(index='size', values='total_bill', aggfunc='count')\n",
    "# pvt.sort_values(by='total_bill', ascending=False)\n",
    "pvt\n",
    "\n",
    "# df['size'].value_counts().to_frame(name='freq')\n",
    "# pd.DataFrame(df['size'].value_counts())"
   ]
  },
  {
   "cell_type": "code",
   "execution_count": null,
   "metadata": {},
   "outputs": [],
   "source": [
    "plt.title('ลูกค้า - Day : Sorting')\n",
    "sns.countplot('day', data=df, order=['Sat','Sun','Thur','Fri']) \n",
    "plt.show()"
   ]
  },
  {
   "cell_type": "code",
   "execution_count": null,
   "metadata": {},
   "outputs": [],
   "source": [
    "# \n",
    "# pvt = df.pivot_table(index='size', columns='day', values='total_bill', aggfunc=['count'])\n",
    "pvt = df.pivot_table(index='day', columns='size', values='total_bill', aggfunc=['count'])\n",
    "# pvt.columns = pvt.columns.get_level_values(1)\n",
    "pvt.columns = pvt.columns.droplevel() \n",
    "pvt\n",
    "# pvt.T"
   ]
  },
  {
   "cell_type": "code",
   "execution_count": null,
   "metadata": {},
   "outputs": [],
   "source": [
    "pvt.plot.bar()"
   ]
  },
  {
   "cell_type": "code",
   "execution_count": null,
   "metadata": {},
   "outputs": [],
   "source": [
    "pvt.T.plot.bar()\n",
    "plt.title('ขนาดโต๊ะ - Day')\n",
    "\n",
    "plt.legend(loc='upper center')\n",
    "plt.show()"
   ]
  },
  {
   "cell_type": "code",
   "execution_count": null,
   "metadata": {},
   "outputs": [],
   "source": [
    "sns.set_style(\"whitegrid\") \n",
    "\n",
    "plt.rcParams.update({'font.size':12, 'font.family':'tahoma'})\n",
    "plt.title('ลูกค้า - Day')\n",
    "sns.countplot('day', data=df) \n",
    "plt.show()"
   ]
  },
  {
   "cell_type": "code",
   "execution_count": null,
   "metadata": {},
   "outputs": [],
   "source": [
    "pvt = df.pivot_table(index='day', values='total_bill', aggfunc='count') # or len\n",
    "pvt\n",
    "\n",
    "df['day'].value_counts()\n",
    "# df['day'].value_counts().to_frame(name='freq').sort_values('freq', ascending=False)"
   ]
  },
  {
   "cell_type": "code",
   "execution_count": null,
   "metadata": {},
   "outputs": [],
   "source": [
    "# bill - day\n",
    "plt.rcParams.update({'font.size':16, 'font.family':'rsu'})\n",
    "plt.title('ค่าอาหาร Bill - Day')\n",
    "sns.barplot('day','total_bill', data=df) # , kde=False\n",
    "\n",
    "# plt.savefig('sns03-day-bill.png', dpi=120)\n",
    "plt.show()"
   ]
  },
  {
   "cell_type": "code",
   "execution_count": null,
   "metadata": {},
   "outputs": [],
   "source": [
    "plt.title('ค่าอาหาร Bill - Day')\n",
    "sns.lineplot('day','total_bill', data=df) # \n"
   ]
  },
  {
   "cell_type": "code",
   "execution_count": null,
   "metadata": {},
   "outputs": [],
   "source": [
    "pvt = df.pivot_table(index='day', values='total_bill', aggfunc=['mean','min','max','sum','std'])\n",
    "pvt"
   ]
  },
  {
   "cell_type": "code",
   "execution_count": null,
   "metadata": {},
   "outputs": [],
   "source": [
    "df.groupby('day').total_bill.mean().sort_values(ascending=False) \n",
    "df.groupby('day').total_bill.min().sort_values(ascending=False) \n",
    "df.groupby('day').total_bill.sum().sort_values(ascending=False) "
   ]
  },
  {
   "cell_type": "code",
   "execution_count": null,
   "metadata": {},
   "outputs": [],
   "source": [
    "\n",
    "df.groupby('day').total_bill.sum().sort_values(ascending=False).reset_index()  "
   ]
  },
  {
   "cell_type": "code",
   "execution_count": null,
   "metadata": {},
   "outputs": [],
   "source": [
    "group_data = df.groupby('day').sum().reset_index()\n",
    "# group_data = df.groupby('day').sum().sort_values('total_bill').reset_index()\n",
    "group_data"
   ]
  },
  {
   "cell_type": "code",
   "execution_count": null,
   "metadata": {},
   "outputs": [],
   "source": [
    "groupedval = df.groupby(['day','sex']).sum().reset_index()\n",
    "groupedval"
   ]
  },
  {
   "cell_type": "code",
   "execution_count": null,
   "metadata": {},
   "outputs": [],
   "source": [
    "pvt = df.pivot_table(index='day', values='total_bill', aggfunc=['sum'])\n",
    "\n",
    "# pvt.columns = pvt.columns.droplevel()  # drop 1 level ok\n",
    "pvt.columns = pvt.columns.get_level_values(1)\n",
    "# pvt\n",
    "pvt.plot.bar()"
   ]
  },
  {
   "cell_type": "code",
   "execution_count": null,
   "metadata": {},
   "outputs": [],
   "source": [
    "plt.title('ค่าอาหารรวม Bill - Day')\n",
    "sns.barplot(pvt.index,'total_bill',data=pvt)\n"
   ]
  },
  {
   "cell_type": "code",
   "execution_count": null,
   "metadata": {},
   "outputs": [],
   "source": [
    "# annotate\n",
    "\n",
    "group_data = df.groupby('day').sum().reset_index()\n",
    "sns.barplot(x='day',y='total_bill',data=group_data, palette='Set2')\n",
    "sns.lineplot(x='day',y='total_bill',data=group_data, marker='s', color='r')\n",
    "\n",
    "for index, row in group_data.iterrows():\n",
    "    plt.annotate(round(row.total_bill, 2), \n",
    "                 (row.name, row.total_bill), \n",
    "                 textcoords=\"offset points\", \n",
    "                 xytext=(0, 2), \n",
    "                 ha='center',\n",
    "                 fontsize=15) \n",
    "\n",
    "plt.title('ยอดขายรวม (Total Bill) by Day')\n",
    "plt.show()"
   ]
  },
  {
   "cell_type": "code",
   "execution_count": null,
   "metadata": {},
   "outputs": [],
   "source": [
    "pvt = df.pivot_table(index='sex', values='total_bill', aggfunc=['mean','min','max','sum','std'])\n",
    "pvt"
   ]
  },
  {
   "cell_type": "code",
   "execution_count": null,
   "metadata": {},
   "outputs": [],
   "source": [
    "pvt = df.pivot_table(index='sex', values='total_bill', aggfunc=['sum'])\n",
    "pvt.columns = pvt.columns.get_level_values(1)\n",
    "pvt.plot.bar()\n",
    "plt.title('ค่าอาหารรวม Bill - Sex')"
   ]
  },
  {
   "cell_type": "code",
   "execution_count": null,
   "metadata": {},
   "outputs": [],
   "source": [
    "plt.title('ค่าอาหารเฉลี่ย Bill - Sex')\n",
    "sns.barplot('sex','total_bill', data=df)\n",
    "plt.show()"
   ]
  },
  {
   "cell_type": "code",
   "execution_count": null,
   "metadata": {},
   "outputs": [],
   "source": [
    "sns.countplot('sex',data=df)\n",
    "plt.title('จำนวนลูกค้าแบ่งตาม Sex')\n"
   ]
  },
  {
   "cell_type": "code",
   "execution_count": null,
   "metadata": {},
   "outputs": [],
   "source": [
    "df.groupby('sex').total_bill.count()"
   ]
  },
  {
   "cell_type": "code",
   "execution_count": null,
   "metadata": {},
   "outputs": [],
   "source": [
    "# smoker and non\n",
    "# \n",
    "smk = df.groupby(['smoker']).total_bill.sum().reset_index()  \n",
    "smk  # or\n",
    "pvt = df.pivot_table(index='smoker', values='total_bill', aggfunc='sum').reset_index()\n",
    "pvt"
   ]
  },
  {
   "cell_type": "code",
   "execution_count": null,
   "metadata": {},
   "outputs": [],
   "source": [
    "pvt.plot.bar()\n",
    "sns.barplot('smoker','total_bill', data=pvt)"
   ]
  },
  {
   "cell_type": "code",
   "execution_count": null,
   "metadata": {},
   "outputs": [],
   "source": [
    "sns.countplot(df.day, hue=df.smoker)\n",
    "plt.legend(loc='lower right')  # loc=best\n",
    "plt.title('ยอดขาย zone ')"
   ]
  },
  {
   "cell_type": "code",
   "execution_count": null,
   "metadata": {},
   "outputs": [],
   "source": [
    "pvt = df.pivot_table(index='day', columns='smoker', values='total_bill', aggfunc='count')\n",
    "pvt"
   ]
  },
  {
   "cell_type": "code",
   "execution_count": null,
   "metadata": {},
   "outputs": [],
   "source": [
    "# sns.barplot(df.day, df.total_bill, hue=df.smoker)\n",
    "sns.countplot(df.day, hue=df.smoker)\n",
    "plt.legend(loc='lower right')  # loc=best\n",
    "plt.title('สรุป zone - day')"
   ]
  },
  {
   "cell_type": "code",
   "execution_count": null,
   "metadata": {},
   "outputs": [],
   "source": [
    "# sns.countplot(df.total_bill)# not good\n",
    "sns.distplot(df.total_bill, bins=20, label='Total bill', color='b') \n",
    "plt.legend()\n",
    "# df.describe()"
   ]
  },
  {
   "cell_type": "code",
   "execution_count": null,
   "metadata": {},
   "outputs": [],
   "source": [
    "df.total_bill.hist(bins=20)\n",
    "# df.hist('total_bill', bins=20)"
   ]
  },
  {
   "cell_type": "code",
   "execution_count": null,
   "metadata": {},
   "outputs": [],
   "source": [
    "sns.kdeplot(df.total_bill, shade=True)\n"
   ]
  },
  {
   "cell_type": "code",
   "execution_count": null,
   "metadata": {},
   "outputs": [],
   "source": [
    "# sns.boxplot('total_bill', data=df)\n",
    "# sns.boxplot(df.total_bill, width=0.5)\n",
    "# plt.savefig('sns09-boxplot1x-bill.png',dpi=120)\n",
    "\n",
    "# sns.boxplot(y='total_bill', data=df)\n",
    "sns.boxplot(y='total_bill', data=df, width=0.3)"
   ]
  },
  {
   "cell_type": "code",
   "execution_count": null,
   "metadata": {},
   "outputs": [],
   "source": [
    "df.hist('total_bill', bins=10, by='time')\n",
    "plt.savefig('sns08-compare-bill-time.png',dpi=120)\n",
    "plt.show()"
   ]
  },
  {
   "cell_type": "code",
   "execution_count": null,
   "metadata": {},
   "outputs": [],
   "source": [
    "pvt = df.pivot_table(index='time',values='total_bill') # mean\n",
    "pvt"
   ]
  },
  {
   "cell_type": "code",
   "execution_count": null,
   "metadata": {},
   "outputs": [],
   "source": [
    "df.groupby('time').total_bill.mean().to_frame() \\\n",
    "       .sort_values('total_bill', ascending=False)"
   ]
  },
  {
   "cell_type": "code",
   "execution_count": null,
   "metadata": {},
   "outputs": [],
   "source": [
    "sns.set_style('darkgrid')\n",
    "\n",
    "grid = sns.FacetGrid(df, row='smoker', col='time')\n",
    "\n",
    "grid.map(plt.hist, 'total_bill', bins=10)"
   ]
  },
  {
   "cell_type": "code",
   "execution_count": null,
   "metadata": {},
   "outputs": [],
   "source": [
    "sns.boxplot(x='time',y='total_bill', data=df, width=0.4, palette='husl') \n"
   ]
  },
  {
   "cell_type": "code",
   "execution_count": null,
   "metadata": {},
   "outputs": [],
   "source": [
    "\n",
    "sns.boxplot(df.time, df.total_bill, hue=df.smoker, \n",
    "            width=0.4, palette='husl') \n"
   ]
  },
  {
   "cell_type": "code",
   "execution_count": null,
   "metadata": {},
   "outputs": [],
   "source": [
    "df.groupby(['time']).total_bill.quantile([.25, .5, .75]).to_frame().T"
   ]
  },
  {
   "cell_type": "code",
   "execution_count": null,
   "metadata": {},
   "outputs": [],
   "source": [
    "\n",
    "sns.boxplot(df.smoker, df.total_bill, width=0.5)\n"
   ]
  },
  {
   "cell_type": "code",
   "execution_count": null,
   "metadata": {},
   "outputs": [],
   "source": [
    "\n",
    "sns.boxplot(df['day'], df.total_bill, width=0.6, hue=df.smoker, palette='Set2') \n",
    "\n",
    "plt.legend(loc='upper left')\n"
   ]
  },
  {
   "cell_type": "code",
   "execution_count": null,
   "metadata": {},
   "outputs": [],
   "source": [
    "pvt = df.pivot_table(index=['day'],columns='smoker', values='total_bill', aggfunc=['sum','count']) \n",
    "pvt.plot.bar()\n",
    "pvt"
   ]
  },
  {
   "cell_type": "code",
   "execution_count": null,
   "metadata": {},
   "outputs": [],
   "source": [
    "sns.violinplot(df.total_bill)\n",
    "sns.violinplot(df['total_bill'])\n",
    "sns.violinplot('total_bill', data=df)\n"
   ]
  },
  {
   "cell_type": "code",
   "execution_count": null,
   "metadata": {},
   "outputs": [],
   "source": [
    "sns.violinplot(y=df.total_bill)\n",
    "sns.violinplot(y='total_bill', data=df)\n",
    "plt.show()"
   ]
  },
  {
   "cell_type": "code",
   "execution_count": null,
   "metadata": {},
   "outputs": [],
   "source": [
    "# sns.violinplot(x='time', y='total_bill', data=df) \n",
    "\n",
    "sns.violinplot(y='time', x='total_bill', data=df) \n",
    "# plt.savefig('sns12-violi-time-bill-h.png', dpi=120)"
   ]
  },
  {
   "cell_type": "code",
   "execution_count": null,
   "metadata": {},
   "outputs": [],
   "source": [
    "\n",
    "# sns.violinplot('day','total_bill', data=df) \n",
    "\n",
    "ord = ['Fri','Thur','Sat','Sun']\n",
    "sns.violinplot('day','total_bill', data=df, order=ord) \n"
   ]
  },
  {
   "cell_type": "code",
   "execution_count": null,
   "metadata": {},
   "outputs": [],
   "source": [
    "\n",
    "sns.violinplot(x='day',y='total_bill', data=df, hue='smoker')\n",
    "\n"
   ]
  },
  {
   "cell_type": "code",
   "execution_count": null,
   "metadata": {},
   "outputs": [],
   "source": [
    "sns.violinplot(x='day', y='total_bill', data=df, hue='smoker', split=True, palette='Set2') \n"
   ]
  },
  {
   "cell_type": "code",
   "execution_count": null,
   "metadata": {},
   "outputs": [],
   "source": [
    "\n",
    "sns.swarmplot(x='sex',y='total_bill', data=df)\n",
    "sns.swarmplot(x=df.sex,y=df.total_bill)\n"
   ]
  },
  {
   "cell_type": "code",
   "execution_count": null,
   "metadata": {},
   "outputs": [],
   "source": [
    "pvt = df.pivot_table(index='sex', values='total_bill')\n",
    "pvt\n",
    "df.groupby('sex').total_bill.mean()"
   ]
  },
  {
   "cell_type": "code",
   "execution_count": null,
   "metadata": {},
   "outputs": [],
   "source": [
    "sns.swarmplot(x='day',y='total_bill', data=df)\n"
   ]
  },
  {
   "cell_type": "code",
   "execution_count": null,
   "metadata": {},
   "outputs": [],
   "source": [
    "pvt = df.pivot_table(index='day', values='total_bill')\n",
    "# pvt.sort_values('total_bill', ascending=False)\n",
    "df.groupby('day').total_bill.mean().to_frame() \\\n",
    "    .sort_values('total_bill', ascending=False)\n",
    "df.groupby('day').total_bill.mean()"
   ]
  },
  {
   "cell_type": "code",
   "execution_count": null,
   "metadata": {},
   "outputs": [],
   "source": [
    "# pvt.columns = pvt.columns.drop(labels=0)\n",
    "pvt"
   ]
  },
  {
   "cell_type": "code",
   "execution_count": null,
   "metadata": {},
   "outputs": [],
   "source": []
  }
 ],
 "metadata": {
  "kernelspec": {
   "display_name": "Python 3",
   "language": "python",
   "name": "python3"
  },
  "language_info": {
   "codemirror_mode": {
    "name": "ipython",
    "version": 3
   },
   "file_extension": ".py",
   "mimetype": "text/x-python",
   "name": "python",
   "nbconvert_exporter": "python",
   "pygments_lexer": "ipython3",
   "version": "3.7.1"
  }
 },
 "nbformat": 4,
 "nbformat_minor": 2
}
