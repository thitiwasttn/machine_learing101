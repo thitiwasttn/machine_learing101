{
 "cells": [
  {
   "cell_type": "code",
   "execution_count": null,
   "metadata": {},
   "outputs": [],
   "source": [
    "# ws1\n",
    "\n",
    "# %matplotlib inline\n",
    "# import matplotlib.pyplot as plt\n",
    "from matplotlib import pyplot as plt  # or this\n",
    "\n",
    "x = [1,2,3, 4,5,6]      # x data\n",
    "ydata = [1,2.8,2.1,4,3,3.5]    # y data\n",
    "\n",
    "# plt.bar(x, ydata)\n",
    "plt.barh(x, ydata) \n",
    "plt.show()"
   ]
  },
  {
   "cell_type": "code",
   "execution_count": null,
   "metadata": {},
   "outputs": [],
   "source": [
    "# ws4 line\n",
    "\n",
    "plt.plot(x, ydata)\n",
    "# plt.savefig('matplot02.png', dpi=120)\n",
    "plt.show()"
   ]
  },
  {
   "cell_type": "code",
   "execution_count": null,
   "metadata": {},
   "outputs": [],
   "source": [
    "# ws5 \n",
    "\n",
    "x = [1,2,3, 4,5,6]  #\n",
    "ydata = [1,3,2.5,4,3,3.5]  #\n",
    "ydata2 = [2.2,1.6,2.3,2.0,2.3,2.1]  #\n",
    "\n",
    "plt.plot(x, ydata)\n",
    "plt.plot(x, ydata2) \n",
    "plt.show()"
   ]
  },
  {
   "cell_type": "code",
   "execution_count": null,
   "metadata": {},
   "outputs": [],
   "source": [
    "# ws6\n",
    "\n",
    "months = ['Jan', 'Feb', 'Mar', 'Apr', 'May', 'Jun']\n",
    "ydata = [1,3,2.5,4,3,3.5]  # sales\n",
    "expl = (0, 0.15, 0, 0, 0, 0)  # only \"explode\" the 2nd slice (i.e. 'Hogs')\n",
    "\n",
    "plt.pie(ydata, explode=expl, labels=months, autopct='%.1f%%',\n",
    "        shadow=True, startangle=90)\n",
    "\n",
    "plt.show()"
   ]
  },
  {
   "cell_type": "code",
   "execution_count": null,
   "metadata": {},
   "outputs": [],
   "source": [
    "# ws7 scatter\n",
    "\n",
    "x = [1,2,3,4,5,6]  #\n",
    "ydata = [1,3,2.5,4,3,3.5]  #\n",
    "\n",
    "x2 = [1.1,2,3, 4,5.1,6]  #\n",
    "ydata2 = [2.2,1.6,2.3,2.0,2.3,2.1]  #\n",
    "\n",
    "plt.scatter(x, ydata)\n",
    "plt.scatter(x2, ydata2)\n",
    "plt.show()"
   ]
  },
  {
   "cell_type": "code",
   "execution_count": null,
   "metadata": {},
   "outputs": [],
   "source": [
    "# ws8 \n",
    "age = [18,17,20,18,18,17,19,21,18,17,18,17,18,18,19,19,18,17]\n",
    "\n",
    "plt.hist(age)\n",
    "plt.show()"
   ]
  },
  {
   "cell_type": "code",
   "execution_count": null,
   "metadata": {},
   "outputs": [],
   "source": [
    "\n",
    "import pandas as pd\n",
    "df = pd.DataFrame(age, columns=['Age'])\n",
    "\n",
    "df.head()\n",
    "df.Age.value_counts() \n"
   ]
  },
  {
   "cell_type": "code",
   "execution_count": null,
   "metadata": {},
   "outputs": [],
   "source": [
    "# \n",
    "import numpy as np\n",
    "wt = np.random.normal(10, 2.5, 5000)\n",
    "\n",
    "plt.hist(wt,bins=50)\n",
    "plt.show()"
   ]
  },
  {
   "cell_type": "code",
   "execution_count": null,
   "metadata": {},
   "outputs": [],
   "source": [
    "wt[:10]"
   ]
  },
  {
   "cell_type": "code",
   "execution_count": null,
   "metadata": {},
   "outputs": [],
   "source": [
    "# ws9 boxplot\n",
    "\n",
    "age = [18,17,20,18,18,17,19,21,18,17,18,17,18,18,19,19,18,17,22] \n",
    "plt.boxplot(age)\n",
    "plt.rcParams.update({'font.size':10})\n",
    "plt.grid()\n",
    "plt.show()"
   ]
  },
  {
   "cell_type": "code",
   "execution_count": null,
   "metadata": {},
   "outputs": [],
   "source": [
    "# np.mean(age)\n",
    "ds = pd.Series(age)\n",
    "ds.describe()"
   ]
  },
  {
   "cell_type": "code",
   "execution_count": 2,
   "metadata": {},
   "outputs": [
    {
     "data": {
      "image/png": "[encoded data removed]",
      "text/plain": [
       "<Figure size 432x288 with 1 Axes>"
      ]
     },
     "metadata": {
      "needs_background": "light"
     },
     "output_type": "display_data"
    }
   ],
   "source": [
    "# ws10\n",
    "from matplotlib import pyplot as plt \n",
    "x = [1, 2, 3, 4, 5, 6]\n",
    "ydata = [1,2.8,2.1,4,3,3.5]\n",
    "ydata2 = [2.2, 1.6, 2.3, 2, 2.3, 2.1]\n",
    "\n",
    "plt.rcParams.update({'font.size':12, 'font.family':'tahoma'})\n",
    "plt.figure(figsize=(6, 4))\n",
    "\n",
    "plt.grid(linestyle='--', axis='y')\n",
    "# plt.grid(linestyle='--')\n",
    "plt.bar(x, ydata, color='c', width=0.5, label='ในประเทศ')\n",
    "plt.bar([x + 0.2 for x in xs], \n",
    "        ydata2, width=0.5, color='orange', alpha=0.8, label='ส่งออก')\n",
    "\n",
    "plt.plot(x, ydata, color='b', marker='s', markersize=8)\n",
    "plt.plot(x, ydata2, color='r', marker='o', markersize=8) # 'r'\n",
    "\n",
    "plt.xlabel(\"เดือน\")\n",
    "plt.ylabel(\"ยอดขาย\")\n",
    "plt.title(\"รายงาน Sales Report\")\n",
    "\n",
    "for tx,ty in list(zip(x, ydata)): \n",
    "    plt.annotate(ty, \n",
    "                 (tx, ty), \n",
    "                 textcoords=\"offset points\", \n",
    "                 xytext=(0, 8), \n",
    "                 ha='center',\n",
    "                 fontsize=12) \n",
    "\n",
    "plt.legend()\n",
    "plt.ylim(0, 4.5)\n",
    "\n",
    "plt.show()"
   ]
  },
  {
   "cell_type": "code",
   "execution_count": null,
   "metadata": {},
   "outputs": [],
   "source": [
    "# ws11\n",
    "\n",
    "import pandas as pd\n",
    "\n",
    "uri = 'data/score_ageb.xlsx'\n",
    "df = pd.read_excel(uri)\n",
    "df.head()"
   ]
  },
  {
   "cell_type": "code",
   "execution_count": null,
   "metadata": {},
   "outputs": [],
   "source": [
    "df.plot.bar()"
   ]
  },
  {
   "cell_type": "code",
   "execution_count": null,
   "metadata": {},
   "outputs": [],
   "source": [
    "# \n",
    "cols = ['Age', 'Score']   #\n",
    "df[cols].plot.bar()"
   ]
  },
  {
   "cell_type": "code",
   "execution_count": null,
   "metadata": {},
   "outputs": [],
   "source": [
    "df.plot.area()"
   ]
  },
  {
   "cell_type": "code",
   "execution_count": null,
   "metadata": {},
   "outputs": [],
   "source": [
    "df.plot.scatter('Age', 'Score')"
   ]
  },
  {
   "cell_type": "code",
   "execution_count": null,
   "metadata": {},
   "outputs": [],
   "source": [
    "df[cols].plot.box()"
   ]
  },
  {
   "cell_type": "code",
   "execution_count": null,
   "metadata": {},
   "outputs": [],
   "source": [
    "df.hist('Score', bins=15)\n",
    "plt.show()"
   ]
  },
  {
   "cell_type": "code",
   "execution_count": null,
   "metadata": {},
   "outputs": [],
   "source": [
    "df.hist('Score',by='Section',bins=15)\n",
    "plt.show()"
   ]
  },
  {
   "cell_type": "code",
   "execution_count": null,
   "metadata": {},
   "outputs": [],
   "source": [
    "df.hist()\n",
    "plt.show()"
   ]
  },
  {
   "cell_type": "code",
   "execution_count": null,
   "metadata": {},
   "outputs": [],
   "source": []
  }
 ],
 "metadata": {
  "kernelspec": {
   "display_name": "Python 3",
   "language": "python",
   "name": "python3"
  },
  "language_info": {
   "codemirror_mode": {
    "name": "ipython",
    "version": 3
   },
   "file_extension": ".py",
   "mimetype": "text/x-python",
   "name": "python",
   "nbconvert_exporter": "python",
   "pygments_lexer": "ipython3",
   "version": "3.7.4"
  }
 },
 "nbformat": 4,
 "nbformat_minor": 4
}
