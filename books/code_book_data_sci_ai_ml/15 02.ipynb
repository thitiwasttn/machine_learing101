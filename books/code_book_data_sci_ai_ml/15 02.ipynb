{
 "cells": [
  {
   "cell_type": "code",
   "execution_count": null,
   "metadata": {},
   "outputs": [],
   "source": [
    "X = [[27],                                                              \n",
    "     [35],                                                              \n",
    "     [39],                                                              \n",
    "     [21],                                                              \n",
    "     [22],                                                                   \n",
    "     [45],\n",
    "     [102],\n",
    "     [110],\n",
    "     [120] ]                                                              \n",
    "\n",
    "y_names = ['lemon', 'orange', 'orange', 'lemon', 'lemon', 'orange', 'pamelo', 'pamelo', 'pamelo']\n",
    "y = [0, 1, 1, 0, 0, 1, 2, 2, 2]"
   ]
  },
  {
   "cell_type": "code",
   "execution_count": null,
   "metadata": {},
   "outputs": [],
   "source": [
    "from sklearn.preprocessing import LabelEncoder\n"
   ]
  },
  {
   "cell_type": "code",
   "execution_count": null,
   "metadata": {},
   "outputs": [],
   "source": [
    "y_le = LabelEncoder()\n",
    "y = y_le.fit_transform(y_names)\n",
    "y"
   ]
  },
  {
   "cell_type": "code",
   "execution_count": null,
   "metadata": {},
   "outputs": [],
   "source": [
    "class_names = list(y_le.classes_)  # class names or fruit_types\n",
    "class_names"
   ]
  },
  {
   "cell_type": "code",
   "execution_count": null,
   "metadata": {},
   "outputs": [],
   "source": [
    "X"
   ]
  },
  {
   "cell_type": "code",
   "execution_count": null,
   "metadata": {},
   "outputs": [],
   "source": [
    "y"
   ]
  },
  {
   "cell_type": "code",
   "execution_count": null,
   "metadata": {},
   "outputs": [],
   "source": [
    "from sklearn.tree import DecisionTreeClassifier\n",
    "from sklearn.preprocessing import LabelEncoder\n",
    "\n",
    "X = [[27],                                                              \n",
    "     [35],                                                              \n",
    "     [39],                                                              \n",
    "     [21],                                                              \n",
    "     [22],                                                                   \n",
    "     [45],\n",
    "     [102],\n",
    "     [110],\n",
    "     [120],\n",
    "    ]                                                              \n",
    "\n",
    "y_names = ['lemon', 'orange', 'orange', 'lemon', 'lemon', 'orange', 'pamelo', 'pamelo', 'Pamelo']\n",
    "\n",
    "# y = [0, 1, 1, 0, 0, 1, 2, 2, 2]\n",
    "y_le = LabelEncoder()\n",
    "\n",
    "y = y_le.fit_transform(y_names)\n",
    "\n",
    "class_names = list(y_le.classes_)  # class names or fruit_types\n",
    "print('all class: {}'. format(class_names))\n",
    "\n",
    "model = DecisionTreeClassifier()\n",
    "model.fit(X, y)\n",
    "\n",
    "data = [[125]] # ทดสอบ \n",
    "y_predict = model.predict(data)\n",
    "\n",
    "prd = class_names[y_predict[0]]\n",
    "print('Result: size {} -> {}'. format(data[0],prd))"
   ]
  },
  {
   "cell_type": "code",
   "execution_count": null,
   "metadata": {},
   "outputs": [],
   "source": [
    "data_feature_names = ['size']\n",
    "fruit_types = class_names \n",
    "\n",
    "import pydotplus\n",
    "from sklearn.tree import export_graphviz\n",
    "from IPython.display import Image\n",
    "\n",
    "dot_data = export_graphviz(model, out_file=None, \n",
    "                           feature_names=data_feature_names,  \n",
    "                           class_names=fruit_types, # \n",
    "                           filled=True,\n",
    "                           rounded=True)\n",
    "\n",
    "\n",
    "graph = pydotplus.graph_from_dot_data(dot_data)  \n",
    "Image(graph.create_png())"
   ]
  },
  {
   "cell_type": "code",
   "execution_count": null,
   "metadata": {},
   "outputs": [],
   "source": []
  }
 ],
 "metadata": {
  "kernelspec": {
   "display_name": "Python 3",
   "language": "python",
   "name": "python3"
  },
  "language_info": {
   "codemirror_mode": {
    "name": "ipython",
    "version": 3
   },
   "file_extension": ".py",
   "mimetype": "text/x-python",
   "name": "python",
   "nbconvert_exporter": "python",
   "pygments_lexer": "ipython3",
   "version": "3.7.1"
  }
 },
 "nbformat": 4,
 "nbformat_minor": 2
}
