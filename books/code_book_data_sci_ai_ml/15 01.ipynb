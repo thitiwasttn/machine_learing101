{
 "cells": [
  {
   "cell_type": "code",
   "execution_count": 1,
   "metadata": {},
   "outputs": [],
   "source": [
    "# ws01\n",
    "X = [[27],                                                              \n",
    "     [35],                                                              \n",
    "     [39],                                                              \n",
    "     [21],                                                              \n",
    "     [22],                                                                   \n",
    "     [45]]                                                              \n",
    "\n",
    "y_names = ['lemon', 'orange', 'orange', 'lemon', 'lemon', 'orange']\n",
    "y = [0, 1, 1, 0, 0, 1]"
   ]
  },
  {
   "cell_type": "code",
   "execution_count": 2,
   "metadata": {},
   "outputs": [
    {
     "data": {
      "image/png": "[encoded data removed]",
      "text/plain": [
       "<Figure size 288x216 with 1 Axes>"
      ]
     },
     "metadata": {
      "needs_background": "light"
     },
     "output_type": "display_data"
    }
   ],
   "source": [
    "import matplotlib.pyplot as plt\n",
    "%matplotlib inline\n",
    "plt.figure(figsize=(4,3))\n",
    "\n",
    "plt.xlabel('fruit')\n",
    "plt.ylabel('size')\n",
    "\n",
    "plt.scatter(y_names, X)\n",
    "plt.show()"
   ]
  },
  {
   "cell_type": "code",
   "execution_count": 3,
   "metadata": {},
   "outputs": [
    {
     "data": {
      "text/plain": [
       "DecisionTreeClassifier(class_weight=None, criterion='gini', max_depth=None,\n",
       "            max_features=None, max_leaf_nodes=None,\n",
       "            min_impurity_decrease=0.0, min_impurity_split=None,\n",
       "            min_samples_leaf=1, min_samples_split=2,\n",
       "            min_weight_fraction_leaf=0.0, presort=False, random_state=None,\n",
       "            splitter='best')"
      ]
     },
     "execution_count": 3,
     "metadata": {},
     "output_type": "execute_result"
    }
   ],
   "source": [
    "from sklearn.tree import DecisionTreeClassifier\n",
    "model = DecisionTreeClassifier()\n",
    "\n",
    "model.fit(X, y)"
   ]
  },
  {
   "cell_type": "code",
   "execution_count": 4,
   "metadata": {},
   "outputs": [
    {
     "name": "stdout",
     "output_type": "stream",
     "text": [
      "Result = 0\n"
     ]
    }
   ],
   "source": [
    "data = [[25]]\n",
    "y_predict = model.predict(data)\n",
    "print('Result =', y_predict[0] )"
   ]
  },
  {
   "cell_type": "code",
   "execution_count": 5,
   "metadata": {},
   "outputs": [],
   "source": [
    "class_names = ['lemon','orange']"
   ]
  },
  {
   "cell_type": "code",
   "execution_count": 6,
   "metadata": {},
   "outputs": [
    {
     "name": "stdout",
     "output_type": "stream",
     "text": [
      "Result : lemon\n"
     ]
    }
   ],
   "source": [
    "data = [[25]]\n",
    "y_predict = model.predict(data)\n",
    "\n",
    "prd = class_names[y_predict[0]]\n",
    "print('Result : {}'. format(prd))"
   ]
  },
  {
   "cell_type": "code",
   "execution_count": 7,
   "metadata": {},
   "outputs": [
    {
     "name": "stdout",
     "output_type": "stream",
     "text": [
      "Result : orange\n"
     ]
    }
   ],
   "source": [
    "data = [[35.3]]\n",
    "y_predict = model.predict(data)\n",
    "\n",
    "prd = class_names[y_predict[0]]\n",
    "print('Result : {}'. format(prd))"
   ]
  },
  {
   "cell_type": "code",
   "execution_count": 8,
   "metadata": {},
   "outputs": [
    {
     "name": "stdout",
     "output_type": "stream",
     "text": [
      "Result:\n",
      "orange\n",
      "lemon\n",
      "lemon\n",
      "orange\n"
     ]
    }
   ],
   "source": [
    "data = [[32],\n",
    "         [25],\n",
    "         [21],\n",
    "         [38]]\n",
    "y_predict = model.predict(data)\n",
    "y_predict\n",
    "\n",
    "print('Result:')\n",
    "for i in y_predict:\n",
    "    print(class_names[i])"
   ]
  },
  {
   "cell_type": "code",
   "execution_count": null,
   "metadata": {},
   "outputs": [],
   "source": [
    "\n",
    "while True:\n",
    "    size = eval(input(\"Size : \"))\n",
    "    data = [size]\n",
    "    y_predict = model.predict([data])\n",
    "    result = class_names[y_predict[0]]\n",
    "    print(result)\n",
    "    if (result == 'lemon'):\n",
    "        print('<--- Push to Lemon Basket')\n",
    "    else:\n",
    "        print('Push to Orange Basket --->')        \n",
    "    \n",
    "print('done')"
   ]
  },
  {
   "cell_type": "code",
   "execution_count": null,
   "metadata": {},
   "outputs": [],
   "source": []
  },
  {
   "cell_type": "code",
   "execution_count": 9,
   "metadata": {},
   "outputs": [
    {
     "data": {
      "text/plain": [
       "DecisionTreeClassifier(class_weight=None, criterion='gini', max_depth=None,\n",
       "            max_features=None, max_leaf_nodes=None,\n",
       "            min_impurity_decrease=0.0, min_impurity_split=None,\n",
       "            min_samples_leaf=1, min_samples_split=2,\n",
       "            min_weight_fraction_leaf=0.0, presort=False, random_state=None,\n",
       "            splitter='best')"
      ]
     },
     "execution_count": 9,
     "metadata": {},
     "output_type": "execute_result"
    }
   ],
   "source": [
    "# ws02\n",
    "model"
   ]
  },
  {
   "cell_type": "code",
   "execution_count": 10,
   "metadata": {},
   "outputs": [
    {
     "data": {
      "image/png": "[encoded data removed]",
      "text/plain": [
       "<IPython.core.display.Image object>"
      ]
     },
     "execution_count": 10,
     "metadata": {},
     "output_type": "execute_result"
    }
   ],
   "source": [
    "data_feature_names = ['size']\n",
    "fruit_types = ['lemon','orange'] \n",
    "\n",
    "import pydotplus\n",
    "\n",
    "from sklearn.tree import export_graphviz\n",
    "from IPython.display import Image\n",
    "\n",
    "dot_data = export_graphviz(model, out_file=None, \n",
    "                           feature_names=data_feature_names,  \n",
    "                           class_names=fruit_types, # \n",
    "                           filled=True,\n",
    "                           rounded=True)\n",
    "\n",
    "\n",
    "graph = pydotplus.graph_from_dot_data(dot_data)  \n",
    "Image(graph.create_png())"
   ]
  },
  {
   "cell_type": "code",
   "execution_count": 11,
   "metadata": {},
   "outputs": [],
   "source": [
    "# ws03\n",
    "X = [[27],                                                              \n",
    "     [35],                                                              \n",
    "     [39],                                                              \n",
    "     [21],                                                              \n",
    "     [22],                                                                   \n",
    "     [45],\n",
    "     [102],\n",
    "     [110],\n",
    "     [120] ]                                                              \n",
    "\n",
    "y_names = ['lemon', 'orange', 'orange', 'lemon', 'lemon', 'orange', 'pamelo', 'pamelo', 'pamelo']\n",
    "y = [0, 1, 1, 0, 0, 1, 2, 2, 2]"
   ]
  },
  {
   "cell_type": "code",
   "execution_count": 12,
   "metadata": {},
   "outputs": [
    {
     "data": {
      "image/png": "[encoded data removed]",
      "text/plain": [
       "<Figure size 432x288 with 1 Axes>"
      ]
     },
     "metadata": {
      "needs_background": "light"
     },
     "output_type": "display_data"
    }
   ],
   "source": [
    "plt.xlabel('fruit')\n",
    "plt.ylabel('size')\n",
    "\n",
    "plt.scatter(y_names, X)\n",
    "plt.show()"
   ]
  },
  {
   "cell_type": "code",
   "execution_count": 13,
   "metadata": {},
   "outputs": [
    {
     "data": {
      "text/plain": [
       "DecisionTreeClassifier(class_weight=None, criterion='gini', max_depth=None,\n",
       "            max_features=None, max_leaf_nodes=None,\n",
       "            min_impurity_decrease=0.0, min_impurity_split=None,\n",
       "            min_samples_leaf=1, min_samples_split=2,\n",
       "            min_weight_fraction_leaf=0.0, presort=False, random_state=None,\n",
       "            splitter='best')"
      ]
     },
     "execution_count": 13,
     "metadata": {},
     "output_type": "execute_result"
    }
   ],
   "source": [
    "model.fit(X, y)"
   ]
  },
  {
   "cell_type": "code",
   "execution_count": 14,
   "metadata": {},
   "outputs": [],
   "source": [
    "class_names = ['lemon','orange', 'pamelo']"
   ]
  },
  {
   "cell_type": "code",
   "execution_count": 15,
   "metadata": {},
   "outputs": [
    {
     "name": "stdout",
     "output_type": "stream",
     "text": [
      "Result : lemon\n"
     ]
    }
   ],
   "source": [
    "data = [[25]]\n",
    "y_predict = model.predict(data)\n",
    "\n",
    "prd = class_names[y_predict[0]]\n",
    "print('Result : {}'. format(prd))"
   ]
  },
  {
   "cell_type": "code",
   "execution_count": 16,
   "metadata": {},
   "outputs": [
    {
     "name": "stdout",
     "output_type": "stream",
     "text": [
      "Result : orange\n"
     ]
    }
   ],
   "source": [
    "data = [[43]]\n",
    "y_predict = model.predict(data)\n",
    "\n",
    "prd = class_names[y_predict[0]]\n",
    "print('Result : {}'. format(prd))"
   ]
  },
  {
   "cell_type": "code",
   "execution_count": 17,
   "metadata": {},
   "outputs": [
    {
     "name": "stdout",
     "output_type": "stream",
     "text": [
      "Result : pamelo\n"
     ]
    }
   ],
   "source": [
    "data = [[104]]\n",
    "y_predict = model.predict(data)\n",
    "\n",
    "prd = class_names[y_predict[0]]\n",
    "print('Result : {}'. format(prd))"
   ]
  },
  {
   "cell_type": "code",
   "execution_count": 18,
   "metadata": {},
   "outputs": [
    {
     "data": {
      "image/png": "[encoded data removed]",
      "text/plain": [
       "<IPython.core.display.Image object>"
      ]
     },
     "execution_count": 18,
     "metadata": {},
     "output_type": "execute_result"
    }
   ],
   "source": [
    "data_feature_names = ['size']\n",
    "fruit_types = ['lemon','orange','pamelo'] \n",
    "\n",
    "import pydotplus\n",
    "\n",
    "from sklearn.tree import export_graphviz\n",
    "from IPython.display import Image\n",
    "\n",
    "dot_data = export_graphviz(model, out_file=None, \n",
    "                           feature_names=data_feature_names,  \n",
    "                           class_names=fruit_types, # \n",
    "                           filled=True,\n",
    "                           rounded=True)\n",
    "\n",
    "\n",
    "graph = pydotplus.graph_from_dot_data(dot_data)  \n",
    "Image(graph.create_png())"
   ]
  },
  {
   "cell_type": "code",
   "execution_count": null,
   "metadata": {},
   "outputs": [],
   "source": []
  }
 ],
 "metadata": {
  "kernelspec": {
   "display_name": "Python 3",
   "language": "python",
   "name": "python3"
  },
  "language_info": {
   "codemirror_mode": {
    "name": "ipython",
    "version": 3
   },
   "file_extension": ".py",
   "mimetype": "text/x-python",
   "name": "python",
   "nbconvert_exporter": "python",
   "pygments_lexer": "ipython3",
   "version": "3.7.1"
  }
 },
 "nbformat": 4,
 "nbformat_minor": 2
}
