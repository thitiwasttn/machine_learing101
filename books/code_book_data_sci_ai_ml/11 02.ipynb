{
 "cells": [
  {
   "cell_type": "code",
   "execution_count": null,
   "metadata": {},
   "outputs": [],
   "source": [
    "# ws11\n",
    "\n",
    "%matplotlib inline\n",
    "\n",
    "import matplotlib.pyplot as plt\n",
    "import pandas as pd\n",
    "import seaborn as sns\n",
    "import numpy as np\n",
    "\n",
    "pd.options.display.float_format = '{:,.2f}'.format #\n",
    "\n",
    "x = [1,2  ,3,3.2,4  ,5,6  ,8.5,7   ,9 ,10,11,12,4.9 ]\n",
    "y = [1,2.5,3,5.7,4.9,5,5.5,6.3,7.3 ,9 ,11,10,12,11.5]\n",
    "data = list(zip(x,y))\n",
    "\n",
    "df = pd.DataFrame(data, columns=['x','y'])\n",
    "df"
   ]
  },
  {
   "cell_type": "code",
   "execution_count": null,
   "metadata": {},
   "outputs": [],
   "source": [
    "sns.set_style('whitegrid')\n",
    "plt.rcParams.update({'font.size':12})\n",
    "\n",
    "plt.figure(figsize=(5,4))\n",
    "sns.scatterplot(x='x',y='y',data=df, s=100)\n",
    "plt.show()"
   ]
  },
  {
   "cell_type": "code",
   "execution_count": null,
   "metadata": {},
   "outputs": [],
   "source": [
    "sns.boxplot(df.x, width=0.4)\n",
    "plt.show()"
   ]
  },
  {
   "cell_type": "code",
   "execution_count": null,
   "metadata": {},
   "outputs": [],
   "source": [
    "sns.boxplot(df.y, width=0.4)\n",
    "plt.show()"
   ]
  },
  {
   "cell_type": "code",
   "execution_count": null,
   "metadata": {},
   "outputs": [],
   "source": [
    "# ws12\n",
    "from sklearn.preprocessing import MinMaxScaler\n",
    "\n",
    "scaler = MinMaxScaler()\n",
    "d_arr = scaler.fit_transform(data)\n",
    "\n",
    "from sklearn.cluster import DBSCAN\n",
    "outlier_detection = DBSCAN(\n",
    "  eps = 0.24,\n",
    "  metric='euclidean',\n",
    "  min_samples = 3, \n",
    "  n_jobs = -1)\n",
    "\n",
    "clusters = outlier_detection.fit_predict(d_arr)\n",
    "print('Outliers found:',list(clusters).count(-1))\n",
    "\n",
    "clusters"
   ]
  },
  {
   "cell_type": "code",
   "execution_count": null,
   "metadata": {},
   "outputs": [],
   "source": [
    "df['cluster'] = clusters\n",
    "df['outlier'] = np.where(df.cluster == -1, True, False)\n",
    "df"
   ]
  },
  {
   "cell_type": "code",
   "execution_count": null,
   "metadata": {},
   "outputs": [],
   "source": [
    "df.groupby('cluster').cluster.count()"
   ]
  },
  {
   "cell_type": "code",
   "execution_count": null,
   "metadata": {},
   "outputs": [],
   "source": [
    "sns.scatterplot('x','y', data=df, hue='outlier',s=100) # , palette='coolwarm'\n",
    "plt.show()\n",
    "\n",
    "sns.scatterplot('x','y', data=df, style='outlier', palette='Set1', s=100)\n",
    "plt.title('eps:0.5   min_samples:9')\n",
    "plt.show()"
   ]
  },
  {
   "cell_type": "code",
   "execution_count": null,
   "metadata": {},
   "outputs": [],
   "source": [
    "df"
   ]
  },
  {
   "cell_type": "code",
   "execution_count": null,
   "metadata": {},
   "outputs": [],
   "source": [
    "df[df.outlier == True]"
   ]
  },
  {
   "cell_type": "code",
   "execution_count": null,
   "metadata": {},
   "outputs": [],
   "source": [
    "df = df[df.cluster > -1]\n",
    "df.shape"
   ]
  },
  {
   "cell_type": "code",
   "execution_count": null,
   "metadata": {},
   "outputs": [],
   "source": [
    "plt.figure(figsize=(5,4))\n",
    "sns.scatterplot('x','y', data=df, s=100)\n",
    "plt.show()"
   ]
  },
  {
   "cell_type": "code",
   "execution_count": null,
   "metadata": {},
   "outputs": [],
   "source": []
  }
 ],
 "metadata": {
  "kernelspec": {
   "display_name": "Python 3",
   "language": "python",
   "name": "python3"
  },
  "language_info": {
   "codemirror_mode": {
    "name": "ipython",
    "version": 3
   },
   "file_extension": ".py",
   "mimetype": "text/x-python",
   "name": "python",
   "nbconvert_exporter": "python",
   "pygments_lexer": "ipython3",
   "version": "3.7.1"
  }
 },
 "nbformat": 4,
 "nbformat_minor": 2
}
