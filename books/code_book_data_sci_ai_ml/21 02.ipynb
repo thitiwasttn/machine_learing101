{
 "cells": [
  {
   "cell_type": "code",
   "execution_count": null,
   "metadata": {},
   "outputs": [],
   "source": [
    "# ws05\n",
    "\n",
    "import pandas as pd\n",
    "import seaborn as sns\n",
    "import matplotlib.pyplot as plt\n",
    "from time import time\n"
   ]
  },
  {
   "cell_type": "code",
   "execution_count": null,
   "metadata": {},
   "outputs": [],
   "source": [
    "df = sns.load_dataset('iris')\n",
    "df.head()"
   ]
  },
  {
   "cell_type": "code",
   "execution_count": null,
   "metadata": {},
   "outputs": [],
   "source": [
    "X = df.drop('species', axis=1)\n",
    "X.head() "
   ]
  },
  {
   "cell_type": "code",
   "execution_count": null,
   "metadata": {},
   "outputs": [],
   "source": [
    "y = df.species\n",
    "y.head()"
   ]
  },
  {
   "cell_type": "code",
   "execution_count": null,
   "metadata": {},
   "outputs": [],
   "source": [
    "from sklearn.preprocessing import StandardScaler\n",
    "\n",
    "sc = StandardScaler()\n",
    "X_sc = sc.fit_transform(X)\n",
    "\n",
    "sc_df = pd.DataFrame(X_sc, columns=['SL', 'SW', 'PL','PW'])\n",
    "sc_df.head()"
   ]
  },
  {
   "cell_type": "code",
   "execution_count": null,
   "metadata": {},
   "outputs": [],
   "source": [
    "df.describe().round(2)"
   ]
  },
  {
   "cell_type": "code",
   "execution_count": null,
   "metadata": {},
   "outputs": [],
   "source": [
    "sc_df.describe().round(2)"
   ]
  },
  {
   "cell_type": "code",
   "execution_count": null,
   "metadata": {},
   "outputs": [],
   "source": [
    "sns.set()\n",
    "fig, (ax1, ax2) = plt.subplots(ncols=2, figsize=(10, 4))\n",
    "\n",
    "ax1.set_title('Before Standard Scale: (X)')\n",
    "sns.kdeplot(df['sepal_length'], ax=ax1, label='SL')\n",
    "sns.kdeplot(df['sepal_width'], ax=ax1, label='SW')\n",
    "sns.kdeplot(df['petal_length'], ax=ax1, label='PL')\n",
    "sns.kdeplot(df['petal_width'], ax=ax1, label='PW')\n",
    "\n",
    "ax2.set_title('After Standard Scale: (X_sc)')\n",
    "sns.kdeplot(sc_df['SL'], ax=ax2)\n",
    "sns.kdeplot(sc_df['SW'], ax=ax2)\n",
    "sns.kdeplot(sc_df['PL'], ax=ax2)\n",
    "sns.kdeplot(sc_df['PW'], ax=ax2)\n",
    "plt.show()"
   ]
  },
  {
   "cell_type": "code",
   "execution_count": null,
   "metadata": {},
   "outputs": [],
   "source": [
    "sc_df['species'] = df.species #\n",
    "sns.set()\n",
    "fig, (ax1, ax2) = plt.subplots(ncols=2, figsize=(10, 4))\n",
    "\n",
    "ax1.set_title('Before Standard Scale: (df)')\n",
    "sns.scatterplot('sepal_length','sepal_width',data=df, hue='species', ax=ax1, s=60)\n",
    "\n",
    "ax2.set_title('After Standard Scale: (sc_df)')\n",
    "sns.scatterplot('SL','SW',data=sc_df, hue='species', ax=ax2, s=60)\n",
    "\n",
    "plt.savefig('std scale02',dpi=120)\n",
    "plt.show()"
   ]
  },
  {
   "cell_type": "markdown",
   "metadata": {},
   "source": [
    "### ws06"
   ]
  },
  {
   "cell_type": "code",
   "execution_count": null,
   "metadata": {},
   "outputs": [],
   "source": [
    "from sklearn.decomposition import PCA\n",
    "\n",
    "pca = PCA()\n",
    "X_pca = pca.fit_transform(X_sc)\n",
    "\n",
    "df['pca1'] = X_pca[:,0] # pca\n",
    "df['pca2'] = X_pca[:,1]\n",
    "df['pca3'] = X_pca[:,2]\n",
    "df['pca4'] = X_pca[:,3]\n",
    "df.head()"
   ]
  },
  {
   "cell_type": "code",
   "execution_count": null,
   "metadata": {},
   "outputs": [],
   "source": [
    "df.describe().round(2)"
   ]
  },
  {
   "cell_type": "code",
   "execution_count": null,
   "metadata": {},
   "outputs": [],
   "source": [
    "sns.set_style('whitegrid')\n",
    "fig, (ax1, ax2) = plt.subplots(ncols=2, figsize=(10, 4))\n",
    "\n",
    "ax1.set_title('Before PCA')\n",
    "\n",
    "sns.kdeplot(sc_df['SL'], ax=ax1)\n",
    "sns.kdeplot(sc_df['SW'], ax=ax1)\n",
    "sns.kdeplot(sc_df['PL'], ax=ax1)\n",
    "sns.kdeplot(sc_df['PW'], ax=ax1)\n",
    "ax1.grid(False)\n",
    "\n",
    "ax2.set_title('After PCA')\n",
    "\n",
    "sns.kdeplot(df['pca1'], ax=ax2)\n",
    "sns.kdeplot(df['pca2'], ax=ax2)\n",
    "sns.kdeplot(df['pca3'], ax=ax2)\n",
    "sns.kdeplot(df['pca4'], ax=ax2)\n",
    "ax2.grid(False)\n",
    "plt.show()"
   ]
  },
  {
   "cell_type": "code",
   "execution_count": null,
   "metadata": {},
   "outputs": [],
   "source": [
    "sns.set_style('whitegrid')\n",
    "\n",
    "plt.rcParams['figure.figsize'] = 5, 5\n",
    "sns.scatterplot('pca1', 'pca2', data=df, hue='species', s=90)\n",
    "plt.title('PCA 1-2')\n",
    "plt.show()"
   ]
  },
  {
   "cell_type": "code",
   "execution_count": null,
   "metadata": {},
   "outputs": [],
   "source": [
    "\n",
    "sns.scatterplot('pca1', 'pca3', data=df, hue='species', s=50)\n",
    "plt.title('PCA')\n",
    "plt.show()"
   ]
  },
  {
   "cell_type": "code",
   "execution_count": null,
   "metadata": {},
   "outputs": [],
   "source": [
    "exp_variance = pca.explained_variance_ratio_\n",
    "exp_variance"
   ]
  },
  {
   "cell_type": "code",
   "execution_count": null,
   "metadata": {},
   "outputs": [],
   "source": [
    "sns.set()\n",
    "plt.rcParams['figure.figsize'] = 4, 4\n",
    "\n",
    "x = list(range(1, len(exp_variance)+1))\n",
    "sns.lineplot(x, exp_variance, marker='s', markersize=8)\n",
    "plt.xticks(x)\n",
    "\n",
    "plt.title('Explained Varience')\n",
    "plt.xlabel('Number of components')\n",
    "\n",
    "plt.show()"
   ]
  },
  {
   "cell_type": "code",
   "execution_count": null,
   "metadata": {},
   "outputs": [],
   "source": [
    "import numpy as np\n",
    "sns.set()\n",
    "\n",
    "plt.rcParams['figure.figsize'] = 4, 4\n",
    "\n",
    "x = list(range(1, len(exp_variance)+1))\n",
    "plt.plot(x, np.cumsum(pca.explained_variance_ratio_))\n",
    "plt.xticks(x)\n",
    "plt.xlabel('Number of components')\n",
    "plt.ylabel('Cumulative Explained Variance');\n",
    "plt.title('Cumulative Explained Variance');\n",
    "\n",
    "plt.show()"
   ]
  },
  {
   "cell_type": "code",
   "execution_count": null,
   "metadata": {},
   "outputs": [],
   "source": [
    "np.cumsum(pca.explained_variance_ratio_)"
   ]
  },
  {
   "cell_type": "code",
   "execution_count": null,
   "metadata": {},
   "outputs": [],
   "source": [
    "x"
   ]
  },
  {
   "cell_type": "code",
   "execution_count": null,
   "metadata": {},
   "outputs": [],
   "source": [
    "pca_num = PCA(.95)\n",
    "pca_num.fit(X)\n",
    "pca_num.n_components_"
   ]
  },
  {
   "cell_type": "code",
   "execution_count": null,
   "metadata": {},
   "outputs": [],
   "source": [
    "from sklearn.model_selection import train_test_split\n",
    "\n",
    "X_train, X_test,y_train,y_test = train_test_split(X, y, test_size=0.2, random_state=0) # "
   ]
  },
  {
   "cell_type": "code",
   "execution_count": null,
   "metadata": {},
   "outputs": [],
   "source": [
    "X_train.shape, y_train.shape"
   ]
  },
  {
   "cell_type": "code",
   "execution_count": null,
   "metadata": {},
   "outputs": [],
   "source": [
    "# X_train.head()\n",
    "X_train[:3] #.head()"
   ]
  },
  {
   "cell_type": "code",
   "execution_count": null,
   "metadata": {},
   "outputs": [],
   "source": [
    "pca = PCA()\n",
    "\n",
    "pca = PCA(n_components=2)\n",
    "\n",
    "start = time()\n",
    "pca.fit(X_sc)\n",
    "\n",
    "X_train_sc = sc.transform(X_train)\n",
    "X_train_pca = pca.transform(X_train_sc) \n",
    "\n",
    "X_test_sc = sc.transform(X_test)\n",
    "X_test_pca = pca.transform(X_test_sc)\n",
    "\n",
    "print('{:.5f} sec' . format(time() - start))\n",
    "\n",
    "X_train_pca.shape, X_test_pca.shape"
   ]
  },
  {
   "cell_type": "code",
   "execution_count": null,
   "metadata": {},
   "outputs": [],
   "source": [
    "\n",
    "from sklearn.svm import SVC\n",
    "\n",
    "model = SVC(kernel='linear') \n",
    "\n",
    "start = time()\n",
    "model.fit(X_train_pca, y_train)\n",
    "print('{:.5f} sec' . format(time() - start))\n",
    "\n",
    "y_pred = model.predict(X_test_pca)"
   ]
  },
  {
   "cell_type": "code",
   "execution_count": null,
   "metadata": {},
   "outputs": [],
   "source": [
    "from sklearn.metrics import confusion_matrix\n",
    "from sklearn.metrics import classification_report\n",
    "from sklearn.metrics import accuracy_score # may use score of the model\n",
    "\n",
    "cm = confusion_matrix(y_test, y_pred)\n",
    "\n",
    "print('Accuracy {:.3f}'.format(accuracy_score(y_test, y_pred)))\n",
    "print(cm)"
   ]
  },
  {
   "cell_type": "code",
   "execution_count": null,
   "metadata": {},
   "outputs": [],
   "source": [
    "from sklearn.model_selection import cross_val_score\n",
    "\n",
    "X_pca = pca.transform(X_sc)\n",
    "\n",
    "cvs = cross_val_score(model, X_pca, y, cv=10)  \n",
    "print('cross val scores {}'.format(cvs.round(2)))\n",
    "print('Average (%) = {:.2f}' .format(cvs.mean() * 100 ))"
   ]
  },
  {
   "cell_type": "code",
   "execution_count": null,
   "metadata": {},
   "outputs": [],
   "source": [
    "pca"
   ]
  },
  {
   "cell_type": "code",
   "execution_count": null,
   "metadata": {},
   "outputs": [],
   "source": [
    "# Predict\n",
    "\n",
    "X_pca = pca.transform(X_sc)\n",
    "model.fit(X_pca, y) # again because you run cross val score\n",
    "\n",
    "X_new = [\n",
    "         [4.8,3.1,1.6,0.4],\n",
    "         [6.8,3.1,4.6,1.4],\n",
    "         [6.6,3.1,5,2]\n",
    "        ]\n",
    "\n",
    "X_new_sc = sc.transform(X_new)\n",
    "X_new_pca = pca.transform(X_new_sc)\n",
    "y_pred = model.predict(X_new_pca)\n",
    "print(y_pred) "
   ]
  },
  {
   "cell_type": "code",
   "execution_count": null,
   "metadata": {},
   "outputs": [],
   "source": [
    "# pipe\n",
    "from sklearn.pipeline import Pipeline\n",
    "\n",
    "n_comp = 3\n",
    "pipe = Pipeline([\n",
    "                 ('scaler', StandardScaler()),\n",
    "                 ('pca', PCA(n_components=n_comp)),\n",
    "                 ('linsvc', SVC(kernel='linear'))\n",
    "               ])\n",
    "\n",
    "pipe.fit(X_train, y_train)\n",
    "X_new = [\n",
    "         [4.8,3.1,1.6,0.4],\n",
    "         [6.8,3.1,4.6,1.4],\n",
    "         [6.6,3.1,5,2]\n",
    "        ]\n",
    "print(pipe.predict(X_new))"
   ]
  },
  {
   "cell_type": "code",
   "execution_count": null,
   "metadata": {},
   "outputs": [],
   "source": [
    "from sklearn.pipeline import Pipeline\n",
    "\n",
    "n_comp = 3\n",
    "pipe = Pipeline([\n",
    "                 ('scaler', StandardScaler()),\n",
    "                 ('pca', PCA(n_components=n_comp)),\n",
    "                 ('linsvc', SVC(kernel='linear'))\n",
    "               ])\n",
    "\n",
    "cvs = cross_val_score(pipe, X, y, cv=10)  # no need to use model.fit\n",
    "print('cross val scores {}'.format(cvs.round(2)))\n",
    "print('Average (%) = {:.2f}' .format(cvs.mean() * 100 ))"
   ]
  },
  {
   "cell_type": "code",
   "execution_count": null,
   "metadata": {},
   "outputs": [],
   "source": []
  }
 ],
 "metadata": {
  "kernelspec": {
   "display_name": "Python 3",
   "language": "python",
   "name": "python3"
  },
  "language_info": {
   "codemirror_mode": {
    "name": "ipython",
    "version": 3
   },
   "file_extension": ".py",
   "mimetype": "text/x-python",
   "name": "python",
   "nbconvert_exporter": "python",
   "pygments_lexer": "ipython3",
   "version": "3.7.1"
  }
 },
 "nbformat": 4,
 "nbformat_minor": 4
}
