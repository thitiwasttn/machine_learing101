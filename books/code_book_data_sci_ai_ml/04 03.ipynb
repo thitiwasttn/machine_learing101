{
 "cells": [
  {
   "cell_type": "code",
   "execution_count": null,
   "metadata": {},
   "outputs": [],
   "source": [
    "# ws13\n",
    "\n",
    "import pandas as pd\n",
    "uri = 'data/score_ageb.xlsx'\n",
    "df = pd.read_excel(uri)\n",
    "# df = pd.read_excel(uri, skiprows=[1,3])\n",
    "\n",
    "df.head()"
   ]
  },
  {
   "cell_type": "code",
   "execution_count": null,
   "metadata": {},
   "outputs": [],
   "source": [
    "uri = 'data/score_ageb.xlsx'\n",
    "df = pd.read_excel(uri)\n",
    "df = pd.read_excel(uri, index_col='Name')\n",
    "# df\n",
    "df.head()\n",
    "# df.tail()"
   ]
  },
  {
   "cell_type": "code",
   "execution_count": null,
   "metadata": {},
   "outputs": [],
   "source": [
    "# ws14 sheet name and skip header and use columns\n",
    "uri = 'data/score_ageb w header.xlsx'\n",
    "cols = 'a,c:d'\n",
    "cols = [0,2,3]\n",
    "# df = pd.read_excel( )\n",
    "\n",
    "df = pd.read_excel(uri, sheet_name='MySheet1', usecols=cols, header=3,\n",
    "                  index_col='Name')\n",
    "df.head()\n",
    "\n",
    "# df.loc['Tim']\n",
    "# df.loc['Tim']['Score']\n",
    "# df.loc['Tim']['Section']\n",
    "# df.sort_index()"
   ]
  },
  {
   "cell_type": "code",
   "execution_count": null,
   "metadata": {},
   "outputs": [],
   "source": [
    "# ws15\n",
    "uri = 'data/score_ageb.xlsx'\n",
    "mycolumns = ['Student','Math','Comp','Year']   # must match the number of columns\n",
    "\n",
    "# df = pd.read_excel(uri, index_col='Student', names=mycolumns) # ok\n",
    "df = pd.read_excel(uri, names=mycolumns, index_col='Student')  # ok\n",
    "# df\n",
    "# df.head()\n",
    "df.Comp\n",
    "df['Comp']\n",
    "df.Comp['Kobkiat']\n",
    "df['Comp']['Kobkiat']\n",
    "df.Math['ณิแนน']"
   ]
  },
  {
   "cell_type": "code",
   "execution_count": null,
   "metadata": {},
   "outputs": [],
   "source": [
    "# ws16\n",
    "uri = 'data/score_ageb no column.xlsx'\n",
    "mycolumns = ['Student','Math','Comp','Sec'] \n",
    "df = pd.read_excel(uri, header=None, names=mycolumns) # \n",
    "df.head()"
   ]
  },
  {
   "cell_type": "code",
   "execution_count": null,
   "metadata": {},
   "outputs": [],
   "source": [
    "# ws17\n",
    "uri = 'data/score_ageb.csv'\n",
    "\n",
    "df = pd.read_csv(uri)\n",
    "df = pd.read_csv(uri, encoding='utf-8')\n",
    "df.head()"
   ]
  },
  {
   "cell_type": "code",
   "execution_count": null,
   "metadata": {},
   "outputs": [],
   "source": [
    "uri = 'data/score_ageb.csv'\n",
    "\n",
    "df = pd.read_csv(uri, index_col='Name')\n",
    "df.head()"
   ]
  },
  {
   "cell_type": "code",
   "execution_count": null,
   "metadata": {},
   "outputs": [],
   "source": [
    "# ws18\n",
    "uri = 'data/score_ageb.csv'\n",
    "\n",
    "cols = ['Name','Score']\n",
    "# cols = [0,2]  # first column =0\n",
    "\n",
    "df = pd.read_csv(uri, usecols=cols) \n",
    "df.head()"
   ]
  },
  {
   "cell_type": "code",
   "execution_count": null,
   "metadata": {},
   "outputs": [],
   "source": [
    "# ws18\n",
    "uri = 'data/score_ageb.csv'\n",
    "\n",
    "cols = ['Name','Score']\n",
    "# cols = [0,2]  # first column =0\n",
    "\n",
    "df = pd.read_csv(uri, usecols=cols,  nrows=4, skiprows=[1,2])\n",
    "df.head()\n"
   ]
  },
  {
   "cell_type": "code",
   "execution_count": null,
   "metadata": {},
   "outputs": [],
   "source": [
    "# ws19 csv no column\n",
    "import pandas as pd\n",
    "\n",
    "uri = 'data/score_ageb no column.csv'\n",
    "columns = ['Student','Math','Comp','Year']\n",
    "df = pd.read_csv(uri, names=columns, index_col='Student')\n",
    "# df = pd.read_csv(uri)\n",
    "\n",
    "df.head()\n"
   ]
  },
  {
   "cell_type": "code",
   "execution_count": null,
   "metadata": {},
   "outputs": [],
   "source": [
    "# ws20\n",
    "uri = 'data/score_ageb.csv'\n",
    "df = pd.read_csv(uri)\n",
    "df.head()\n",
    "\n",
    "# df.tail()\n",
    "# df.sample(4)\n",
    "# mydf = df.sample(5).copy()\n",
    "# mydf\n",
    "\n",
    "# df.describe()\n",
    "\n",
    "# df.shape\n",
    "# df.index\n",
    "# df.columns\n",
    "# df.values"
   ]
  },
  {
   "cell_type": "code",
   "execution_count": null,
   "metadata": {},
   "outputs": [],
   "source": [
    "df.dtypes"
   ]
  },
  {
   "cell_type": "code",
   "execution_count": null,
   "metadata": {},
   "outputs": [],
   "source": [
    "# ws22\n",
    "df.describe()\n",
    "# df.Score.mean()\n",
    "# df.Score.max()\n",
    "# df.Score.min()\n",
    "# df.Score.count()\n",
    "# df.Score.std()"
   ]
  },
  {
   "cell_type": "code",
   "execution_count": null,
   "metadata": {},
   "outputs": [],
   "source": [
    "# ws23\n",
    "uri = 'data/score_ageb.csv'\n",
    "df = pd.read_csv(uri, dtype={'Section':str})\n",
    "df.dtypes"
   ]
  },
  {
   "cell_type": "code",
   "execution_count": null,
   "metadata": {},
   "outputs": [],
   "source": [
    "df.describe()"
   ]
  },
  {
   "cell_type": "code",
   "execution_count": null,
   "metadata": {},
   "outputs": [],
   "source": [
    "# ws23b\n",
    "uri = 'data/score_ageb.csv'\n",
    "df = pd.read_csv(uri)\n",
    "df.Section = df.Section.astype('category')\n",
    "df.dtypes\n",
    "# df.describe()"
   ]
  },
  {
   "cell_type": "code",
   "execution_count": null,
   "metadata": {},
   "outputs": [],
   "source": [
    "# ws24 \n",
    "uri = 'data/score_ageb.csv'\n",
    "df = pd.read_csv(uri)\n",
    "df.Name\n",
    "# df.Score\n",
    "# df['Name']\n",
    "# df['Score']\n",
    "# df.Name[1]\n",
    "# df.Name[2:5]"
   ]
  },
  {
   "cell_type": "code",
   "execution_count": null,
   "metadata": {},
   "outputs": [],
   "source": [
    "# ws25\n",
    "# df[1]  # not work\n",
    "df[:]\n",
    "df[1:4]\n",
    "# df[1:4].Name"
   ]
  },
  {
   "cell_type": "code",
   "execution_count": null,
   "metadata": {},
   "outputs": [],
   "source": [
    "df.iloc[2]\n",
    "df.iloc[2]['Name']\n",
    "df.iloc[2,0] # same as ['Name']\n",
    "df.iloc[1:4]"
   ]
  },
  {
   "cell_type": "code",
   "execution_count": null,
   "metadata": {},
   "outputs": [],
   "source": [
    "rows = [0,1,4]\n",
    "df.iloc[rows]"
   ]
  },
  {
   "cell_type": "code",
   "execution_count": null,
   "metadata": {},
   "outputs": [],
   "source": [
    "# ws25 \n",
    "uri = 'data/score_ageb.xlsx'\n",
    "df = pd.read_excel(uri, index_col='Name')\n",
    "df.iloc[2] # \n",
    "\n",
    "type(df.iloc[2])\n",
    "# df\n",
    "# df.loc['Tim']  # \n",
    "df.loc['Tim']['Age']\n",
    "# df"
   ]
  },
  {
   "cell_type": "code",
   "execution_count": null,
   "metadata": {},
   "outputs": [],
   "source": [
    "# ws26 \n",
    "uri = 'data/score_ageb.xlsx'\n",
    "df = pd.read_excel(uri)\n",
    "\n",
    "df[df.Name.str.match('Kob')]\n",
    "df[df.Name.str.match('kob')]\n",
    "df[df.Name.str.match('kob', case=False)]\n",
    "# df[df.Name.str.match('kob', case=True)]\n",
    "\n",
    "# df[df['Name'].str.match('Kob')]"
   ]
  },
  {
   "cell_type": "code",
   "execution_count": null,
   "metadata": {},
   "outputs": [],
   "source": [
    "# ws25\n",
    "df[df.Name.str.contains('kiat')]\n",
    "\n",
    "# df[df.Name.str.contains('kiat')]['Age']\n",
    "df[df.Name.str.contains('kiat')]['Age'][0]"
   ]
  },
  {
   "cell_type": "code",
   "execution_count": null,
   "metadata": {},
   "outputs": [],
   "source": [
    "# ws27 \n",
    "uri = 'data/score_ageb.xlsx'\n",
    "df = pd.read_excel(uri)\n",
    "\n",
    "for idx, row in df.iterrows():\n",
    "    print(idx, row.Name, row.Score)\n",
    "\n",
    "# df"
   ]
  },
  {
   "cell_type": "code",
   "execution_count": null,
   "metadata": {},
   "outputs": [],
   "source": [
    "# ws28a \n",
    "uri = 'data/score_ageb.xlsx'\n",
    "df = pd.read_excel(uri)\n",
    "# df = df[df['Section'] == 2] \n",
    "# df[df.Section == 2] \n",
    "df = df[df.Score >= 30]\n",
    "df"
   ]
  },
  {
   "cell_type": "code",
   "execution_count": null,
   "metadata": {},
   "outputs": [],
   "source": [
    "# ws28b \n",
    "df.loc[(df.Score >=30) & (df.Section == 2)]"
   ]
  },
  {
   "cell_type": "code",
   "execution_count": null,
   "metadata": {},
   "outputs": [],
   "source": [
    "# ws28c\n",
    "df.loc[(df.Score >=30) | (df.Section == 2)]"
   ]
  },
  {
   "cell_type": "code",
   "execution_count": null,
   "metadata": {},
   "outputs": [],
   "source": [
    "df.loc[(df.Age.isin([22]))]\n",
    "df.loc[(df.Age.isin([22, 23, 28]))]\n",
    "df.loc[(df.Age.isin([22, 23, 25])) & (df.Section == 1)]"
   ]
  },
  {
   "cell_type": "code",
   "execution_count": null,
   "metadata": {},
   "outputs": [],
   "source": [
    "# ws28\n",
    "uri = 'data/score_ageb.xlsx'\n",
    "df = pd.read_excel(uri)\n",
    "# print(df)\n",
    "\n",
    "df = df[df.Score >= 30] \n",
    "# df\n",
    "\n",
    "for idx, row in df.iterrows():\n",
    "#     print(idx, row.Name, row.Score, row.Section)\n",
    "    if row.Section == 2:\n",
    "#         print(idx, row.Name, row.Score, row.Section)\n",
    "        print('{:2} {:8} {:4} {:3}'.format(idx, row.Name, \n",
    "                         row.Score, row.Section))"
   ]
  },
  {
   "cell_type": "code",
   "execution_count": null,
   "metadata": {},
   "outputs": [],
   "source": [
    "# ws29 \n",
    "uri = 'data/score_ageb.xlsx'\n",
    "df = pd.read_excel(uri, index_col='Name')\n",
    "df.sort_index(inplace=True)\n",
    "# df = df.sort_index(ascending=False)\n",
    "df.sort_values('Score')\n",
    "df.sort_values('Score', ascending=False, inplace=True)\n",
    "\n",
    "a = df.sort_values(['Section','Score'])\n",
    "a"
   ]
  },
  {
   "cell_type": "code",
   "execution_count": null,
   "metadata": {},
   "outputs": [],
   "source": [
    "# ws30\n",
    "\n",
    "uri = 'data/score_ageb.xlsx'\n",
    "df = pd.read_excel(uri)\n",
    "\n",
    "df.at[1,'Score'] = 38\n",
    "df.iat[1,2] = 34\n",
    "\n",
    "df.head()"
   ]
  },
  {
   "cell_type": "code",
   "execution_count": null,
   "metadata": {},
   "outputs": [],
   "source": [
    "# ws31 \n",
    "df.replace(2,8)\n",
    "# df = df.replace(2,8)\n",
    "df.replace(2,8, inplace=True)\n",
    "# df = df.replace(8,2)\n",
    "df.Section.replace(2,8, inplace=True)\n",
    "df.head()"
   ]
  },
  {
   "cell_type": "code",
   "execution_count": null,
   "metadata": {},
   "outputs": [],
   "source": [
    "# ws32\n",
    "df.loc[df.Name.str.match('Kob'), 'Section'] = 5 # \n",
    "df"
   ]
  },
  {
   "cell_type": "code",
   "execution_count": null,
   "metadata": {},
   "outputs": [],
   "source": [
    "# ws31 \n",
    "df['Midterm'] = df['Score'] * 0.5\n",
    "df['M'] = df['Age']\n",
    "df.head()"
   ]
  },
  {
   "cell_type": "code",
   "execution_count": null,
   "metadata": {},
   "outputs": [],
   "source": [
    "# ws33\n",
    "# df.drop('M', axis=1, inplace=True)\n",
    "\n",
    "cols = ['M','Midterm']\n",
    "df.drop(cols, axis=1, inplace=True)\n",
    "df.head()"
   ]
  },
  {
   "cell_type": "code",
   "execution_count": null,
   "metadata": {},
   "outputs": [],
   "source": [
    "# ws34 \n",
    "uri = 'data/score_ageb.xlsx'\n",
    "df = pd.read_excel(uri)\n",
    "\n",
    "# cols = {'Age':'Math'}\n",
    "cols = {'Age':'Math',\n",
    "        'Score':'Bio'}\n",
    "\n",
    "# df.rename(columns=cols)\n",
    "df.rename(columns=cols, inplace=True)\n",
    "df.head()"
   ]
  },
  {
   "cell_type": "code",
   "execution_count": null,
   "metadata": {},
   "outputs": [],
   "source": [
    "# ws 35 \n",
    "uri = 'data/score_ageb.xlsx'\n",
    "df = pd.read_excel(uri, index_col='Name')\n",
    "\n",
    "datas = [['KSB',25,35,1],['NiNuan',22,26.0,2]]\n",
    "cols = ['Name','Age','Score','Section']\n",
    "\n",
    "newdf = pd.DataFrame(datas, columns=cols)\n",
    "newdf.set_index('Name', inplace=True)\n",
    "newdf\n",
    "df = df.append(newdf)\n",
    "df"
   ]
  },
  {
   "cell_type": "code",
   "execution_count": null,
   "metadata": {},
   "outputs": [],
   "source": [
    "# ws36 \n",
    "uri = 'data/score_ageb.xlsx'\n",
    "df = pd.read_excel(uri)\n",
    "\n",
    "# rows = 2             # first row is 0\n",
    "rows = [1,3,5]\n",
    "df.drop(rows, axis=0, inplace=True)\n",
    "df"
   ]
  },
  {
   "cell_type": "code",
   "execution_count": null,
   "metadata": {},
   "outputs": [],
   "source": [
    "# ws36\n",
    "uri = 'data/score_ageb.xlsx'\n",
    "df = pd.read_excel(uri, index_col='Name')\n",
    "# rows = ['Tim','KSB']\n",
    "rows = 'Kobkiat'\n",
    "# rows = ['Bob','KSB']\n",
    "df.drop(rows, axis=0, inplace=True)\n",
    "df"
   ]
  },
  {
   "cell_type": "code",
   "execution_count": null,
   "metadata": {},
   "outputs": [],
   "source": [
    "# ws37 \n",
    "%matplotlib inline\n",
    "uri = 'data/score_ageb.csv'\n",
    "df = pd.read_csv(uri)\n",
    "df.plot.bar()\n",
    "df[['Score','Age']].plot.bar()"
   ]
  },
  {
   "cell_type": "code",
   "execution_count": null,
   "metadata": {},
   "outputs": [],
   "source": [
    "# ws38 \n",
    "uri = 'data/score_ageb_forSum.csv'\n",
    "df = pd.read_csv(uri)\n",
    "df.head()"
   ]
  },
  {
   "cell_type": "code",
   "execution_count": null,
   "metadata": {},
   "outputs": [],
   "source": [
    "# ws38 \n",
    "df.sum()  # or  df.sum(axis=0)"
   ]
  },
  {
   "cell_type": "code",
   "execution_count": null,
   "metadata": {},
   "outputs": [],
   "source": [
    "df.sum(axis=1)"
   ]
  },
  {
   "cell_type": "code",
   "execution_count": null,
   "metadata": {},
   "outputs": [],
   "source": [
    "cols = ['Sales1','Sales2']\n",
    "df[cols].sum()\n",
    "# df[cols].sum(axis=1)"
   ]
  },
  {
   "cell_type": "code",
   "execution_count": null,
   "metadata": {},
   "outputs": [],
   "source": [
    "df.groupby(['Section']).sum()"
   ]
  },
  {
   "cell_type": "code",
   "execution_count": null,
   "metadata": {},
   "outputs": [],
   "source": [
    "cols = ['Sales1','Section']\n",
    "df[cols].groupby(['Section']).sum()\n",
    "\n",
    "# cols = ['Sales1', 'Sales2','Name']\n",
    "# df[cols].groupby(['Name']).sum()"
   ]
  },
  {
   "cell_type": "code",
   "execution_count": null,
   "metadata": {},
   "outputs": [],
   "source": [
    "# ws39 panda cut see below\n"
   ]
  },
  {
   "cell_type": "code",
   "execution_count": null,
   "metadata": {},
   "outputs": [],
   "source": [
    "import numpy as np\n",
    "df = pd.DataFrame({'age': np.random.randint(12, 51, 20)})\n",
    "\n",
    "groups = [12,19,30,50]\n",
    "labels = ['teen','young','old']\n",
    "df['stages'] = pd.cut(df['age'], bins=groups, labels=labels)\n",
    "df"
   ]
  },
  {
   "cell_type": "code",
   "execution_count": null,
   "metadata": {},
   "outputs": [],
   "source": [
    "df.groupby('stages').count()"
   ]
  },
  {
   "cell_type": "code",
   "execution_count": null,
   "metadata": {},
   "outputs": [],
   "source": []
  }
 ],
 "metadata": {
  "kernelspec": {
   "display_name": "Python 3",
   "language": "python",
   "name": "python3"
  },
  "language_info": {
   "codemirror_mode": {
    "name": "ipython",
    "version": 3
   },
   "file_extension": ".py",
   "mimetype": "text/x-python",
   "name": "python",
   "nbconvert_exporter": "python",
   "pygments_lexer": "ipython3",
   "version": "3.7.1"
  }
 },
 "nbformat": 4,
 "nbformat_minor": 4
}
