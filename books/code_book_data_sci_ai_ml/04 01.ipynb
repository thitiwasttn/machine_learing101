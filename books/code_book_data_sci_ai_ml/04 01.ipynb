{
 "cells": [
  {
   "cell_type": "code",
   "execution_count": null,
   "metadata": {},
   "outputs": [],
   "source": [
    "# ws1\n",
    "import pandas as pd\n",
    "\n",
    "datas = [15,12.5,'Ksb',22,\"Jim\"]\n",
    "ps = pd.Series(datas)\n",
    "ps\n",
    "print(ps)\n",
    "# ps[0]"
   ]
  },
  {
   "cell_type": "code",
   "execution_count": null,
   "metadata": {},
   "outputs": [],
   "source": [
    "ps = pd.Series([15,12.5,'Ksbกอบ',22,\"Jim\"])\n",
    "ps"
   ]
  },
  {
   "cell_type": "code",
   "execution_count": null,
   "metadata": {},
   "outputs": [],
   "source": [
    "datas = (15,12.5,'Ksb',22,\"Jim\")\n",
    "ps = pd.Series(datas)\n",
    "ps"
   ]
  },
  {
   "cell_type": "code",
   "execution_count": null,
   "metadata": {},
   "outputs": [],
   "source": [
    "# ws2\n",
    "import pandas as pd\n",
    "import numpy as np\n",
    "\n",
    "datas = [15,12.5,'Ksb',22,\"Jim\"]\n",
    "ndata = np.array(datas)\n",
    "ps = pd.Series(ndata)\n",
    "ps\n",
    "\n",
    "\n",
    "# ndata = np.array([15,12.5,'Ksb',22,\"Jim\"])\n",
    "# ps = pd.Series(datas)\n",
    "ps"
   ]
  },
  {
   "cell_type": "code",
   "execution_count": null,
   "metadata": {},
   "outputs": [],
   "source": [
    "# ws3\n",
    "datas = [15,12.5,18,22,17]\n",
    "idx = ['ksb','ณิแนน','Tim','Jan','แมว']\n",
    "ps = pd.Series(datas, index=idx)\n",
    "ps"
   ]
  },
  {
   "cell_type": "code",
   "execution_count": null,
   "metadata": {},
   "outputs": [],
   "source": [
    "# ws3.1\n",
    "datas = [15,12.5,18,22,17]\n",
    "idx = ['ksb','ณิแนน','Tim','Jan','แมว']\n",
    "ps = pd.Series(np.array(datas), index=idx)\n",
    "ps"
   ]
  },
  {
   "cell_type": "code",
   "execution_count": null,
   "metadata": {},
   "outputs": [],
   "source": [
    "# ws4 \n",
    "datas = {'ksb':15, 'ณิแนน':12.5,'Tim':18, 'Jan':22}\n",
    "ps = pd.Series(datas)\n",
    "ps"
   ]
  },
  {
   "cell_type": "code",
   "execution_count": null,
   "metadata": {},
   "outputs": [],
   "source": [
    "# ws5 \n",
    "ps['ณิแนน']"
   ]
  },
  {
   "cell_type": "code",
   "execution_count": null,
   "metadata": {},
   "outputs": [],
   "source": [
    "ps['Tim']"
   ]
  },
  {
   "cell_type": "code",
   "execution_count": null,
   "metadata": {},
   "outputs": [],
   "source": [
    "ps[0]"
   ]
  },
  {
   "cell_type": "code",
   "execution_count": null,
   "metadata": {},
   "outputs": [],
   "source": [
    "ps[1]"
   ]
  },
  {
   "cell_type": "code",
   "execution_count": null,
   "metadata": {},
   "outputs": [],
   "source": [
    "ps[-1]"
   ]
  },
  {
   "cell_type": "code",
   "execution_count": null,
   "metadata": {},
   "outputs": [],
   "source": [
    "# ws6 \n",
    "ps[:]\n",
    "ps[2:]\n",
    "ps[:2]\n",
    "ps[1:3]\n",
    "# ps[2:]\n",
    "ps[2:len(ps)]\n",
    "# ps[2:4]\n",
    "# type(ps[1:2])"
   ]
  },
  {
   "cell_type": "code",
   "execution_count": null,
   "metadata": {},
   "outputs": [],
   "source": []
  }
 ],
 "metadata": {
  "kernelspec": {
   "display_name": "Python 3",
   "language": "python",
   "name": "python3"
  },
  "language_info": {
   "codemirror_mode": {
    "name": "ipython",
    "version": 3
   },
   "file_extension": ".py",
   "mimetype": "text/x-python",
   "name": "python",
   "nbconvert_exporter": "python",
   "pygments_lexer": "ipython3",
   "version": "3.7.1"
  }
 },
 "nbformat": 4,
 "nbformat_minor": 2
}
