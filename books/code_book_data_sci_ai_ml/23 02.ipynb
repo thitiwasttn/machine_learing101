{
 "cells": [
  {
   "cell_type": "code",
   "execution_count": null,
   "metadata": {},
   "outputs": [],
   "source": [
    "# ws03\n",
    "import numpy as np\n",
    "\n",
    "from sklearn.datasets import fetch_20newsgroups\n",
    "\n",
    "categories = ['alt.atheism', 'soc.religion.christian','comp.graphics', 'sci.med']\n",
    "\n",
    "news = fetch_20newsgroups(subset='train',\n",
    "    categories=categories, shuffle=True)\n",
    "news = fetch_20newsgroups(subset='train', categories=categories)\n"
   ]
  },
  {
   "cell_type": "code",
   "execution_count": null,
   "metadata": {},
   "outputs": [],
   "source": [
    "news.keys()"
   ]
  },
  {
   "cell_type": "code",
   "execution_count": null,
   "metadata": {},
   "outputs": [],
   "source": [
    "print(news.DESCR)"
   ]
  },
  {
   "cell_type": "code",
   "execution_count": null,
   "metadata": {},
   "outputs": [],
   "source": [
    "len(news.target_names)"
   ]
  },
  {
   "cell_type": "code",
   "execution_count": null,
   "metadata": {},
   "outputs": [],
   "source": [
    "len(news.data)"
   ]
  },
  {
   "cell_type": "code",
   "execution_count": null,
   "metadata": {},
   "outputs": [],
   "source": [
    "len(news.target)"
   ]
  },
  {
   "cell_type": "code",
   "execution_count": null,
   "metadata": {},
   "outputs": [],
   "source": [
    "news.target_names"
   ]
  },
  {
   "cell_type": "code",
   "execution_count": null,
   "metadata": {},
   "outputs": [],
   "source": [
    "news.target[:10]"
   ]
  },
  {
   "cell_type": "code",
   "execution_count": null,
   "metadata": {},
   "outputs": [],
   "source": [
    "for k in news.target[:10]:\n",
    "    print(news.target_names[k])"
   ]
  },
  {
   "cell_type": "markdown",
   "metadata": {},
   "source": [
    "# Histogram"
   ]
  },
  {
   "cell_type": "code",
   "execution_count": null,
   "metadata": {},
   "outputs": [],
   "source": [
    "np.unique(news.target)"
   ]
  },
  {
   "cell_type": "code",
   "execution_count": null,
   "metadata": {},
   "outputs": [],
   "source": [
    "labels, counts = np.unique(news.target, return_counts=True)\n",
    "\n",
    "labels_str = np.array(news.target_names)[labels]\n",
    "\n",
    "list(zip(labels_str, counts))"
   ]
  },
  {
   "cell_type": "code",
   "execution_count": null,
   "metadata": {},
   "outputs": [],
   "source": [
    "import pandas as pd\n",
    "df = pd.DataFrame(list(zip(labels_str, counts)))\n",
    "df"
   ]
  },
  {
   "cell_type": "code",
   "execution_count": null,
   "metadata": {},
   "outputs": [],
   "source": [
    "%matplotlib inline\n",
    "import seaborn as sns\n",
    "sns.countplot(news.target)"
   ]
  },
  {
   "cell_type": "code",
   "execution_count": null,
   "metadata": {},
   "outputs": [],
   "source": [
    "# ws04\n",
    "\n",
    "import pandas as pd\n",
    "from sklearn.feature_extraction.text import CountVectorizer\n",
    "\n",
    "text = news.data\n",
    "cv = CountVectorizer()\n",
    "cv = CountVectorizer(stop_words='english')\n",
    "count_matrix = cv.fit_transform(text)\n",
    "\n",
    "word_matrix = count_matrix.toarray()  #\n",
    "# word_matrix = count_matrix.todense()  # \n",
    "df = pd.DataFrame(word_matrix, \n",
    "                  columns=cv.get_feature_names())\n",
    "\n",
    "df.head()"
   ]
  },
  {
   "cell_type": "code",
   "execution_count": null,
   "metadata": {},
   "outputs": [],
   "source": [
    "df.shape"
   ]
  },
  {
   "cell_type": "code",
   "execution_count": null,
   "metadata": {},
   "outputs": [],
   "source": [
    "df[df.columns[10000:10010]].head()"
   ]
  },
  {
   "cell_type": "code",
   "execution_count": null,
   "metadata": {},
   "outputs": [],
   "source": [
    "dfsum = df.sum(axis=0, skipna=True)\n",
    "bow = dfsum.sort_values(ascending=False)[:30]\n",
    "bow "
   ]
  },
  {
   "cell_type": "code",
   "execution_count": null,
   "metadata": {},
   "outputs": [],
   "source": [
    "import matplotlib.pyplot as plt\n",
    "import seaborn as sns\n",
    "\n",
    "sns.set(style=\"whitegrid\")\n",
    "plt.subplots(figsize=(3, 4))\n",
    "sns.barplot(bow.values[:20], bow.index[:20])\n",
    "\n",
    "plt.ylabel('Words')\n",
    "plt.xlabel('Frequencies')\n",
    "plt.title('Frequency Distribution')\n",
    "plt.show()"
   ]
  },
  {
   "cell_type": "markdown",
   "metadata": {},
   "source": [
    "## ws05"
   ]
  },
  {
   "cell_type": "code",
   "execution_count": null,
   "metadata": {},
   "outputs": [],
   "source": [
    "print(news.data[0])"
   ]
  },
  {
   "cell_type": "code",
   "execution_count": null,
   "metadata": {},
   "outputs": [],
   "source": [
    "news.target[:10] \n",
    "news.target[0] "
   ]
  },
  {
   "cell_type": "code",
   "execution_count": null,
   "metadata": {},
   "outputs": [],
   "source": [
    "news.target_names[(news.target[0])]"
   ]
  },
  {
   "cell_type": "code",
   "execution_count": null,
   "metadata": {},
   "outputs": [],
   "source": [
    "for k in news.target[:10]:\n",
    "    print(news.target_names[k])"
   ]
  },
  {
   "cell_type": "markdown",
   "metadata": {},
   "source": [
    "## ws06"
   ]
  },
  {
   "cell_type": "code",
   "execution_count": null,
   "metadata": {},
   "outputs": [],
   "source": [
    "# Train Test Split\n",
    "X = news.data\n",
    "y = news.target\n",
    "\n",
    "from sklearn.model_selection import train_test_split\n",
    "X_train, X_test, y_train, y_test = train_test_split(X, y, test_size=0.25, random_state=10)"
   ]
  },
  {
   "cell_type": "code",
   "execution_count": null,
   "metadata": {},
   "outputs": [],
   "source": [
    "len(X_train),len(X_test)"
   ]
  },
  {
   "cell_type": "code",
   "execution_count": null,
   "metadata": {},
   "outputs": [],
   "source": [
    "import time\n",
    "from sklearn.naive_bayes import MultinomialNB\n",
    "from sklearn.feature_extraction.text import TfidfVectorizer\n",
    "\n",
    "start = time.time()\n",
    "\n",
    "tvec = TfidfVectorizer()\n",
    "X_train_tfidf = tvec.fit_transform(X_train)\n",
    "X_test_tfidf = tvec.transform(X_test)\n",
    "\n",
    "model = MultinomialNB(alpha=0.005)\n",
    "model.fit(X_train_tfidf, y_train)\n",
    "\n",
    "end = time.time()\n",
    "\n",
    "print(\"Accuracy: {:.3f} , Time: {:.3f} \".\n",
    "      format(model.score(X_test_tfidf, y_test), (end - start)))"
   ]
  },
  {
   "cell_type": "markdown",
   "metadata": {},
   "source": [
    "## ws07"
   ]
  },
  {
   "cell_type": "code",
   "execution_count": null,
   "metadata": {},
   "outputs": [],
   "source": [
    "# Predict\n",
    "new_docs = ['OpenGL on the GPU is fast.']\n",
    "new_docs = ['ask about health care topic.']\n",
    "new_docs = ['God is love. loves you every body.']\n",
    "\n",
    "new_docs_cv = tvec.transform(new_docs)\n",
    "y_pred = model.predict(new_docs_cv)\n",
    "\n",
    "news.target_names[y_pred[0]]"
   ]
  },
  {
   "cell_type": "code",
   "execution_count": null,
   "metadata": {},
   "outputs": [],
   "source": [
    "# Predict\n",
    "new_docs = ['God is love. loves you every body.',\n",
    "           'OpenGL on the GPU is fast.',\n",
    "           'ask about health care topic.']\n",
    "\n",
    "new_docs_cv = tvec.transform(new_docs)\n",
    "\n",
    "y_pred = model.predict(new_docs_cv)\n",
    "y_pred\n",
    "\n",
    "for k in y_pred:\n",
    "    print(news.target_names[k]) "
   ]
  },
  {
   "cell_type": "markdown",
   "metadata": {},
   "source": [
    "## ws08 Pipeline"
   ]
  },
  {
   "cell_type": "code",
   "execution_count": null,
   "metadata": {},
   "outputs": [],
   "source": [
    "from sklearn.pipeline import Pipeline\n",
    "from sklearn.feature_extraction.text import TfidfVectorizer\n",
    "from sklearn.naive_bayes import MultinomialNB\n",
    "\n",
    "import time\n",
    "start = time.time()\n",
    "\n",
    "pipe1 = Pipeline([('vectorizer', TfidfVectorizer()),   # 975\n",
    "                  ('classifier', MultinomialNB(alpha=0.005))])\n",
    "\n",
    "pipe1.fit(X_train, y_train)\n",
    "end = time.time()\n",
    "\n",
    "print(\"Accuracy: {:.3f} , Time: {:.3f} \".\n",
    "      format(pipe1.score(X_test, y_test), (end - start)))"
   ]
  },
  {
   "cell_type": "code",
   "execution_count": null,
   "metadata": {},
   "outputs": [],
   "source": [
    "# \n",
    "new_docs = ['God is love. loves you every body.',\n",
    "           'OpenGL on the GPU is fast.',\n",
    "           'ask about health care topic.']\n",
    "\n",
    "y_pred = pipe1.predict(new_docs)\n",
    "y_pred\n",
    "\n",
    "for k in y_pred:\n",
    "    print(news.target_names[k]) \n",
    "    "
   ]
  },
  {
   "cell_type": "code",
   "execution_count": null,
   "metadata": {},
   "outputs": [],
   "source": [
    "new_doc = 'I would like to know a quick way\\\n",
    "to convert .ps files into LaserJet III format.  \\\n",
    "the same, converting to HPGL (HP plotter) files. \\\n",
    "Please email any response.'\n",
    "\n",
    "y_pred = pipe1.predict([new_doc])\n",
    "\n",
    "news.target_names[y_pred[0]]"
   ]
  },
  {
   "cell_type": "markdown",
   "metadata": {},
   "source": [
    "## ws09"
   ]
  },
  {
   "cell_type": "code",
   "execution_count": null,
   "metadata": {},
   "outputs": [],
   "source": [
    "from sklearn.metrics import confusion_matrix\n",
    "from sklearn import metrics\n",
    "\n",
    "y_pred = pipe1.predict(X_test)\n",
    "labels = news.target_names\n",
    "\n",
    "print(metrics.classification_report(y_test, y_pred, target_names=labels))\n",
    "\n",
    "cm = confusion_matrix(y_test, y_pred)\n",
    "print(cm)"
   ]
  },
  {
   "cell_type": "code",
   "execution_count": null,
   "metadata": {},
   "outputs": [],
   "source": [
    "from sklearn.metrics import confusion_matrix # Confusion Matrix\n",
    "import matplotlib.pyplot as plt\n",
    "y_pred = pipe1.predict(X_test)\n",
    "cm = confusion_matrix(y_test, y_pred)\n",
    "labels=news.target_names\n",
    "fig, ax = plt.subplots(figsize=(5, 4))\n",
    "sns.heatmap(cm, annot=True, cmap='Set3', fmt ='d', \n",
    "    xticklabels=labels, yticklabels=labels)\n",
    "plt.ylabel('Actual')\n",
    "plt.xlabel('Predicted')\n",
    "plt.show()"
   ]
  },
  {
   "cell_type": "code",
   "execution_count": null,
   "metadata": {},
   "outputs": [],
   "source": []
  }
 ],
 "metadata": {
  "kernelspec": {
   "display_name": "Python 3",
   "language": "python",
   "name": "python3"
  },
  "language_info": {
   "codemirror_mode": {
    "name": "ipython",
    "version": 3
   },
   "file_extension": ".py",
   "mimetype": "text/x-python",
   "name": "python",
   "nbconvert_exporter": "python",
   "pygments_lexer": "ipython3",
   "version": "3.7.1"
  }
 },
 "nbformat": 4,
 "nbformat_minor": 2
}
