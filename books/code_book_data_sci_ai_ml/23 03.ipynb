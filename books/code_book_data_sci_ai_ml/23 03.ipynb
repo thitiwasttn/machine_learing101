{
 "cells": [
  {
   "cell_type": "code",
   "execution_count": null,
   "metadata": {},
   "outputs": [],
   "source": [
    "import numpy as np\n",
    "from sklearn.datasets import load_files\n",
    " \n",
    "DATA_DIR = \"datasets/bbc/\"\n",
    "\n",
    "news = load_files(DATA_DIR, encoding=\"utf-8\", decode_error=\"replace\")\n",
    "\n",
    "labels, counts = np.unique(news.target, return_counts=True)\n",
    "\n",
    "labels_str = np.array(news.target_names)[labels]\n",
    "\n",
    "list(zip(labels_str, counts))"
   ]
  },
  {
   "cell_type": "code",
   "execution_count": null,
   "metadata": {},
   "outputs": [],
   "source": []
  }
 ],
 "metadata": {
  "kernelspec": {
   "display_name": "Python 3",
   "language": "python",
   "name": "python3"
  },
  "language_info": {
   "codemirror_mode": {
    "name": "ipython",
    "version": 3
   },
   "file_extension": ".py",
   "mimetype": "text/x-python",
   "name": "python",
   "nbconvert_exporter": "python",
   "pygments_lexer": "ipython3",
   "version": "3.7.1"
  }
 },
 "nbformat": 4,
 "nbformat_minor": 4
}
