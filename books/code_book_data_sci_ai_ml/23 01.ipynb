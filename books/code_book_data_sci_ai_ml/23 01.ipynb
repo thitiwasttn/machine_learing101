{
 "cells": [
  {
   "cell_type": "code",
   "execution_count": null,
   "metadata": {},
   "outputs": [],
   "source": [
    "# ws01\n",
    "\n",
    "from sklearn.feature_extraction.text import TfidfVectorizer\n",
    "\n",
    "a = 'the Sun of beach and beach'\n",
    "b = 'moon earth moon'\n",
    "\n",
    "text = [a,b]\n",
    "\n",
    "tfv = TfidfVectorizer(stop_words='english')\n",
    "matrix = tfv.fit_transform(text)"
   ]
  },
  {
   "cell_type": "code",
   "execution_count": null,
   "metadata": {},
   "outputs": [],
   "source": [
    "print(tfv.get_feature_names())\n",
    "print(matrix.toarray().round(3))\n",
    "\n",
    "\n",
    "import pandas as pd\n",
    "matrix = matrix.todense()  # or toarray matrix = matrix.toarray()\n",
    "df = pd.DataFrame(matrix, columns=tfv.get_feature_names(), \n",
    "                  index=['a','b'])\n",
    "df.round(3)"
   ]
  },
  {
   "cell_type": "code",
   "execution_count": null,
   "metadata": {},
   "outputs": [],
   "source": [
    "# case 2\n",
    "a = 'sun beach beach'\n",
    "b = 'Sun moon earth moon'\n",
    "\n",
    "text = [a,b]\n",
    "tfv = TfidfVectorizer()\n",
    "matrix = tfv.fit_transform(text)\n",
    "matrix = matrix.todense()\n",
    "df = pd.DataFrame(matrix, columns=tfv.get_feature_names(), \n",
    "                  index=['a','b'])\n",
    "df.round(3)"
   ]
  },
  {
   "cell_type": "code",
   "execution_count": null,
   "metadata": {},
   "outputs": [],
   "source": [
    "print(matrix)"
   ]
  },
  {
   "cell_type": "code",
   "execution_count": null,
   "metadata": {},
   "outputs": [],
   "source": [
    "df.shape"
   ]
  },
  {
   "cell_type": "code",
   "execution_count": null,
   "metadata": {},
   "outputs": [],
   "source": [
    "# ws02\n",
    "\n",
    "a = 'sun beach'\n",
    "b = 'Sun moon earth'\n",
    "c = 'the sun is an object in the sky'\n",
    "\n",
    "text = [a,b,c]\n",
    "\n",
    "tfv = TfidfVectorizer()\n",
    "matrix = tfv.fit_transform(text)\n",
    "\n",
    "print(tfv.get_feature_names())\n",
    "print(matrix.toarray().round(3))\n",
    "\n",
    "\n",
    "import pandas as pd\n",
    "matrix = matrix.todense()\n",
    "df = pd.DataFrame(matrix, columns=tfv.get_feature_names(), \n",
    "                  index=['a','b','c'])\n",
    "df.round(3)\n"
   ]
  },
  {
   "cell_type": "code",
   "execution_count": null,
   "metadata": {},
   "outputs": [],
   "source": [
    "print(matrix)"
   ]
  },
  {
   "cell_type": "code",
   "execution_count": null,
   "metadata": {},
   "outputs": [],
   "source": [
    "df.shape"
   ]
  },
  {
   "cell_type": "code",
   "execution_count": null,
   "metadata": {},
   "outputs": [],
   "source": []
  }
 ],
 "metadata": {
  "kernelspec": {
   "display_name": "Python 3",
   "language": "python",
   "name": "python3"
  },
  "language_info": {
   "codemirror_mode": {
    "name": "ipython",
    "version": 3
   },
   "file_extension": ".py",
   "mimetype": "text/x-python",
   "name": "python",
   "nbconvert_exporter": "python",
   "pygments_lexer": "ipython3",
   "version": "3.7.1"
  }
 },
 "nbformat": 4,
 "nbformat_minor": 4
}
