{
 "cells": [
  {
   "cell_type": "code",
   "execution_count": null,
   "metadata": {},
   "outputs": [],
   "source": [
    "# ws08\n",
    "from sklearn import datasets \n",
    "import matplotlib.pyplot as plt\n",
    "import numpy as np\n",
    "import pandas as pd\n",
    "import seaborn as sns\n",
    "\n",
    "digits = datasets.load_digits()"
   ]
  },
  {
   "cell_type": "code",
   "execution_count": null,
   "metadata": {},
   "outputs": [],
   "source": [
    "n_samples = len(digits.images) \n",
    "X = digits.images.reshape((n_samples, -1))\n",
    "\n",
    "X[0]"
   ]
  },
  {
   "cell_type": "code",
   "execution_count": null,
   "metadata": {},
   "outputs": [],
   "source": [
    "X.shape"
   ]
  },
  {
   "cell_type": "code",
   "execution_count": null,
   "metadata": {},
   "outputs": [],
   "source": [
    "y = digits.target\n",
    "y[:15]"
   ]
  },
  {
   "cell_type": "code",
   "execution_count": null,
   "metadata": {},
   "outputs": [],
   "source": [
    "from sklearn.decomposition import PCA\n",
    "pca = PCA()\n",
    "X_pca = pca.fit_transform(X)"
   ]
  },
  {
   "cell_type": "code",
   "execution_count": null,
   "metadata": {},
   "outputs": [],
   "source": [
    "pca.n_components_"
   ]
  },
  {
   "cell_type": "code",
   "execution_count": null,
   "metadata": {},
   "outputs": [],
   "source": [
    "pca"
   ]
  },
  {
   "cell_type": "code",
   "execution_count": null,
   "metadata": {},
   "outputs": [],
   "source": [
    "X_pca.shape"
   ]
  },
  {
   "cell_type": "code",
   "execution_count": null,
   "metadata": {},
   "outputs": [],
   "source": [
    "print(pca.components_.shape)"
   ]
  },
  {
   "cell_type": "code",
   "execution_count": null,
   "metadata": {},
   "outputs": [],
   "source": [
    "exp_variance = pca.explained_variance_ratio_\n",
    "exp_variance"
   ]
  },
  {
   "cell_type": "code",
   "execution_count": null,
   "metadata": {},
   "outputs": [],
   "source": [
    "sns.set()\n",
    "\n",
    "x = list(range(1, len(exp_variance)+1))\n",
    "sns.lineplot(x, exp_variance, marker='s', markersize=4)\n",
    "plt.title('Explained Varience')\n",
    "plt.xlabel('Number of components')\n",
    "\n",
    "plt.show()"
   ]
  },
  {
   "cell_type": "code",
   "execution_count": null,
   "metadata": {},
   "outputs": [],
   "source": [
    "import numpy as np\n",
    "\n",
    "x = list(range(1, len(exp_variance)+1))\n",
    "sns.lineplot(x, np.cumsum(pca.explained_variance_ratio_)) \n",
    "\n",
    "plt.xlabel('Number of components')\n",
    "plt.ylabel('Cumulative Explained Variance');\n",
    "plt.title('PCA Explained Variance Ratio')\n",
    "\n",
    "plt.show()"
   ]
  },
  {
   "cell_type": "code",
   "execution_count": null,
   "metadata": {},
   "outputs": [],
   "source": [
    "pca_num = PCA(.95)\n",
    "pca_num.fit(X)\n",
    "pca_num.n_components_"
   ]
  },
  {
   "cell_type": "code",
   "execution_count": null,
   "metadata": {},
   "outputs": [],
   "source": [
    "n_comp = 2\n",
    "pca = PCA(n_components=n_comp)\n",
    "pca.fit(X)\n",
    "print('Explained variance by %i components: %0.3f' % \n",
    "      (n_comp, np.sum(pca.explained_variance_ratio_)))"
   ]
  },
  {
   "cell_type": "code",
   "execution_count": null,
   "metadata": {},
   "outputs": [],
   "source": [
    "\n",
    "X_pca = pca.transform(X)\n",
    "X_pca.shape"
   ]
  },
  {
   "cell_type": "code",
   "execution_count": null,
   "metadata": {},
   "outputs": [],
   "source": [
    "df = pd.DataFrame(X_pca, columns=['pca1','pca2'])\n",
    "df.head()"
   ]
  },
  {
   "cell_type": "code",
   "execution_count": null,
   "metadata": {},
   "outputs": [],
   "source": [
    "df['labels'] = y\n",
    "df.head()"
   ]
  },
  {
   "cell_type": "code",
   "execution_count": null,
   "metadata": {},
   "outputs": [],
   "source": [
    "sns.set_style('whitegrid')\n",
    "plt.rcParams['figure.figsize'] = 5, 5  \n",
    "g=sns.scatterplot('pca1', 'pca2', data=df, hue='labels', \n",
    "                  s=50, palette='Set1', legend='full')\n",
    "g.legend(loc='center right', bbox_to_anchor=(1.4, 0.5), ncol=1)\n",
    "plt.title('PCA: 2 Components (1,2)')\n",
    "plt.show()"
   ]
  },
  {
   "cell_type": "code",
   "execution_count": null,
   "metadata": {},
   "outputs": [],
   "source": [
    "df.species.unique()"
   ]
  },
  {
   "cell_type": "code",
   "execution_count": null,
   "metadata": {},
   "outputs": [],
   "source": [
    "# split\n",
    "from sklearn.model_selection import train_test_split\n",
    "X_train, X_test,y_train,y_test = train_test_split(X, y, test_size=0.25, random_state=0) # \n",
    "X_train.shape , X_test.shape"
   ]
  },
  {
   "cell_type": "code",
   "execution_count": null,
   "metadata": {},
   "outputs": [],
   "source": [
    "\n",
    "from sklearn.pipeline import Pipeline\n",
    "from sklearn.svm import SVC\n",
    "from sklearn.model_selection import cross_val_score\n",
    "# from sklearn.naive_bayes import GaussianNB\n",
    "# from sklearn.ensemble import RandomForestClassifier\n",
    "\n",
    "n_comp = 25\n",
    "pipe = Pipeline([\n",
    "\n",
    "                 ('pca', PCA(n_components=n_comp, whiten=True)),\n",
    "                ('svc',SVC(gamma='scale'))\n",
    "               ])\n",
    "\n",
    "pipe.fit(X_train, y_train)\n",
    "\n",
    "cvs = cross_val_score(pipe, X, y, cv=10)  \n",
    "print('cross val scores {}'.format(cvs.round(2)))\n",
    "print('Average (%) = {:.2f}' .format(cvs.mean() * 100 ))"
   ]
  },
  {
   "cell_type": "code",
   "execution_count": null,
   "metadata": {},
   "outputs": [],
   "source": [
    "from sklearn.metrics import accuracy_score \n",
    "from sklearn.metrics import classification_report\n",
    "from sklearn.metrics import confusion_matrix\n",
    "\n",
    "pipe.fit(X_train, y_train)\n",
    "\n",
    "y_pred = pipe.predict(X_test)\n",
    "\n",
    "print('Accuracy Score: {:.4f}'.format(accuracy_score(y_test, y_pred)))\n",
    "\n",
    "print(classification_report(y_test, y_pred)) \n",
    "\n",
    "cm = confusion_matrix(y_test, y_pred)\n",
    "print(cm)"
   ]
  },
  {
   "cell_type": "code",
   "execution_count": null,
   "metadata": {},
   "outputs": [],
   "source": [
    "import scikitplot as skplot\n",
    "\n",
    "y_pred = pipe.predict(X_test)\n",
    "skplot.metrics.plot_confusion_matrix(y_test, y_pred, hide_zeros=True)\n",
    "\n",
    "plt.show()"
   ]
  },
  {
   "cell_type": "code",
   "execution_count": null,
   "metadata": {},
   "outputs": [],
   "source": [
    "pipe.predict(X_test)\n",
    "pipe.predict([X[5]])\n",
    "pipe.predict([X[15]])\n",
    "pipe.predict([X[25]])"
   ]
  },
  {
   "cell_type": "code",
   "execution_count": null,
   "metadata": {},
   "outputs": [],
   "source": [
    "\n",
    "import numpy as np\n",
    "from PIL import Image, ImageOps\n",
    "\n",
    "def predict_digit(imgfile): \n",
    "    img = Image.open('/folder/'+imgfile).convert('L') \n",
    "    img = ImageOps.invert(img)\n",
    "    img = img.resize((8, 8), Image.ANTIALIAS) \n",
    "\n",
    "    pixel = np.array(img)\n",
    "    pixel = pixel / 255.0 * 16\n",
    "    pixel = pixel.astype('int')\n",
    "    \n",
    "    my_digit = pixel.reshape(1, -1)\n",
    "    predicted = pipe.predict(my_digit) \n",
    "   \n",
    "    plt.figure(figsize=(1,1))\n",
    "    plt.imshow(pixel, cmap=plt.cm.gray_r)\n",
    "    plt.title('Predicted:{}'. format(predicted[0]))\n",
    "    plt.xticks([])\n",
    "    plt.yticks([])    \n",
    "    plt.show()\n",
    "\n",
    "imgfiles = ['digit1.png','digit2.png','digit3.png','digit4.png','digit5.png',\n",
    "            'digit6.png','digit7.png','digit8.png','digit9.png','digit0.png']\n",
    "for i in imgfiles:\n",
    "    predict_digit(i)"
   ]
  },
  {
   "cell_type": "code",
   "execution_count": null,
   "metadata": {},
   "outputs": [],
   "source": []
  }
 ],
 "metadata": {
  "kernelspec": {
   "display_name": "Python 3",
   "language": "python",
   "name": "python3"
  },
  "language_info": {
   "codemirror_mode": {
    "name": "ipython",
    "version": 3
   },
   "file_extension": ".py",
   "mimetype": "text/x-python",
   "name": "python",
   "nbconvert_exporter": "python",
   "pygments_lexer": "ipython3",
   "version": "3.7.1"
  }
 },
 "nbformat": 4,
 "nbformat_minor": 4
}
