{
 "cells": [
  {
   "cell_type": "code",
   "execution_count": null,
   "metadata": {},
   "outputs": [],
   "source": [
    "# ws01\n",
    "from sklearn.datasets import load_breast_cancer\n",
    "\n",
    "from sklearn import metrics\n",
    "import numpy as np\n",
    "import pandas as pd\n",
    "import matplotlib.pyplot as plt\n",
    "import seaborn as sns\n",
    "\n",
    "cancer = load_breast_cancer()"
   ]
  },
  {
   "cell_type": "code",
   "execution_count": null,
   "metadata": {},
   "outputs": [],
   "source": [
    "cancer.keys()"
   ]
  },
  {
   "cell_type": "code",
   "execution_count": null,
   "metadata": {},
   "outputs": [],
   "source": [
    "cancer.feature_names"
   ]
  },
  {
   "cell_type": "code",
   "execution_count": null,
   "metadata": {},
   "outputs": [],
   "source": [
    "df = pd.DataFrame(cancer.data, columns=cancer.feature_names)\n",
    "\n",
    "df['class'] = cancer.target\n",
    "df.head()"
   ]
  },
  {
   "cell_type": "code",
   "execution_count": null,
   "metadata": {},
   "outputs": [],
   "source": [
    "df.shape"
   ]
  },
  {
   "cell_type": "code",
   "execution_count": null,
   "metadata": {},
   "outputs": [],
   "source": [
    "df.isnull().sum()"
   ]
  },
  {
   "cell_type": "code",
   "execution_count": null,
   "metadata": {},
   "outputs": [],
   "source": [
    "fig, (ax1, ax2) = plt.subplots(ncols=2, figsize=(8, 3))\n",
    "\n",
    "ax1.set_title('mean radius')\n",
    "ax1.boxplot(df['mean radius'])\n",
    "\n",
    "ax2.set_title('mean texture')\n",
    "ax2.boxplot(df['mean texture'])\n",
    "plt.show()"
   ]
  },
  {
   "cell_type": "code",
   "execution_count": null,
   "metadata": {},
   "outputs": [],
   "source": [
    "df = df[df['mean radius'] < 25]\n",
    "df = df[df['mean texture'] < 38]\n",
    "df.shape"
   ]
  },
  {
   "cell_type": "code",
   "execution_count": null,
   "metadata": {},
   "outputs": [],
   "source": [
    "sns.set_style('whitegrid')\n",
    "\n",
    "sns.scatterplot('mean radius','mean texture', data=df, hue='class', style='class', \n",
    "                alpha=0.9, edgecolor='w', s=80)\n",
    "\n",
    "plt.grid(False)\n",
    "plt.legend(loc='upper left',bbox_to_anchor=(1, 1)) \n",
    "\n",
    "plt.show()"
   ]
  },
  {
   "cell_type": "markdown",
   "metadata": {},
   "source": [
    "### ws 02"
   ]
  },
  {
   "cell_type": "code",
   "execution_count": null,
   "metadata": {},
   "outputs": [],
   "source": [
    "\n",
    "df['mean ra'] = np.where(df['class']==0, df['mean radius'] + 7.5, df['mean radius'])\n",
    "df['mean ra'].head()"
   ]
  },
  {
   "cell_type": "code",
   "execution_count": null,
   "metadata": {},
   "outputs": [],
   "source": [
    "sns.scatterplot('mean ra','mean texture', data=df, hue='class', style='class', \n",
    "                alpha=0.9, edgecolor='w', s=80)\n",
    "\n",
    "plt.grid(False)\n",
    "plt.legend(loc='upper left', bbox_to_anchor=(1, 1)) \n",
    "plt.show()"
   ]
  },
  {
   "cell_type": "code",
   "execution_count": null,
   "metadata": {},
   "outputs": [],
   "source": [
    "\n",
    "sns.distplot(df['mean ra'][df['class']==0], label='0', color='b')\n",
    "sns.distplot(df['mean ra'][df['class']==1], label='1', color='r')\n",
    "plt.legend()\n",
    "plt.grid(False)\n",
    "plt.show()"
   ]
  },
  {
   "cell_type": "code",
   "execution_count": null,
   "metadata": {},
   "outputs": [],
   "source": [
    "columns = ['mean ra','mean texture']\n",
    "X = df[columns]\n",
    "y = df['class']\n",
    "X.shape , y.shape , y.unique()\n"
   ]
  },
  {
   "cell_type": "code",
   "execution_count": null,
   "metadata": {},
   "outputs": [],
   "source": [
    "X[:3]"
   ]
  },
  {
   "cell_type": "code",
   "execution_count": null,
   "metadata": {},
   "outputs": [],
   "source": [
    "y[:3]"
   ]
  },
  {
   "cell_type": "code",
   "execution_count": null,
   "metadata": {},
   "outputs": [],
   "source": [
    "from sklearn.model_selection import train_test_split\n",
    "X_train, X_test, y_train, y_test = train_test_split(X, y, test_size=0.30, random_state=10)"
   ]
  },
  {
   "cell_type": "code",
   "execution_count": null,
   "metadata": {},
   "outputs": [],
   "source": [
    "from sklearn.linear_model import LogisticRegression\n",
    "from sklearn.metrics import classification_report, confusion_matrix\n",
    "\n",
    "\n",
    "model = LogisticRegression(solver='lbfgs')\n",
    "model.fit(X_train, y_train)\n",
    "\n",
    "print(\"Score: {:.3f}\".format(model.score(X_test, y_test))) \n",
    "\n",
    "y_pred = model.predict(X_test)\n",
    "\n",
    "print(classification_report(y_test, y_pred, target_names=['No','Yes']))\n",
    "cm = confusion_matrix(y_test, y_pred)\n",
    "print(cm)"
   ]
  },
  {
   "cell_type": "code",
   "execution_count": null,
   "metadata": {},
   "outputs": [],
   "source": [
    "import scikitplot as skplot\n",
    "skplot.metrics.plot_confusion_matrix(y_test, y_pred)\n",
    "plt.show()"
   ]
  },
  {
   "cell_type": "code",
   "execution_count": null,
   "metadata": {},
   "outputs": [],
   "source": [
    "from sklearn.model_selection import cross_val_score\n",
    "from sklearn.tree import DecisionTreeClassifier\n",
    "from sklearn.svm import SVC\n",
    "\n",
    "model = LogisticRegression(solver='lbfgs')\n",
    "\n",
    "cvs = cross_val_score(model, X, y, cv=10) \n",
    "print('cross val scores {}'.format(cvs.round(2)))\n",
    "print('Average (%) = {:.2f}' .format(cvs.mean() * 100))"
   ]
  },
  {
   "cell_type": "code",
   "execution_count": null,
   "metadata": {},
   "outputs": [],
   "source": [
    "model.fit(X_train, y_train)\n",
    "\n",
    "y_pred_prob = model.predict_proba(X_test) # prob to be 1\n",
    "fpr, tpr, thresholds = metrics.roc_curve(y_test, y_pred_prob[:,1])\n",
    "y_pred_prob[:10].round(3)"
   ]
  },
  {
   "cell_type": "code",
   "execution_count": null,
   "metadata": {},
   "outputs": [],
   "source": [
    "y_pred_prob.shape"
   ]
  },
  {
   "cell_type": "code",
   "execution_count": null,
   "metadata": {},
   "outputs": [],
   "source": [
    "df_result = pd.DataFrame(y_test)\n",
    "df_result['y_pred'] = y_pred\n",
    "df_result['y_pred_prob0'] = y_pred_prob[:,0]\n",
    "df_result['y_pred_prob1'] = y_pred_prob[:,1]\n",
    "\n",
    "df_result.head(5).round(3)\n"
   ]
  },
  {
   "cell_type": "code",
   "execution_count": null,
   "metadata": {},
   "outputs": [],
   "source": [
    "df_result.groupby('class').count()"
   ]
  },
  {
   "cell_type": "code",
   "execution_count": null,
   "metadata": {},
   "outputs": [],
   "source": [
    "from sklearn.metrics import roc_curve, auc\n",
    "%matplotlib inline\n",
    "ll=[0,1]\n",
    "ur=[0,1]\n",
    "\n",
    "y_pred_prob = model.predict_proba(X_test)\n",
    "fpr, tpr, thresholds = roc_curve(y_test, y_pred_prob[:,1])\n",
    "\n",
    "plt.plot(fpr, tpr) #, label=\"AUC={:.2f}\".format(a))\n",
    "plt.plot(ll,ur, '--r' )   # color red\n",
    "plt.title('ROC Curve')\n",
    "plt.xlabel('False Positive Rate (FPR)')\n",
    "plt.ylabel('True Positive Rate (TPR)')\n",
    "plt.show()"
   ]
  },
  {
   "cell_type": "code",
   "execution_count": null,
   "metadata": {},
   "outputs": [],
   "source": [
    "auc = auc(fpr, tpr)\n",
    "auc"
   ]
  },
  {
   "cell_type": "markdown",
   "metadata": {},
   "source": [
    "## ws03"
   ]
  },
  {
   "cell_type": "code",
   "execution_count": null,
   "metadata": {},
   "outputs": [],
   "source": [
    "df['mean ra'] = df['mean radius']\n",
    "df['mean ra'].head(3)"
   ]
  },
  {
   "cell_type": "markdown",
   "metadata": {},
   "source": [
    "### ws04"
   ]
  },
  {
   "cell_type": "code",
   "execution_count": null,
   "metadata": {},
   "outputs": [],
   "source": [
    "df['mean ra'] = np.where(df['class']==0, df['mean radius'] - 5, df['mean radius'])\n",
    "df['mean ra'].head(3)"
   ]
  },
  {
   "cell_type": "markdown",
   "metadata": {},
   "source": [
    "### ws05\n"
   ]
  },
  {
   "cell_type": "code",
   "execution_count": null,
   "metadata": {},
   "outputs": [],
   "source": [
    "idx = df[df['class'] == 1 ].index\n",
    "df.drop(idx, axis=0, inplace=True)\n",
    "print(df.shape)\n",
    "df2 = df.copy()\n",
    "df2['class'] = 1\n",
    "df2.head()\n",
    "df = df.append(df2, ignore_index=True)\n",
    "df['mean ra'] = np.where(df['class']==0, df['mean radius'] +1 , df['mean radius'])\n",
    "df.shape"
   ]
  },
  {
   "cell_type": "code",
   "execution_count": null,
   "metadata": {},
   "outputs": [],
   "source": [
    "plt.boxplot(df['mean texture']) ; plt.show()"
   ]
  },
  {
   "cell_type": "code",
   "execution_count": null,
   "metadata": {},
   "outputs": [],
   "source": [
    "sns.scatterplot('mean ra','mean texture', data=df, hue='class', style='class', \n",
    "                alpha=0.9, edgecolor='w', s=80)\n",
    "plt.grid(False)\n",
    "plt.legend(bbox_to_anchor=(1, 1)) \n",
    "plt.savefig('case1',dpi=120)\n",
    "plt.show()"
   ]
  },
  {
   "cell_type": "markdown",
   "metadata": {},
   "source": [
    "# Threshold"
   ]
  },
  {
   "cell_type": "code",
   "execution_count": null,
   "metadata": {},
   "outputs": [],
   "source": [
    "# ws06\n",
    "df['mean ra'] = df['mean radius']\n",
    "df['mean ra'].head(3)"
   ]
  },
  {
   "cell_type": "code",
   "execution_count": null,
   "metadata": {},
   "outputs": [],
   "source": [
    "\n",
    "sns.scatterplot('mean ra','mean texture', data=df, hue='class', style='class', \n",
    "                alpha=0.9, edgecolor='w', s=80)\n",
    "plt.legend(loc='upper left', bbox_to_anchor=(1, 1)) \n",
    "plt.show()"
   ]
  },
  {
   "cell_type": "code",
   "execution_count": null,
   "metadata": {},
   "outputs": [],
   "source": [
    "columns = ['mean ra','mean texture']\n",
    "X = df[columns]\n",
    "y = df['class']\n",
    "X.shape , y.shape , y.unique()"
   ]
  },
  {
   "cell_type": "code",
   "execution_count": null,
   "metadata": {},
   "outputs": [],
   "source": [
    "from sklearn.model_selection import train_test_split\n",
    "\n",
    "X_train, X_test, y_train, y_test = train_test_split(X, y, test_size=0.30, random_state=10)\n",
    "\n",
    "from sklearn.linear_model import LogisticRegression\n",
    "model = LogisticRegression(solver='lbfgs')\n",
    "model.fit(X_train, y_train)\n",
    "\n",
    "\n",
    "threshold = .34\n",
    "# threshold = .98\n",
    "y_pred_prob = model.predict_proba(X_test)[:,1] \n",
    "y_pred = y_pred_prob > threshold\n",
    "\n",
    "print(classification_report(y_test, y_pred, target_names=['No','Yes']))\n",
    "\n",
    "cm = confusion_matrix(y_test, y_pred)\n",
    "print(cm)"
   ]
  },
  {
   "cell_type": "code",
   "execution_count": null,
   "metadata": {},
   "outputs": [],
   "source": [
    "import scikitplot as skplot\n",
    "sns.set(rc={'figure.figsize':(2.2,2)})\n",
    "skplot.metrics.plot_confusion_matrix(y_test, y_pred)\n",
    "plt.tight_layout()\n",
    "plt.savefig('th2_98_confmatrix',dpi=120)\n",
    "plt.show()"
   ]
  },
  {
   "cell_type": "code",
   "execution_count": null,
   "metadata": {},
   "outputs": [],
   "source": [
    "y_pred_prob = model.predict_proba(X_test)\n",
    "fpr, tpr, thresholds = roc_curve(y_test, y_pred_prob[:,1])\n",
    "auc = metrics.auc(fpr, tpr)\n",
    "print('AUC=',auc)\n",
    "a=auc\n",
    "\n",
    "from sklearn.metrics import roc_curve, auc\n",
    "%matplotlib inline\n",
    "ll=[0,1]\n",
    "ur=[0,1]\n",
    "\n",
    "# import matplotlib.pyplot as plt\n",
    "plt.figure(figsize=(4,4))\n",
    "plt.rcParams[\"axes.edgecolor\"] = '140' # 180\n",
    "plt.rcParams[\"axes.linewidth\"]  = 1.25\n",
    "\n",
    "y_pred_prob = model.predict_proba(X_test)\n",
    "fpr, tpr, thresholds = roc_curve(y_test, y_pred_prob[:,1])\n",
    "plt.plot(fpr, tpr, label=\"AUC={:.2f}\".format(a))\n",
    "plt.plot(ll,ur, '--r' )   # color red\n",
    "plt.title('ROC Curve')\n",
    "plt.xlabel('False Positive Rate (FPR)')\n",
    "plt.ylabel('True Positive Rate (TPR)')  # plt.grid(False)  # plt.savefig('case4_roc', dpi=120, bbox_inches = \"tight\")\n",
    "plt.legend(loc=\"lower right\")\n",
    "plt.show()"
   ]
  },
  {
   "cell_type": "code",
   "execution_count": null,
   "metadata": {},
   "outputs": [],
   "source": []
  }
 ],
 "metadata": {
  "kernelspec": {
   "display_name": "Python 3",
   "language": "python",
   "name": "python3"
  },
  "language_info": {
   "codemirror_mode": {
    "name": "ipython",
    "version": 3
   },
   "file_extension": ".py",
   "mimetype": "text/x-python",
   "name": "python",
   "nbconvert_exporter": "python",
   "pygments_lexer": "ipython3",
   "version": "3.7.1"
  }
 },
 "nbformat": 4,
 "nbformat_minor": 4
}
