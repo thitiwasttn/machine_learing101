{
 "cells": [
  {
   "cell_type": "code",
   "execution_count": null,
   "metadata": {},
   "outputs": [],
   "source": [
    "import cv2\n",
    "cv2.__version__"
   ]
  },
  {
   "cell_type": "code",
   "execution_count": null,
   "metadata": {},
   "outputs": [],
   "source": [
    "\n",
    "train_path = './img_features_label/'\n",
    "input_path = './'\n",
    "label_file = './labels.csv' \n",
    "\n",
    "casc_file = \"haarcascade_frontalface_default.xml\"\n",
    "# casc_file = 'lbpcascade_frontalface.xml'\n",
    "\n",
    "import cv2  \n",
    "import numpy as np\n",
    "import os, sys, time\n",
    "import pandas as pd\n",
    "\n",
    "img_pixel = (96, 96) \n",
    "\n",
    "def save_labels(people):\n",
    "    df = pd.DataFrame(people, columns=['name'])\n",
    "    df.to_csv(label_file)\n",
    "    print('Saved labels..')\n",
    "    print(people)\n",
    "\n",
    "def get_images(path, size):\n",
    "    class_id = 0  # target or class of the face\n",
    "    images, labels= [], []\n",
    "    people= []\n",
    "\n",
    "    for subdir in os.listdir(path):\n",
    "        for image in os.listdir(path + subdir):\n",
    "\n",
    "            img= cv2.imread(path+os.path.sep+subdir+os.path.sep+image, cv2.IMREAD_GRAYSCALE)\n",
    "            img= cv2.resize(img, size)\n",
    "\n",
    "            images.append(np.asarray(img, dtype= np.uint8))\n",
    "            labels.append(class_id)\n",
    "\n",
    "\n",
    "        people.append(subdir)\n",
    "        class_id += 1\n",
    "\n",
    "    return [images, labels, people]\n",
    "\n",
    "\n",
    "def train_model(path):\n",
    "    [images, labels, people] = get_images(train_path, img_pixel) # ksb\n",
    "\n",
    "\n",
    "    labels = np.asarray(labels, dtype= np.int32)\n",
    "    print('Total trained images: {}'.format(len(labels)))\n",
    "    print('Total classes : {}'.format(len(people)))\n",
    "\n",
    "    # initializing eigen_model and training\n",
    "    print(\"\\nInitializing FaceRecognizer and training...\")\n",
    "    sttime= time.time()\n",
    "#     eigen_model= cv2.face.EigenFaceRecognizer_create()\n",
    "    face_model= cv2.face.LBPHFaceRecognizer_create()\n",
    "    face_model.train(images, labels)\n",
    "\n",
    "    print(\"\\nCompleted training in {:.2f} s.\\n\" .format(time.time()- sttime))\n",
    "\n",
    "    return [face_model, people]    \n",
    "\n",
    "if __name__== \"__main__\":\n",
    "    face_model, people = train_model(train_path) \n",
    "#     face_model.write('facemodel.xml')    \n",
    "    face_model.write('facemodel.yml') \n",
    "    print('saved model..')\n",
    "    save_labels(people)\n"
   ]
  },
  {
   "cell_type": "code",
   "execution_count": null,
   "metadata": {},
   "outputs": [],
   "source": [
    "pd.DataFrame(people)"
   ]
  },
  {
   "cell_type": "code",
   "execution_count": null,
   "metadata": {},
   "outputs": [],
   "source": []
  }
 ],
 "metadata": {
  "kernelspec": {
   "display_name": "Python 3",
   "language": "python",
   "name": "python3"
  },
  "language_info": {
   "codemirror_mode": {
    "name": "ipython",
    "version": 3
   },
   "file_extension": ".py",
   "mimetype": "text/x-python",
   "name": "python",
   "nbconvert_exporter": "python",
   "pygments_lexer": "ipython3",
   "version": "3.7.1"
  }
 },
 "nbformat": 4,
 "nbformat_minor": 4
}
