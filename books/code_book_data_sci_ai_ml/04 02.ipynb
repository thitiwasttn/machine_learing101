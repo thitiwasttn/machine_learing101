{
 "cells": [
  {
   "cell_type": "code",
   "execution_count": null,
   "metadata": {},
   "outputs": [],
   "source": [
    "#ws7\n",
    "import pandas as pd\n",
    "\n",
    "datas = [25, 22, 25, 35, 32]\n",
    "df = pd.DataFrame(datas)\n",
    "df"
   ]
  },
  {
   "cell_type": "code",
   "execution_count": null,
   "metadata": {},
   "outputs": [],
   "source": [
    "datas = [25, 22, 25, 35, 32]\n",
    "cols = ['Age']\n",
    "\n",
    "df = pd.DataFrame(datas, columns=cols)\n",
    "print(type(df))\n",
    "df"
   ]
  },
  {
   "cell_type": "code",
   "execution_count": null,
   "metadata": {},
   "outputs": [],
   "source": [
    "datas = [[163, 37, 1],\n",
    "        [175, 20, 0],\n",
    "        [162, 27, 0],\n",
    "        [150, 10, 1] ]\n",
    "colms = ['height','hair_length','voice_pitch']\n",
    "df = pd.DataFrame(datas, columns=colms)\n",
    "df"
   ]
  },
  {
   "cell_type": "code",
   "execution_count": null,
   "metadata": {},
   "outputs": [],
   "source": [
    "lst1 = [15,22,30,24]\n",
    "lst2 = [20,18,38,19]\n",
    "datas = list(zip(lst1,lst2))\n",
    "\n",
    "cols = ['Age','Score']\n",
    "df = pd.DataFrame(datas, columns=cols)\n",
    "df"
   ]
  },
  {
   "cell_type": "code",
   "execution_count": null,
   "metadata": {},
   "outputs": [],
   "source": [
    "#ws8\n",
    "datas = [['Kobkiat',25,35],['ณิแนน',22,26.0],\n",
    "        ['จอห์น',25,32], ['Tim',35,29], ['Steal',32,27]]\n",
    "cols = ['Name','Age','Score']\n",
    "\n",
    "df = pd.DataFrame(datas, columns=cols)\n",
    "df\n",
    "# df.dtypes"
   ]
  },
  {
   "cell_type": "code",
   "execution_count": null,
   "metadata": {},
   "outputs": [],
   "source": [
    "df.set_index('Name', inplace=True)\n",
    "df"
   ]
  },
  {
   "cell_type": "code",
   "execution_count": null,
   "metadata": {},
   "outputs": [],
   "source": [
    "# ws9\n",
    "datas = [{'Name':'Kobkiat','Age':25,'Score':35},\n",
    "         {'Name':'ณิแนน','Age':22,'Score':26},\n",
    "         {'Name':'จอห์น','Age':25,'Score':32},\n",
    "         {'Name':'Tim','Age':35,'Score':29},\n",
    "         {'Name':'Steal','Age':32,'Score':27}]\n",
    "\n",
    "df = pd.DataFrame(datas, columns=cols)\n",
    "df\n",
    "# df.dtypes"
   ]
  },
  {
   "cell_type": "code",
   "execution_count": null,
   "metadata": {},
   "outputs": [],
   "source": [
    "# ws10\n",
    "names = ['Kobkiat','ณิแนน','จอห์น','Tim','Steal']\n",
    "ages = [25, 22, 25, 35, 32]\n",
    "scores = [35, 26, 32, 29, 27]\n",
    "cols = ['Name','Age','Score']\n",
    "\n",
    "name_series = pd.Series(names)\n",
    "age_series = pd.Series(ages)\n",
    "score_series = pd.Series(scores)\n",
    "\n",
    "frame = {'Name':name_series,\n",
    "         'Age':age_series,\n",
    "         'Score':score_series}\n",
    "\n",
    "df = pd.DataFrame(frame)\n",
    "df\n",
    "# frame"
   ]
  },
  {
   "cell_type": "code",
   "execution_count": null,
   "metadata": {},
   "outputs": [],
   "source": [
    "df2 = name_series.to_frame()\n",
    "df2 = name_series.to_frame(name='StdName')\n",
    "df2"
   ]
  },
  {
   "cell_type": "code",
   "execution_count": null,
   "metadata": {},
   "outputs": [],
   "source": [
    "df[1:3]"
   ]
  },
  {
   "cell_type": "code",
   "execution_count": null,
   "metadata": {},
   "outputs": [],
   "source": [
    "filepath = 'mydata.csv'\n",
    "df.to_csv(filepath)"
   ]
  },
  {
   "cell_type": "code",
   "execution_count": null,
   "metadata": {},
   "outputs": [],
   "source": [
    "filepath = 'mydata.xlsx'\n",
    "writer=pd.ExcelWriter(filepath)\n",
    "df.to_excel(writer)\n",
    "writer.save()"
   ]
  },
  {
   "cell_type": "code",
   "execution_count": null,
   "metadata": {},
   "outputs": [],
   "source": []
  }
 ],
 "metadata": {
  "kernelspec": {
   "display_name": "Python 3",
   "language": "python",
   "name": "python3"
  },
  "language_info": {
   "codemirror_mode": {
    "name": "ipython",
    "version": 3
   },
   "file_extension": ".py",
   "mimetype": "text/x-python",
   "name": "python",
   "nbconvert_exporter": "python",
   "pygments_lexer": "ipython3",
   "version": "3.7.1"
  }
 },
 "nbformat": 4,
 "nbformat_minor": 2
}
