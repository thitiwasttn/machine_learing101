{
 "cells": [
  {
   "cell_type": "code",
   "execution_count": null,
   "metadata": {},
   "outputs": [],
   "source": [
    "#IPython \n",
    "import IPython\n",
    "print( \"IPython:    {} (need at least 1.0)\".format(IPython.__version__))\n",
    "\n",
    "import jupyterlab\n",
    "print(\"JupyterLab:  {} (need at least 0.35.x)\".format(jupyterlab.__version__))\n",
    "\n",
    "# Numpy \n",
    "import numpy as np\n",
    "print(\"Numpy:       {} (need at least 1.7.1)\".format(np.__version__))\n",
    "\n",
    "# xlrd \n",
    "import xlrd\n",
    "print(\"xlrd:        {} (need at least 1.0.0)\".format(xlrd.__version__))\n",
    "\n",
    "# Pandas for data tables\n",
    "import pandas as pd\n",
    "print(\"Pandas:      {} (need at least 0.24.0)\".format(pd.__version__))\n",
    "\n",
    "# \n",
    "import matplotlib\n",
    "print(\"Matplotlib:  {} (need at least 1.2.1)\".format(matplotlib.__version__))\n",
    "\n",
    "import seaborn\n",
    "print(\"Seaborn:     {} (need at least 0.8 but prefer 0.9)\".format(seaborn.__version__))\n",
    "\n",
    "# SciKit Learn implements several Machine Learning algorithms\n",
    "import sklearn\n",
    "print(\"Scikit-Learn: {} (need at least 0.13.1)\".format(sklearn.__version__))"
   ]
  },
  {
   "cell_type": "code",
   "execution_count": null,
   "metadata": {},
   "outputs": [],
   "source": []
  }
 ],
 "metadata": {
  "kernelspec": {
   "display_name": "Python 3",
   "language": "python",
   "name": "python3"
  },
  "language_info": {
   "codemirror_mode": {
    "name": "ipython",
    "version": 3
   },
   "file_extension": ".py",
   "mimetype": "text/x-python",
   "name": "python",
   "nbconvert_exporter": "python",
   "pygments_lexer": "ipython3",
   "version": "3.7.1"
  }
 },
 "nbformat": 4,
 "nbformat_minor": 2
}
