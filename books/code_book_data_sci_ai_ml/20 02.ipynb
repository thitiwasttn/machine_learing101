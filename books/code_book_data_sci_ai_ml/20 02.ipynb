{
 "cells": [
  {
   "cell_type": "code",
   "execution_count": null,
   "metadata": {},
   "outputs": [],
   "source": [
    "# ws05\n",
    "import cv2\n",
    "\n",
    "img = cv2.imread('test.jpg') \n",
    "\n",
    "print(img.shape) \n",
    "\n",
    "cv2.imshow('image', img) \n",
    "cv2.waitKey(0)\n",
    "cv2.destroyAllWindows()"
   ]
  },
  {
   "cell_type": "markdown",
   "metadata": {},
   "source": [
    "### Ws06"
   ]
  },
  {
   "cell_type": "code",
   "execution_count": null,
   "metadata": {},
   "outputs": [],
   "source": [
    "blue = img[:,:,0]\n",
    "green = img[:,:,1]\n",
    "red = img[:,:,2]"
   ]
  },
  {
   "cell_type": "code",
   "execution_count": null,
   "metadata": {},
   "outputs": [],
   "source": [
    "cv2.imshow('image', red) \n",
    "k = cv2.waitKey(0)\n",
    "cv2.destroyAllWindows()"
   ]
  },
  {
   "cell_type": "code",
   "execution_count": null,
   "metadata": {},
   "outputs": [],
   "source": [
    "%matplotlib inline\n",
    "import matplotlib.pyplot as plt\n",
    "\n",
    "plt.figure(figsize=(6, 4))\n",
    "\n",
    "plt.imshow(red, cmap='gray',interpolation='none')\n",
    "plt.axis('off')\n",
    "plt.show()"
   ]
  },
  {
   "cell_type": "markdown",
   "metadata": {},
   "source": [
    "## Ws07"
   ]
  },
  {
   "cell_type": "code",
   "execution_count": null,
   "metadata": {},
   "outputs": [],
   "source": [
    "import cv2 \n",
    "   \n",
    "scale = 0.25\n",
    "cap = cv2.VideoCapture('vdo1.mp4') \n",
    "\n",
    "\n",
    "if (cap.isOpened()== False):  \n",
    "    print(\"Could not open the VDO file\") \n",
    "\n",
    "frame_counter = 0    \n",
    "while(cap.isOpened()): \n",
    "    # Capture frame-by-frame \n",
    "    ret, frame = cap.read() \n",
    "\n",
    "    if ret == True: \n",
    "\n",
    "        frame_counter += 1\n",
    "        if frame_counter >= cap.get(cv2.CAP_PROP_FRAME_COUNT):\n",
    "            frame_counter = 0 \n",
    "            cap.set(cv2.CAP_PROP_POS_FRAMES, frame_counter)\n",
    "            \n",
    "        frame = cv2.resize(frame,None,fx=scale,fy=scale,interpolation=cv2.INTER_AREA)\n",
    "\n",
    "        cv2.imshow('Mywindow', frame) \n",
    "\n",
    "        if cv2.waitKey(3) & 0xFF == 27: \n",
    "            break\n",
    "   \n",
    "\n",
    "    else:  # if ret true\n",
    "        break\n",
    "cap.release() \n",
    "cv2.destroyAllWindows() "
   ]
  },
  {
   "cell_type": "markdown",
   "metadata": {},
   "source": [
    "## ws08"
   ]
  },
  {
   "cell_type": "code",
   "execution_count": null,
   "metadata": {},
   "outputs": [],
   "source": [
    "import cv2\n",
    "\n",
    "source = 0\n",
    "cap = cv2.VideoCapture(source)\n",
    "\n",
    "if cap is None or not cap.isOpened():\n",
    "    print('could not open vdo source: ',source)\n",
    "else:\n",
    "    print('vdo source OK ->',source)\n",
    "    cap.release()"
   ]
  },
  {
   "cell_type": "code",
   "execution_count": null,
   "metadata": {},
   "outputs": [],
   "source": [
    "import cv2 \n",
    "   \n",
    "cap = cv2.VideoCapture(0) \n",
    "cap.set(cv2.CAP_PROP_FRAME_WIDTH, 320) \n",
    "cap.set(cv2.CAP_PROP_FRAME_HEIGHT, 240)\n",
    "\n",
    "if (cap.isOpened()== False):  \n",
    "    print(\"Could not open the VDO file\") \n",
    "\n",
    "frame_counter = 0    \n",
    "while(cap.isOpened()): \n",
    "    ret, frame = cap.read() \n",
    "\n",
    "    if ret == True: \n",
    "        frame_counter += 1\n",
    "        cv2.imshow('Mywindow', frame) \n",
    "        if cv2.waitKey(3) & 0xFF == 27: \n",
    "            break\n",
    "   \n",
    "    else:  # if ret true\n",
    "        break\n",
    "   \n",
    "\n",
    "cap.release()  \n",
    "cv2.destroyAllWindows() "
   ]
  },
  {
   "cell_type": "markdown",
   "metadata": {},
   "source": [
    "## ws09"
   ]
  },
  {
   "cell_type": "code",
   "execution_count": null,
   "metadata": {},
   "outputs": [],
   "source": [
    "\n",
    "import cv2\n",
    "\n",
    "scale = 0.7\n",
    "image_file = 'test.jpg'\n",
    "\n",
    "casc_file = 'haarcascade_frontalface_default.xml'\n",
    "# casc_file = 'lbpcascade_frontalface.xml'\n",
    "\n",
    "\n",
    "frontal_face = cv2.CascadeClassifier(casc_file)\n",
    "\n",
    "\n",
    "image = cv2.imread(image_file)\n",
    "image = cv2.resize(image, None,fx=scale,fy=scale,\n",
    "                   interpolation=cv2.INTER_AREA)\n",
    "gray_img = cv2.cvtColor(image, cv2.COLOR_BGR2GRAY)\n",
    "\n",
    "bBoxes = frontal_face.detectMultiScale(\n",
    "    gray_img, scaleFactor=1.3, minNeighbors=5,\n",
    "    minSize=(30, 30),\n",
    ")\n",
    "\n",
    "print(\"Found {} faces\".format(len(bBoxes)))\n",
    "\n",
    "for (x, y, w, h) in bBoxes:\n",
    "    cv2.rectangle(image, (x, y), (x+w, y+h), (0, 255, 0), 2)  \n",
    "\n",
    "cv2.imshow(\"MyWin\", image)\n",
    "\n",
    "cv2.waitKey(0)\n",
    "cv2.destroyAllWindows()"
   ]
  },
  {
   "cell_type": "markdown",
   "metadata": {},
   "source": [
    "#### ws10"
   ]
  },
  {
   "cell_type": "code",
   "execution_count": null,
   "metadata": {},
   "outputs": [],
   "source": [
    "import cv2 \n",
    "   \n",
    "cap = cv2.VideoCapture(0) \n",
    "cap.set(cv2.CAP_PROP_FRAME_WIDTH, 320) \n",
    "cap.set(cv2.CAP_PROP_FRAME_HEIGHT, 240)\n",
    "\n",
    "casc_file = 'haarcascade_frontalface_default.xml'\n",
    "# casc_file = 'lbpcascade_frontalface.xml'\n",
    "\n",
    "\n",
    "frontal_face = cv2.CascadeClassifier(casc_file)\n",
    "\n",
    "if (cap.isOpened()== False):  \n",
    "    print(\"Could not open the VDO file\") \n",
    "\n",
    "while(cap.isOpened()): \n",
    "\n",
    "    ret, frame = cap.read() \n",
    "\n",
    "    if ret == True: \n",
    "        gray_img = cv2.cvtColor(frame, cv2.COLOR_BGR2GRAY)\n",
    "        # Detect faces in the image\n",
    "        bBoxes = frontal_face.detectMultiScale(gray_img, \n",
    "                                scaleFactor=1.3, minNeighbors=5, minSize=(30, 30)\n",
    "                                           )\n",
    "       \n",
    "        for (x, y, w, h) in bBoxes:\n",
    "            cv2.rectangle(frame, (x, y), (x+w, y+h), (0, 255, 0), 2) \n",
    "\n",
    "        cv2.imshow('MyWin', frame) \n",
    "        if cv2.waitKey(10) & 0xFF == 27: \n",
    "            break\n",
    "   \n",
    "  \n",
    "    else:  # if ret true\n",
    "        break\n",
    "   \n",
    "\n",
    "cap.release() \n",
    "cv2.destroyAllWindows()"
   ]
  },
  {
   "cell_type": "code",
   "execution_count": null,
   "metadata": {},
   "outputs": [],
   "source": []
  }
 ],
 "metadata": {
  "kernelspec": {
   "display_name": "Python 3",
   "language": "python",
   "name": "python3"
  },
  "language_info": {
   "codemirror_mode": {
    "name": "ipython",
    "version": 3
   },
   "file_extension": ".py",
   "mimetype": "text/x-python",
   "name": "python",
   "nbconvert_exporter": "python",
   "pygments_lexer": "ipython3",
   "version": "3.7.1"
  }
 },
 "nbformat": 4,
 "nbformat_minor": 2
}
