{
 "cells": [
  {
   "cell_type": "code",
   "execution_count": null,
   "metadata": {},
   "outputs": [],
   "source": [
    "import pandas as pd\n",
    "pd.to_datetime('2020-10-6')"
   ]
  },
  {
   "cell_type": "code",
   "execution_count": null,
   "metadata": {},
   "outputs": [],
   "source": [
    "pd.to_datetime('6 Oct 2020 5:20pm')"
   ]
  },
  {
   "cell_type": "code",
   "execution_count": null,
   "metadata": {},
   "outputs": [],
   "source": [
    "pd.to_datetime('2020/10/6 5:20pm')"
   ]
  },
  {
   "cell_type": "code",
   "execution_count": null,
   "metadata": {},
   "outputs": [],
   "source": [
    "pd.to_datetime('10-6-2020')"
   ]
  },
  {
   "cell_type": "code",
   "execution_count": null,
   "metadata": {},
   "outputs": [],
   "source": [
    "pd.to_datetime('10-6-2020', dayfirst=True)"
   ]
  },
  {
   "cell_type": "code",
   "execution_count": null,
   "metadata": {},
   "outputs": [],
   "source": [
    "pd.to_datetime('1-6-2020', format='%d-%m-%Y')"
   ]
  },
  {
   "cell_type": "code",
   "execution_count": null,
   "metadata": {},
   "outputs": [],
   "source": [
    "pd.to_datetime('1/6/2020', format='%d/%m/%Y')"
   ]
  },
  {
   "cell_type": "code",
   "execution_count": null,
   "metadata": {},
   "outputs": [],
   "source": [
    "pd.to_datetime(['2020-6-2','2020-6-3','2020-6-8'], format='%Y/%m/%d')"
   ]
  },
  {
   "cell_type": "code",
   "execution_count": null,
   "metadata": {},
   "outputs": [],
   "source": [
    "pd.to_datetime('10-6-2563') "
   ]
  },
  {
   "cell_type": "code",
   "execution_count": null,
   "metadata": {},
   "outputs": [],
   "source": [
    "# ws01\n",
    "import pandas as pd\n",
    "import matplotlib.pyplot as plt\n",
    "plt.rcParams['figure.figsize'] = 11,3  "
   ]
  },
  {
   "cell_type": "code",
   "execution_count": null,
   "metadata": {},
   "outputs": [],
   "source": [
    "df = pd.read_csv('data/opsd_germany_daily.csv')"
   ]
  },
  {
   "cell_type": "code",
   "execution_count": null,
   "metadata": {},
   "outputs": [],
   "source": [
    "df.head()"
   ]
  },
  {
   "cell_type": "code",
   "execution_count": null,
   "metadata": {},
   "outputs": [],
   "source": [
    "df.tail()"
   ]
  },
  {
   "cell_type": "code",
   "execution_count": null,
   "metadata": {},
   "outputs": [],
   "source": [
    "df.sample(5)"
   ]
  },
  {
   "cell_type": "code",
   "execution_count": null,
   "metadata": {},
   "outputs": [],
   "source": [
    "df.describe()"
   ]
  },
  {
   "cell_type": "code",
   "execution_count": null,
   "metadata": {},
   "outputs": [],
   "source": [
    "df.shape"
   ]
  },
  {
   "cell_type": "code",
   "execution_count": null,
   "metadata": {},
   "outputs": [],
   "source": [
    "df.isnull().sum()"
   ]
  },
  {
   "cell_type": "code",
   "execution_count": null,
   "metadata": {},
   "outputs": [],
   "source": [
    "# ws02\n",
    "# plt.rcParams['figure.figsize'] = 11,3 \n",
    "# df.plot()\n",
    "df.plot(grid=True, lw=0.5, figsize=(10,3)) # \n",
    "plt.xlabel('Date')\n",
    "plt.ylabel('Power GWh')\n",
    "plt.show()"
   ]
  },
  {
   "cell_type": "code",
   "execution_count": null,
   "metadata": {},
   "outputs": [],
   "source": [
    "# ws03\n",
    "df.dtypes"
   ]
  },
  {
   "cell_type": "code",
   "execution_count": null,
   "metadata": {},
   "outputs": [],
   "source": [
    "df.Date = pd.to_datetime(df.Date, format='%Y-%m-%d')"
   ]
  },
  {
   "cell_type": "code",
   "execution_count": null,
   "metadata": {},
   "outputs": [],
   "source": [
    "df.head()"
   ]
  },
  {
   "cell_type": "code",
   "execution_count": null,
   "metadata": {},
   "outputs": [],
   "source": [
    "df.set_index('Date', inplace=True)"
   ]
  },
  {
   "cell_type": "code",
   "execution_count": null,
   "metadata": {},
   "outputs": [],
   "source": [
    "df.index[:10]"
   ]
  },
  {
   "cell_type": "code",
   "execution_count": null,
   "metadata": {},
   "outputs": [],
   "source": [
    "df.plot(lw=0.5)"
   ]
  },
  {
   "cell_type": "code",
   "execution_count": null,
   "metadata": {},
   "outputs": [],
   "source": [
    "df.loc['2016-1':'2016-3'].plot(grid=True)\n",
    "plt.ylabel('Power (GWh)');\n",
    "plt.show()"
   ]
  },
  {
   "cell_type": "code",
   "execution_count": null,
   "metadata": {},
   "outputs": [],
   "source": [
    "df.plot(marker='.', linestyle='None', figsize=(11,8), subplots=True, grid=True)\n",
    "plt.show()"
   ]
  },
  {
   "cell_type": "code",
   "execution_count": null,
   "metadata": {},
   "outputs": [],
   "source": [
    "cols_plot = ['Consumption', 'Solar', 'Wind']\n",
    "df[cols_plot].plot(marker='.', alpha=0.8, linestyle='None', figsize=(11, 9), subplots=True)"
   ]
  },
  {
   "cell_type": "code",
   "execution_count": null,
   "metadata": {},
   "outputs": [],
   "source": [
    "# ws04\n",
    "df.loc['2017-1-5'] "
   ]
  },
  {
   "cell_type": "code",
   "execution_count": null,
   "metadata": {},
   "outputs": [],
   "source": [
    "df.loc['2017-1'] # "
   ]
  },
  {
   "cell_type": "code",
   "execution_count": null,
   "metadata": {},
   "outputs": [],
   "source": [
    "df.loc['2017']\n",
    "df.loc['2017'].count()\n",
    "df.loc['2017'].head()\n",
    "df.loc['2017'].tail()"
   ]
  },
  {
   "cell_type": "code",
   "execution_count": null,
   "metadata": {},
   "outputs": [],
   "source": [
    "df.loc['2017-1-1':'2017-1-5']"
   ]
  },
  {
   "cell_type": "code",
   "execution_count": null,
   "metadata": {},
   "outputs": [],
   "source": [
    "date_range = pd.date_range('2017-1-1', periods=7, freq='d')\n",
    "df.loc[date_range]"
   ]
  },
  {
   "cell_type": "code",
   "execution_count": null,
   "metadata": {},
   "outputs": [],
   "source": [
    "# ws05\n",
    "cols_plot = ['Solar', 'Wind']\n",
    "df[cols_plot].loc['2017'].plot(grid=True)\n",
    "plt.ylabel('Power (GWh)');\n",
    "plt.show()"
   ]
  },
  {
   "cell_type": "code",
   "execution_count": null,
   "metadata": {},
   "outputs": [],
   "source": [
    "cols_plot = ['Solar', 'Wind']\n",
    "df[cols_plot].loc['2017-1':'2017-10'].plot(grid=True)\n",
    "plt.ylabel('Power (GWh)');\n",
    "plt.show()"
   ]
  },
  {
   "cell_type": "code",
   "execution_count": null,
   "metadata": {},
   "outputs": [],
   "source": [
    "df.Consumption.loc['2016':'2017'].plot(grid=True)\n",
    "plt.ylabel('Consumption (GWh)');\n",
    "\n",
    "plt.show()"
   ]
  },
  {
   "cell_type": "code",
   "execution_count": null,
   "metadata": {},
   "outputs": [],
   "source": [
    "# ws06\n",
    "start, end = '2017-12-1', '2017-12-7'\n",
    "columns = ['Consumption', 'Wind', 'Solar'] \n",
    "\n",
    "df[columns][start : end].round(1)"
   ]
  },
  {
   "cell_type": "code",
   "execution_count": null,
   "metadata": {},
   "outputs": [],
   "source": [
    "df_weekly_roll = df[columns].rolling(7, center=True).mean()\n",
    "df_weekly_roll[start : end].round(1)"
   ]
  },
  {
   "cell_type": "code",
   "execution_count": null,
   "metadata": {},
   "outputs": [],
   "source": [
    "df[columns][start : end].mean().round(1)"
   ]
  },
  {
   "cell_type": "code",
   "execution_count": null,
   "metadata": {},
   "outputs": [],
   "source": [
    "df.shape"
   ]
  },
  {
   "cell_type": "code",
   "execution_count": null,
   "metadata": {},
   "outputs": [],
   "source": [
    "df_weekly_roll.shape"
   ]
  },
  {
   "cell_type": "code",
   "execution_count": null,
   "metadata": {},
   "outputs": [],
   "source": [
    "# ws07\n",
    "\n",
    "df_weekly_resampling = df[columns].resample('7d').mean()\n",
    "df_weekly_resampling.tail().round(1)"
   ]
  },
  {
   "cell_type": "code",
   "execution_count": null,
   "metadata": {},
   "outputs": [],
   "source": [
    "df_weekly_resampling.shape"
   ]
  },
  {
   "cell_type": "code",
   "execution_count": null,
   "metadata": {},
   "outputs": [],
   "source": [
    "df_weekly_resampling = df[columns].resample('q').mean()\n",
    "df_weekly_resampling.tail().round(1)"
   ]
  },
  {
   "cell_type": "code",
   "execution_count": null,
   "metadata": {},
   "outputs": [],
   "source": [
    "\n",
    "start, end = '2017-12-1', '2017-12-31'\n",
    "df[columns][start : end].sum().round(1)"
   ]
  },
  {
   "cell_type": "code",
   "execution_count": null,
   "metadata": {},
   "outputs": [],
   "source": [
    "# ws08\n",
    "df_resampling = df[columns].resample('1w').mean()\n",
    "\n",
    "df_resampling.plot(grid=True)\n",
    "plt.ylabel('GWh');\n",
    "plt.title('Power')\n",
    "plt.show()"
   ]
  },
  {
   "cell_type": "code",
   "execution_count": null,
   "metadata": {},
   "outputs": [],
   "source": [
    "start, end = '2017-2','2017-10'\n",
    "df.Solar.loc[start:end].plot(marker='o', label='Daily', markersize=2, alpha=0.7)\n",
    "df.Solar.loc[start:end].resample('15d').mean().plot(marker='o', c='blue',\n",
    "                                                 markersize=8, label='Mean Sampling')\n",
    "df.Solar.loc[start:end].rolling(15, center=True).mean().plot(marker='o',\n",
    "                                                 markersize=4, label='Mean Rolling')\n",
    "plt.ylabel('Power (GWh)');\n",
    "plt.title('Solar')\n",
    "plt.legend()\n",
    "plt.grid()\n",
    "plt.show()"
   ]
  },
  {
   "cell_type": "code",
   "execution_count": null,
   "metadata": {},
   "outputs": [],
   "source": [
    "# ws09\n",
    "columns = ['Solar','Wind']\n",
    "yearly = df[columns].resample('y').sum()\n",
    "\n",
    "yearly.plot(kind='bar', figsize=(10,3), rot=20)\n",
    "plt.grid()\n",
    "plt.show()"
   ]
  },
  {
   "cell_type": "code",
   "execution_count": null,
   "metadata": {},
   "outputs": [],
   "source": [
    "\n",
    "columns = ['Solar','Wind']\n",
    "yearly = df[columns].resample('y').sum()\n",
    "    \n",
    "def x_label(datetime):\n",
    "    lb = str(datetime.year) \n",
    "    return lb\n",
    "\n",
    "ax = yearly.plot(kind='bar', figsize=(10,3), rot=20)\n",
    "ax.set_xticklabels(map(lambda x: x_label(x), yearly.index))\n",
    "ax.set(xlabel=\"Year\", ylabel=\"Power (GWh)\")\n",
    "ax.set(title=\"Yearly Power 2006-2018\")\n",
    "plt.grid()\n",
    "plt.show()"
   ]
  },
  {
   "cell_type": "code",
   "execution_count": null,
   "metadata": {},
   "outputs": [],
   "source": [
    "# https://stackoverflow.com/questions/30133280/pandas-bar-plot-changes-date-format\n",
    "# import datetime\n",
    "    \n",
    "columns = ['Solar','Wind']\n",
    "yearly = df[columns].resample('y').sum()\n",
    "    \n",
    "def line_format(datetime):\n",
    "    \"\"\"\n",
    "    Convert time label to the format of pandas line plot\n",
    "    \"\"\"\n",
    "    month = datetime.month_name()[:3]\n",
    "    if month == 'Jan':\n",
    "        month += f'\\n{datetime.year}'\n",
    "    lb = str(datetime.year) # + '/' + str(datetime.month)\n",
    "    return lb\n",
    "\n",
    "# Note that we specify rot here\n",
    "# ax = df_year.Age.plot(kind='bar', figsize=(10, 3), color='#2ecc71', rot=0)\n",
    "ax = yearly.plot(kind='bar', figsize=(12,3), rot=20)\n",
    "ax.set_xticklabels(map(lambda x: line_format(x), yearly.index))\n",
    "ax.set(xlabel=\"Date\", ylabel=\"Power (GWh)\")\n",
    "ax.set(title=\"Yearly Power 2006-2018\")\n",
    "plt.grid()\n",
    "plt.show()"
   ]
  },
  {
   "cell_type": "code",
   "execution_count": null,
   "metadata": {},
   "outputs": [],
   "source": []
  }
 ],
 "metadata": {
  "kernelspec": {
   "display_name": "Python 3",
   "language": "python",
   "name": "python3"
  },
  "language_info": {
   "codemirror_mode": {
    "name": "ipython",
    "version": 3
   },
   "file_extension": ".py",
   "mimetype": "text/x-python",
   "name": "python",
   "nbconvert_exporter": "python",
   "pygments_lexer": "ipython3",
   "version": "3.7.1"
  }
 },
 "nbformat": 4,
 "nbformat_minor": 2
}
