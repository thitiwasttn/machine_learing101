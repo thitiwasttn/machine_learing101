{
 "cells": [
  {
   "cell_type": "code",
   "execution_count": null,
   "metadata": {},
   "outputs": [],
   "source": [
    "# ws1\n",
    "import pandas as pd\n",
    "\n",
    "datas = [1.2, 2.3, 1.5, 2, 3, 1.8, 1.4, 2.5]\n",
    "ds = pd.Series(datas)\n",
    "ds.mean()\n",
    "# ds.max()\n",
    "ds.std()\n",
    "# ds.describe()\n",
    "ds.values"
   ]
  },
  {
   "cell_type": "code",
   "execution_count": null,
   "metadata": {},
   "outputs": [],
   "source": [
    "# ws2 \n",
    "uri = 'data/stats_freq.xlsx'\n",
    "df = pd.read_excel(uri)\n",
    "df.dtypes"
   ]
  },
  {
   "cell_type": "code",
   "execution_count": null,
   "metadata": {},
   "outputs": [],
   "source": [
    "df.mean()"
   ]
  },
  {
   "cell_type": "code",
   "execution_count": null,
   "metadata": {},
   "outputs": [],
   "source": [
    "df.Sex = df.Sex.astype('category')\n",
    "df.dtypes"
   ]
  },
  {
   "cell_type": "code",
   "execution_count": null,
   "metadata": {},
   "outputs": [],
   "source": [
    "# df.head()\n",
    "df.describe()\n",
    "# df.mean()\n",
    "# df.max()\n",
    "# df.std()"
   ]
  },
  {
   "cell_type": "code",
   "execution_count": null,
   "metadata": {},
   "outputs": [],
   "source": [
    "# ws3\n",
    "datas = [1.2, 2.3, 1.5, 2, 3, 1.8, 1.4, 2.5]\n",
    "ds = pd.Series(datas)\n",
    "ds.median()"
   ]
  },
  {
   "cell_type": "code",
   "execution_count": null,
   "metadata": {},
   "outputs": [],
   "source": [
    "ds.sort_values().values"
   ]
  },
  {
   "cell_type": "code",
   "execution_count": null,
   "metadata": {},
   "outputs": [],
   "source": [
    "# WS4\n",
    "uri = 'data/stats_freq.xlsx'\n",
    "df = pd.read_excel(uri)\n",
    "df.dtypes\n",
    "df.Sex = df.Sex.astype('category')\n",
    "df.Buy.median()       # ไม่ต้องสั่ง sort เนื่องจาก Pandas ทำให้เอง\n",
    "df.median()       # ไม่ต้องสั่ง sort เนื่องจาก Pandas ทำให้เอง\n",
    "# df.Age.mode()"
   ]
  },
  {
   "cell_type": "code",
   "execution_count": null,
   "metadata": {},
   "outputs": [],
   "source": [
    "# ws5\n",
    "datas = [25, 22, 25, 35, 32, 28, 23, 26]\n",
    "ds = pd.Series(datas)\n",
    "ds.mode()"
   ]
  },
  {
   "cell_type": "code",
   "execution_count": null,
   "metadata": {},
   "outputs": [],
   "source": [
    "# ws6\n",
    "uri = 'data/stats_freq.xlsx'\n",
    "df = pd.read_excel(uri)\n",
    "df.dtypes\n",
    "df.Sex = df.Sex.astype('category')\n",
    "df.Age.mode()    "
   ]
  },
  {
   "cell_type": "code",
   "execution_count": null,
   "metadata": {},
   "outputs": [],
   "source": [
    "df.std()"
   ]
  },
  {
   "cell_type": "code",
   "execution_count": null,
   "metadata": {},
   "outputs": [],
   "source": [
    "# ws7\n",
    "datas = [8, 4, 10, 2, 6, 5, 1, 7, 9, 3, 0] \n",
    "ds = pd.Series(datas)\n",
    "ds.describe()\n",
    "# ds.quantile([0.25, 0.5, 0.75])"
   ]
  },
  {
   "cell_type": "code",
   "execution_count": null,
   "metadata": {},
   "outputs": [],
   "source": [
    "# ws\n",
    "ds.quantile([0.1,0.2, 0.5, 0.7, 0.8])\n",
    "ds.quantile([0.05, 0.1, 0.15, 0.2, 0.25])"
   ]
  },
  {
   "cell_type": "code",
   "execution_count": null,
   "metadata": {},
   "outputs": [],
   "source": [
    "# ws8\n",
    "\n",
    "datas = [1, 2, 1, 2, 1, 1, 1, 2]\n",
    "datas = ['M', 'F', 'M', 'F', 'M', 'M' , 'M', 'F']\n",
    "\n",
    "ds = pd.Series(datas)\n",
    "\n",
    "print(ds.value_counts())\n",
    "print('Total ', ds.count())"
   ]
  },
  {
   "cell_type": "code",
   "execution_count": null,
   "metadata": {},
   "outputs": [],
   "source": [
    "# \n",
    "%matplotlib inline\n",
    "\n",
    "ds.value_counts().plot.bar(grid=True)\n",
    "# df.dtypes"
   ]
  },
  {
   "cell_type": "code",
   "execution_count": null,
   "metadata": {},
   "outputs": [],
   "source": [
    "# ws9\n",
    "uri = './data/stats_freq.xlsx'\n",
    "df = pd.read_excel(uri)\n",
    "df.head()\n",
    "df.Sex.value_counts()\n",
    "df.Gender.value_counts()"
   ]
  },
  {
   "cell_type": "code",
   "execution_count": null,
   "metadata": {},
   "outputs": [],
   "source": [
    "df.hist()"
   ]
  },
  {
   "cell_type": "code",
   "execution_count": null,
   "metadata": {},
   "outputs": [],
   "source": []
  }
 ],
 "metadata": {
  "kernelspec": {
   "display_name": "Python 3",
   "language": "python",
   "name": "python3"
  },
  "language_info": {
   "codemirror_mode": {
    "name": "ipython",
    "version": 3
   },
   "file_extension": ".py",
   "mimetype": "text/x-python",
   "name": "python",
   "nbconvert_exporter": "python",
   "pygments_lexer": "ipython3",
   "version": "3.7.4"
  }
 },
 "nbformat": 4,
 "nbformat_minor": 4
}
