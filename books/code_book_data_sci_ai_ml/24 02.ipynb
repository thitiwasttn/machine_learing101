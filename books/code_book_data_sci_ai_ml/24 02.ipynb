{
 "cells": [
  {
   "cell_type": "code",
   "execution_count": 1,
   "metadata": {
    "pycharm": {
     "name": "#%%\n"
    }
   },
   "outputs": [],
   "source": [
    "# ws03\n",
    "\n",
    "# -*- coding: utf-8 -*-"
   ]
  },
  {
   "cell_type": "code",
   "execution_count": 2,
   "metadata": {
    "pycharm": {
     "name": "#%%\n"
    }
   },
   "outputs": [],
   "source": [
    "import pandas as pd\n",
    "import numpy as np\n",
    "from sklearn.feature_extraction.text import CountVectorizer\n",
    "from sklearn.metrics.pairwise import cosine_similarity\n",
    "\n",
    "df = pd.read_csv(\"data/movie.csv\")"
   ]
  },
  {
   "cell_type": "code",
   "execution_count": 3,
   "metadata": {
    "pycharm": {
     "name": "#%%\n"
    }
   },
   "outputs": [
    {
     "data": {
      "text/plain": "(4803, 24)"
     },
     "execution_count": 3,
     "metadata": {},
     "output_type": "execute_result"
    }
   ],
   "source": [
    "df.shape"
   ]
  },
  {
   "cell_type": "code",
   "execution_count": 4,
   "metadata": {
    "pycharm": {
     "name": "#%%\n"
    }
   },
   "outputs": [
    {
     "data": {
      "text/plain": "   index     budget                                    genres  \\\n0      0  237000000  Action Adventure Fantasy Science Fiction   \n1      1  300000000                  Adventure Fantasy Action   \n2      2  245000000                    Action Adventure Crime   \n3      3  250000000               Action Crime Drama Thriller   \n4      4  260000000          Action Adventure Science Fiction   \n\n                                       homepage      id  \\\n0                   http://www.avatarmovie.com/   19995   \n1  http://disney.go.com/disneypictures/pirates/     285   \n2   http://www.sonypictures.com/movies/spectre/  206647   \n3            http://www.thedarkknightrises.com/   49026   \n4          http://movies.disney.com/john-carter   49529   \n\n                                            keywords original_language  \\\n0  culture clash future space war space colony so...                en   \n1  ocean drug abuse exotic island east india trad...                en   \n2         spy based on novel secret agent sequel mi6                en   \n3  dc comics crime fighter terrorist secret ident...                en   \n4  based on novel mars medallion space travel pri...                en   \n\n                             original_title  \\\n0                                    Avatar   \n1  Pirates of the Caribbean: At World's End   \n2                                   Spectre   \n3                     The Dark Knight Rises   \n4                               John Carter   \n\n                                            overview  popularity  ... runtime  \\\n0  In the 22nd century, a paraplegic Marine is di...  150.437577  ...   162.0   \n1  Captain Barbossa, long believed to be dead, ha...  139.082615  ...   169.0   \n2  A cryptic message from Bond’s past sends him o...  107.376788  ...   148.0   \n3  Following the death of District Attorney Harve...  112.312950  ...   165.0   \n4  John Carter is a war-weary, former military ca...   43.926995  ...   132.0   \n\n                                    spoken_languages    status  \\\n0  [{\"iso_639_1\": \"en\", \"name\": \"English\"}, {\"iso...  Released   \n1           [{\"iso_639_1\": \"en\", \"name\": \"English\"}]  Released   \n2  [{\"iso_639_1\": \"fr\", \"name\": \"Fran\\u00e7ais\"},...  Released   \n3           [{\"iso_639_1\": \"en\", \"name\": \"English\"}]  Released   \n4           [{\"iso_639_1\": \"en\", \"name\": \"English\"}]  Released   \n\n                                          tagline  \\\n0                     Enter the World of Pandora.   \n1  At the end of the world, the adventure begins.   \n2                           A Plan No One Escapes   \n3                                 The Legend Ends   \n4            Lost in our world, found in another.   \n\n                                      title vote_average vote_count  \\\n0                                    Avatar          7.2      11800   \n1  Pirates of the Caribbean: At World's End          6.9       4500   \n2                                   Spectre          6.3       4466   \n3                     The Dark Knight Rises          7.6       9106   \n4                               John Carter          6.1       2124   \n\n                                                cast  \\\n0  Sam Worthington Zoe Saldana Sigourney Weaver S...   \n1  Johnny Depp Orlando Bloom Keira Knightley Stel...   \n2  Daniel Craig Christoph Waltz L\\u00e9a Seydoux ...   \n3  Christian Bale Michael Caine Gary Oldman Anne ...   \n4  Taylor Kitsch Lynn Collins Samantha Morton Wil...   \n\n                                                crew           director  \n0  [{'name': 'Stephen E. Rivkin', 'gender': 0, 'd...      James Cameron  \n1  [{'name': 'Dariusz Wolski', 'gender': 2, 'depa...     Gore Verbinski  \n2  [{'name': 'Thomas Newman', 'gender': 2, 'depar...         Sam Mendes  \n3  [{'name': 'Hans Zimmer', 'gender': 2, 'departm...  Christopher Nolan  \n4  [{'name': 'Andrew Stanton', 'gender': 2, 'depa...     Andrew Stanton  \n\n[5 rows x 24 columns]",
      "text/html": "<div>\n<style scoped>\n    .dataframe tbody tr th:only-of-type {\n        vertical-align: middle;\n    }\n\n    .dataframe tbody tr th {\n        vertical-align: top;\n    }\n\n    .dataframe thead th {\n        text-align: right;\n    }\n</style>\n<table border=\"1\" class=\"dataframe\">\n  <thead>\n    <tr style=\"text-align: right;\">\n      <th></th>\n      <th>index</th>\n      <th>budget</th>\n      <th>genres</th>\n      <th>homepage</th>\n      <th>id</th>\n      <th>keywords</th>\n      <th>original_language</th>\n      <th>original_title</th>\n      <th>overview</th>\n      <th>popularity</th>\n      <th>...</th>\n      <th>runtime</th>\n      <th>spoken_languages</th>\n      <th>status</th>\n      <th>tagline</th>\n      <th>title</th>\n      <th>vote_average</th>\n      <th>vote_count</th>\n      <th>cast</th>\n      <th>crew</th>\n      <th>director</th>\n    </tr>\n  </thead>\n  <tbody>\n    <tr>\n      <th>0</th>\n      <td>0</td>\n      <td>237000000</td>\n      <td>Action Adventure Fantasy Science Fiction</td>\n      <td>http://www.avatarmovie.com/</td>\n      <td>19995</td>\n      <td>culture clash future space war space colony so...</td>\n      <td>en</td>\n      <td>Avatar</td>\n      <td>In the 22nd century, a paraplegic Marine is di...</td>\n      <td>150.437577</td>\n      <td>...</td>\n      <td>162.0</td>\n      <td>[{\"iso_639_1\": \"en\", \"name\": \"English\"}, {\"iso...</td>\n      <td>Released</td>\n      <td>Enter the World of Pandora.</td>\n      <td>Avatar</td>\n      <td>7.2</td>\n      <td>11800</td>\n      <td>Sam Worthington Zoe Saldana Sigourney Weaver S...</td>\n      <td>[{'name': 'Stephen E. Rivkin', 'gender': 0, 'd...</td>\n      <td>James Cameron</td>\n    </tr>\n    <tr>\n      <th>1</th>\n      <td>1</td>\n      <td>300000000</td>\n      <td>Adventure Fantasy Action</td>\n      <td>http://disney.go.com/disneypictures/pirates/</td>\n      <td>285</td>\n      <td>ocean drug abuse exotic island east india trad...</td>\n      <td>en</td>\n      <td>Pirates of the Caribbean: At World's End</td>\n      <td>Captain Barbossa, long believed to be dead, ha...</td>\n      <td>139.082615</td>\n      <td>...</td>\n      <td>169.0</td>\n      <td>[{\"iso_639_1\": \"en\", \"name\": \"English\"}]</td>\n      <td>Released</td>\n      <td>At the end of the world, the adventure begins.</td>\n      <td>Pirates of the Caribbean: At World's End</td>\n      <td>6.9</td>\n      <td>4500</td>\n      <td>Johnny Depp Orlando Bloom Keira Knightley Stel...</td>\n      <td>[{'name': 'Dariusz Wolski', 'gender': 2, 'depa...</td>\n      <td>Gore Verbinski</td>\n    </tr>\n    <tr>\n      <th>2</th>\n      <td>2</td>\n      <td>245000000</td>\n      <td>Action Adventure Crime</td>\n      <td>http://www.sonypictures.com/movies/spectre/</td>\n      <td>206647</td>\n      <td>spy based on novel secret agent sequel mi6</td>\n      <td>en</td>\n      <td>Spectre</td>\n      <td>A cryptic message from Bond’s past sends him o...</td>\n      <td>107.376788</td>\n      <td>...</td>\n      <td>148.0</td>\n      <td>[{\"iso_639_1\": \"fr\", \"name\": \"Fran\\u00e7ais\"},...</td>\n      <td>Released</td>\n      <td>A Plan No One Escapes</td>\n      <td>Spectre</td>\n      <td>6.3</td>\n      <td>4466</td>\n      <td>Daniel Craig Christoph Waltz L\\u00e9a Seydoux ...</td>\n      <td>[{'name': 'Thomas Newman', 'gender': 2, 'depar...</td>\n      <td>Sam Mendes</td>\n    </tr>\n    <tr>\n      <th>3</th>\n      <td>3</td>\n      <td>250000000</td>\n      <td>Action Crime Drama Thriller</td>\n      <td>http://www.thedarkknightrises.com/</td>\n      <td>49026</td>\n      <td>dc comics crime fighter terrorist secret ident...</td>\n      <td>en</td>\n      <td>The Dark Knight Rises</td>\n      <td>Following the death of District Attorney Harve...</td>\n      <td>112.312950</td>\n      <td>...</td>\n      <td>165.0</td>\n      <td>[{\"iso_639_1\": \"en\", \"name\": \"English\"}]</td>\n      <td>Released</td>\n      <td>The Legend Ends</td>\n      <td>The Dark Knight Rises</td>\n      <td>7.6</td>\n      <td>9106</td>\n      <td>Christian Bale Michael Caine Gary Oldman Anne ...</td>\n      <td>[{'name': 'Hans Zimmer', 'gender': 2, 'departm...</td>\n      <td>Christopher Nolan</td>\n    </tr>\n    <tr>\n      <th>4</th>\n      <td>4</td>\n      <td>260000000</td>\n      <td>Action Adventure Science Fiction</td>\n      <td>http://movies.disney.com/john-carter</td>\n      <td>49529</td>\n      <td>based on novel mars medallion space travel pri...</td>\n      <td>en</td>\n      <td>John Carter</td>\n      <td>John Carter is a war-weary, former military ca...</td>\n      <td>43.926995</td>\n      <td>...</td>\n      <td>132.0</td>\n      <td>[{\"iso_639_1\": \"en\", \"name\": \"English\"}]</td>\n      <td>Released</td>\n      <td>Lost in our world, found in another.</td>\n      <td>John Carter</td>\n      <td>6.1</td>\n      <td>2124</td>\n      <td>Taylor Kitsch Lynn Collins Samantha Morton Wil...</td>\n      <td>[{'name': 'Andrew Stanton', 'gender': 2, 'depa...</td>\n      <td>Andrew Stanton</td>\n    </tr>\n  </tbody>\n</table>\n<p>5 rows × 24 columns</p>\n</div>"
     },
     "execution_count": 4,
     "metadata": {},
     "output_type": "execute_result"
    }
   ],
   "source": [
    "df.head()"
   ]
  },
  {
   "cell_type": "code",
   "execution_count": 5,
   "metadata": {
    "pycharm": {
     "name": "#%%\n"
    }
   },
   "outputs": [
    {
     "data": {
      "text/plain": "index                      0\nbudget                     0\ngenres                    28\nhomepage                3091\nid                         0\nkeywords                 412\noriginal_language          0\noriginal_title             0\noverview                   3\npopularity                 0\nproduction_companies       0\nproduction_countries       0\nrelease_date               1\nrevenue                    0\nruntime                    2\nspoken_languages           0\nstatus                     0\ntagline                  844\ntitle                      0\nvote_average               0\nvote_count                 0\ncast                      43\ncrew                       0\ndirector                  30\ndtype: int64"
     },
     "execution_count": 5,
     "metadata": {},
     "output_type": "execute_result"
    }
   ],
   "source": [
    "df.isnull().sum()"
   ]
  },
  {
   "cell_type": "code",
   "execution_count": 6,
   "metadata": {
    "pycharm": {
     "name": "#%%\n"
    }
   },
   "outputs": [
    {
     "data": {
      "text/plain": "Index(['index', 'budget', 'genres', 'homepage', 'id', 'keywords',\n       'original_language', 'original_title', 'overview', 'popularity',\n       'production_companies', 'production_countries', 'release_date',\n       'revenue', 'runtime', 'spoken_languages', 'status', 'tagline', 'title',\n       'vote_average', 'vote_count', 'cast', 'crew', 'director'],\n      dtype='object')"
     },
     "execution_count": 6,
     "metadata": {},
     "output_type": "execute_result"
    }
   ],
   "source": [
    "df.columns"
   ]
  },
  {
   "cell_type": "code",
   "execution_count": 6,
   "metadata": {
    "pycharm": {
     "name": "#%%\n"
    }
   },
   "outputs": [],
   "source": []
  },
  {
   "cell_type": "code",
   "execution_count": 7,
   "metadata": {
    "pycharm": {
     "name": "#%%\n"
    }
   },
   "outputs": [
    {
     "data": {
      "text/plain": "35     Transformers: Revenge of the Fallen\n36         Transformers: Age of Extinction\n52          Transformers: Dark of the Moon\n111                           Transformers\nName: title, dtype: object"
     },
     "execution_count": 7,
     "metadata": {},
     "output_type": "execute_result"
    }
   ],
   "source": [
    "df[df.title.str.contains('transformer', case=False)].title"
   ]
  },
  {
   "cell_type": "code",
   "execution_count": 8,
   "metadata": {
    "pycharm": {
     "name": "#%%\n"
    }
   },
   "outputs": [
    {
     "data": {
      "text/plain": "'Young teenager, Sam Witwicky becomes involved in the ancient struggle between two extraterrestrial factions of transforming robots – the heroic Autobots and the evil Decepticons. Sam holds the clue to unimaginable power and the Decepticons will stop at nothing to retrieve it.'"
     },
     "execution_count": 8,
     "metadata": {},
     "output_type": "execute_result"
    }
   ],
   "source": [
    "df.iloc[111].overview"
   ]
  },
  {
   "cell_type": "code",
   "execution_count": 9,
   "metadata": {
    "pycharm": {
     "name": "#%%\n"
    }
   },
   "outputs": [
    {
     "data": {
      "text/plain": "'Young teenager, Sam Witwicky becomes involved in the ancient struggle between two extraterrestrial factions of transforming robots – the heroic Autobots and the evil Decepticons. Sam holds the clue to unimaginable power and the Decepticons will stop at nothing to retrieve it.'"
     },
     "execution_count": 9,
     "metadata": {},
     "output_type": "execute_result"
    }
   ],
   "source": [
    "df.iloc[111].overview"
   ]
  },
  {
   "cell_type": "code",
   "execution_count": 10,
   "metadata": {
    "pycharm": {
     "name": "#%%\n"
    }
   },
   "outputs": [
    {
     "data": {
      "text/plain": "'destroy transformation alien based on toy transformers'"
     },
     "execution_count": 10,
     "metadata": {},
     "output_type": "execute_result"
    }
   ],
   "source": [
    "df.iloc[111].keywords"
   ]
  },
  {
   "cell_type": "code",
   "execution_count": 11,
   "metadata": {
    "pycharm": {
     "name": "#%%\n"
    }
   },
   "outputs": [
    {
     "name": "stdout",
     "output_type": "stream",
     "text": [
      "\n",
      "\t Title:  Transformers: Revenge of the Fallen\n",
      "overview: Sam Witwicky leaves the Autobots behind for a normal life. But when his mind is filled with cryptic symbols, the Decepticons target him and he is dragged back into the Transformers' war.\n",
      "\n",
      "kwd: egypt sun chaos symbol artifact\n",
      "-----------------\n",
      "\n",
      "\t Title:  Transformers: Age of Extinction\n",
      "overview: As humanity picks up the pieces, following the conclusion of \"Transformers: Dark of the Moon,\" Autobots and Decepticons have all but vanished from the face of the planet. However, a group of powerful, ingenious businessman and scientists attempt to learn from past Transformer incursions and push the boundaries of technology beyond what they can control - all while an ancient, powerful Transformer menace sets Earth in his cross-hairs.\n",
      "\n",
      "kwd: sequel alien transformers giant robot robot\n",
      "-----------------\n",
      "\n",
      "\t Title:  Transformers: Dark of the Moon\n",
      "overview: Sam Witwicky takes his first tenuous steps into adulthood while remaining a reluctant human ally of Autobot-leader Optimus Prime. The film centers around the space race between the USSR and the USA, suggesting there was a hidden Transformers role in it all that remains one of the planet's most dangerous secrets.\n",
      "\n",
      "kwd: moon spacecraft traitor bodyguard alien planet\n",
      "-----------------\n"
     ]
    }
   ],
   "source": [
    "ids = [35,36,52] \n",
    "for k in ids:\n",
    "    print('\\n\\t Title: ', df.iloc[k].title)\n",
    "    print('overview:', df.iloc[k].overview) \n",
    "    print()\n",
    "    print('kwd:',df.iloc[k].keywords)  \n",
    "    print('-----------------')"
   ]
  },
  {
   "cell_type": "code",
   "execution_count": 12,
   "metadata": {
    "pycharm": {
     "name": "#%%\n"
    }
   },
   "outputs": [
    {
     "data": {
      "text/plain": "                                       homepage     id  \\\n0                   http://www.avatarmovie.com/  19995   \n1  http://disney.go.com/disneypictures/pirates/    285   \n\n                                            keywords original_language  \\\n0  culture clash future space war space colony so...                en   \n1  ocean drug abuse exotic island east india trad...                en   \n\n                             original_title  \n0                                    Avatar  \n1  Pirates of the Caribbean: At World's End  ",
      "text/html": "<div>\n<style scoped>\n    .dataframe tbody tr th:only-of-type {\n        vertical-align: middle;\n    }\n\n    .dataframe tbody tr th {\n        vertical-align: top;\n    }\n\n    .dataframe thead th {\n        text-align: right;\n    }\n</style>\n<table border=\"1\" class=\"dataframe\">\n  <thead>\n    <tr style=\"text-align: right;\">\n      <th></th>\n      <th>homepage</th>\n      <th>id</th>\n      <th>keywords</th>\n      <th>original_language</th>\n      <th>original_title</th>\n    </tr>\n  </thead>\n  <tbody>\n    <tr>\n      <th>0</th>\n      <td>http://www.avatarmovie.com/</td>\n      <td>19995</td>\n      <td>culture clash future space war space colony so...</td>\n      <td>en</td>\n      <td>Avatar</td>\n    </tr>\n    <tr>\n      <th>1</th>\n      <td>http://disney.go.com/disneypictures/pirates/</td>\n      <td>285</td>\n      <td>ocean drug abuse exotic island east india trad...</td>\n      <td>en</td>\n      <td>Pirates of the Caribbean: At World's End</td>\n    </tr>\n  </tbody>\n</table>\n</div>"
     },
     "execution_count": 12,
     "metadata": {},
     "output_type": "execute_result"
    }
   ],
   "source": [
    "df.iloc[0:2,3:8]"
   ]
  },
  {
   "cell_type": "code",
   "execution_count": 13,
   "metadata": {
    "pycharm": {
     "name": "#%%\n"
    }
   },
   "outputs": [
    {
     "name": "stdout",
     "output_type": "stream",
     "text": [
      "index :  111\n",
      "-----\n",
      "budget :  150000000\n",
      "-----\n",
      "genres :  Adventure Science Fiction Action\n",
      "-----\n",
      "homepage :  http://www.transformersmovie.com/\n",
      "-----\n",
      "id :  1858\n",
      "-----\n",
      "keywords :  destroy transformation alien based on toy transformers\n",
      "-----\n",
      "original_language :  en\n",
      "-----\n",
      "original_title :  Transformers\n",
      "-----\n",
      "overview :  Young teenager, Sam Witwicky becomes involved in the ancient struggle between two extraterrestrial factions of transforming robots – the heroic Autobots and the evil Decepticons. Sam holds the clue to unimaginable power and the Decepticons will stop at nothing to retrieve it.\n",
      "-----\n",
      "popularity :  25.468493\n",
      "-----\n",
      "production_companies :  [{\"name\": \"Paramount Pictures\", \"id\": 4}, {\"name\": \"DreamWorks SKG\", \"id\": 27}, {\"name\": \"Amblin Entertainment\", \"id\": 56}, {\"name\": \"Di Bonaventura Pictures\", \"id\": 435}, {\"name\": \"Platinum Dunes\", \"id\": 2481}, {\"name\": \"thinkfilm\", \"id\": 12247}, {\"name\": \"SprocketHeads\", \"id\": 20011}, {\"name\": \"Hasbro Studios\", \"id\": 22826}, {\"name\": \"Revolution Sun Studios\", \"id\": 76043}]\n",
      "-----\n",
      "production_countries :  [{\"iso_3166_1\": \"US\", \"name\": \"United States of America\"}]\n",
      "-----\n",
      "release_date :  2007-06-27\n",
      "-----\n",
      "revenue :  709709780\n",
      "-----\n",
      "runtime :  144.0\n",
      "-----\n",
      "spoken_languages :  [{\"iso_639_1\": \"es\", \"name\": \"Espa\\u00f1ol\"}, {\"iso_639_1\": \"en\", \"name\": \"English\"}]\n",
      "-----\n",
      "status :  Released\n",
      "-----\n",
      "tagline :  Their war. Our world.\n",
      "-----\n",
      "title :  Transformers\n",
      "-----\n",
      "vote_average :  6.6\n",
      "-----\n",
      "vote_count :  4040\n",
      "-----\n",
      "cast :  Shia LaBeouf Josh Duhamel Megan Fox Rachael Taylor Tyrese Gibson\n",
      "-----\n",
      "crew :  [{'name': 'Steven Spielberg', 'gender': 2, 'department': 'Production', 'job': 'Executive Producer', 'credit_id': '52fe431bc3a36847f803aba9', 'id': 488}, {'name': 'Paul Rubell', 'gender': 2, 'department': 'Editing', 'job': 'Editor', 'credit_id': '52fe431bc3a36847f803ac31', 'id': 10816}, {'name': 'Michael Bay', 'gender': 2, 'department': 'Directing', 'job': 'Director', 'credit_id': '52fe431bc3a36847f803aba3', 'id': 865}, {'name': 'Michael Bay', 'gender': 2, 'department': 'Production', 'job': 'Executive Producer', 'credit_id': '551b9049c3a36819ed0008bd', 'id': 865}, {'name': 'Glen Scantlebury', 'gender': 2, 'department': 'Editing', 'job': 'Editor', 'credit_id': '52fe431bc3a36847f803ac37', 'id': 899}, {'name': 'Janet Hirshenson', 'gender': 1, 'department': 'Production', 'job': 'Casting', 'credit_id': '537f05130e0a2624b70044a1', 'id': 2874}, {'name': 'Don Murphy', 'gender': 2, 'department': 'Production', 'job': 'Producer', 'credit_id': '52fe431bc3a36847f803abb5', 'id': 3183}, {'name': 'Jane Jenkins', 'gender': 1, 'department': 'Production', 'job': 'Casting', 'credit_id': '542e7e69c3a36859de001fef', 'id': 3275}, {'name': 'Jeff Mann', 'gender': 2, 'department': 'Art', 'job': 'Production Design', 'credit_id': '52fe431bc3a36847f803ac2b', 'id': 7233}, {'name': 'Beat Frutiger', 'gender': 0, 'department': 'Art', 'job': 'Art Direction', 'credit_id': '537f05770e0a2624b70044ae', 'id': 7235}, {'name': 'John Frazier', 'gender': 2, 'department': 'Crew', 'job': 'Special Effects', 'credit_id': '52fe431bc3a36847f803ac49', 'id': 10631}, {'name': 'Michelle Lewitt', 'gender': 0, 'department': 'Production', 'job': 'Casting', 'credit_id': '537f05410e0a2624b70044ab', 'id': 6876}, {'name': 'Ian Bryce', 'gender': 2, 'department': 'Production', 'job': 'Producer', 'credit_id': '52fe431bc3a36847f803ac13', 'id': 9987}, {'name': 'Lorenzo di Bonaventura', 'gender': 2, 'department': 'Production', 'job': 'Producer', 'credit_id': '52fe431bc3a36847f803abbb', 'id': 10952}, {'name': 'Deborah Lynn Scott', 'gender': 1, 'department': 'Costume & Make-Up', 'job': 'Costume Design', 'credit_id': '52fe431bc3a36847f803ac53', 'id': 8527}, {'name': 'Sean Haworth', 'gender': 0, 'department': 'Art', 'job': 'Art Direction', 'credit_id': '537f05930e0a2624cb00411f', 'id': 9618}, {'name': 'Kenny Bates', 'gender': 0, 'department': 'Production', 'job': 'Co-Producer', 'credit_id': '5765b0f892514107e0000408', 'id': 10118}, {'name': 'Rosemary Brandenburg', 'gender': 1, 'department': 'Art', 'job': 'Set Decoration', 'credit_id': '537f05d20e0a2624c30041f6', 'id': 13588}, {'name': 'Kevin Kavanaugh', 'gender': 0, 'department': 'Art', 'job': 'Art Direction', 'credit_id': '537f05a80e0a2624b70044b5', 'id': 15328}, {'name': 'Alex Kurtzman', 'gender': 2, 'department': 'Writing', 'job': 'Screenplay', 'credit_id': '52fe431bc3a36847f803abc7', 'id': 15345}, {'name': 'Alex Kurtzman', 'gender': 2, 'department': 'Writing', 'job': 'Story', 'credit_id': '56a00d4692514137d600341f', 'id': 15345}, {'name': 'Roberto Orci', 'gender': 2, 'department': 'Writing', 'job': 'Screenplay', 'credit_id': '52fe431bc3a36847f803abc1', 'id': 15346}, {'name': 'Roberto Orci', 'gender': 2, 'department': 'Writing', 'job': 'Story', 'credit_id': '56a00d4c92514149bc00350b', 'id': 15346}, {'name': 'Steve Jablonsky', 'gender': 2, 'department': 'Sound', 'job': 'Music', 'credit_id': '52fe431bc3a36847f803ac43', 'id': 18264}, {'name': 'Tom DeSanto', 'gender': 0, 'department': 'Production', 'job': 'Producer', 'credit_id': '52fe431bc3a36847f803abaf', 'id': 10994}, {'name': 'John Rogers', 'gender': 2, 'department': 'Writing', 'job': 'Story', 'credit_id': '56a00d34c3a36858ce00b11f', 'id': 19535}, {'name': 'Brian Goldner', 'gender': 2, 'department': 'Production', 'job': 'Executive Producer', 'credit_id': '52fe431bc3a36847f803ac19', 'id': 24308}, {'name': 'Mark Vahradian', 'gender': 0, 'department': 'Production', 'job': 'Executive Producer', 'credit_id': '52fe431bc3a36847f803ac1f', 'id': 24309}, {'name': 'Mitchell Amundsen', 'gender': 2, 'department': 'Camera', 'job': 'Director of Photography', 'credit_id': '52fe431bc3a36847f803ac25', 'id': 24310}, {'name': 'Tom Muldoon', 'gender': 2, 'department': 'Editing', 'job': 'Editor', 'credit_id': '52fe431bc3a36847f803ac3d', 'id': 24311}, {'name': 'Larry Dias', 'gender': 2, 'department': 'Art', 'job': 'Set Decoration', 'credit_id': '537f05e50e0a2624cb00412c', 'id': 21984}, {'name': 'Fran\\\\u00e7ois Audouy', 'gender': 0, 'department': 'Art', 'job': 'Art Direction', 'credit_id': '537f055f0e0a2624b40043ff', 'id': 39923}, {'name': 'Geoff Hubbard', 'gender': 0, 'department': 'Art', 'job': 'Supervising Art Director', 'credit_id': '570a86e7c3a3681d3a007dfc', 'id': 46082}, {'name': 'Allegra Clegg', 'gender': 1, 'department': 'Production', 'job': 'Co-Producer', 'credit_id': '5765b11d92514107e0000412', 'id': 60945}, {'name': 'Matthew Cohan', 'gender': 0, 'department': 'Production', 'job': 'Associate Producer', 'credit_id': '5765b139c3a3680c0100053f', 'id': 62722}, {'name': 'Anthony J. Scarano', 'gender': 0, 'department': 'Costume & Make-Up', 'job': 'Costume Supervisor', 'credit_id': '537f06460e0a2624ba003f26', 'id': 1319749}, {'name': 'Edouard F. Henriques', 'gender': 0, 'department': 'Costume & Make-Up', 'job': 'Makeup Department Head', 'credit_id': '537f06060e0a2624ba003f19', 'id': 1323090}, {'name': 'Mitchell Ray Kenney', 'gender': 0, 'department': 'Costume & Make-Up', 'job': 'Costume Supervisor', 'credit_id': '537f062b0e0a2624cb004137', 'id': 1323092}, {'name': 'Jimmy Almeida', 'gender': 0, 'department': 'Visual Effects', 'job': 'Animation', 'credit_id': '552994f69251414b79002009', 'id': 1453014}, {'name': 'Larry White', 'gender': 0, 'department': 'Visual Effects', 'job': 'Animation', 'credit_id': '55315027c3a368222d00051f', 'id': 1455541}, {'name': 'Luca Marco Paracels', 'gender': 2, 'department': 'Production', 'job': 'Associate Producer', 'credit_id': '5765b148c3a3680c890004c0', 'id': 1477203}]\n",
      "-----\n",
      "director :  Michael Bay\n",
      "-----\n"
     ]
    }
   ],
   "source": [
    "for k in df.columns:\n",
    "    print(k,': ',df[k].iloc[111])\n",
    "    print('-----')"
   ]
  },
  {
   "cell_type": "code",
   "execution_count": 14,
   "metadata": {
    "pycharm": {
     "name": "#%%\n"
    }
   },
   "outputs": [
    {
     "data": {
      "text/plain": "keywords    412\ncast         43\ngenres       28\ndirector     30\ndtype: int64"
     },
     "execution_count": 14,
     "metadata": {},
     "output_type": "execute_result"
    }
   ],
   "source": [
    "features = ['keywords','cast','genres','director']\n",
    "df[features].isnull().sum()"
   ]
  },
  {
   "cell_type": "code",
   "execution_count": 15,
   "metadata": {
    "pycharm": {
     "name": "#%%\n"
    }
   },
   "outputs": [],
   "source": [
    "features = ['keywords','cast','genres','director']\n",
    "for feature in features:\n",
    "    df[feature] = df[feature].fillna(\"\") "
   ]
  },
  {
   "cell_type": "code",
   "execution_count": 16,
   "metadata": {
    "pycharm": {
     "name": "#%%\n"
    }
   },
   "outputs": [
    {
     "data": {
      "text/plain": "0    Action Adventure Fantasy Science Fiction cultu...\n1    Adventure Fantasy Action ocean drug abuse exot...\n2    Action Adventure Crime spy based on novel secr...\n3    Action Crime Drama Thriller dc comics crime fi...\n4    Action Adventure Science Fiction based on nove...\nName: combined_features, dtype: object"
     },
     "execution_count": 16,
     "metadata": {},
     "output_type": "execute_result"
    }
   ],
   "source": [
    "df['combined_features'] =  df.genres + ' ' + df.keywords + ' ' + df.cast + ' ' + df.director\n",
    "\n",
    "df.combined_features.head()"
   ]
  },
  {
   "cell_type": "code",
   "execution_count": 17,
   "metadata": {
    "pycharm": {
     "name": "#%%\n"
    }
   },
   "outputs": [
    {
     "name": "stdout",
     "output_type": "stream",
     "text": [
      "Avatar\n",
      "Action Adventure Fantasy Science Fiction culture clash future space war space colony society Sam Worthington Zoe Saldana Sigourney Weaver Stephen Lang Michelle Rodriguez James Cameron\n",
      "-----\n",
      "Pirates of the Caribbean: At World's End\n",
      "Adventure Fantasy Action ocean drug abuse exotic island east india trading company love of one's life Johnny Depp Orlando Bloom Keira Knightley Stellan Skarsg\\u00e5rd Chow Yun-fat Gore Verbinski\n",
      "-----\n",
      "Spectre\n",
      "Action Adventure Crime spy based on novel secret agent sequel mi6 Daniel Craig Christoph Waltz L\\u00e9a Seydoux Ralph Fiennes Monica Bellucci Sam Mendes\n",
      "-----\n"
     ]
    }
   ],
   "source": [
    "for i in range(0,3):\n",
    "    print(df.title[i])\n",
    "    print(df.combined_features[i])\n",
    "    print('-----')"
   ]
  },
  {
   "cell_type": "code",
   "execution_count": 18,
   "metadata": {
    "pycharm": {
     "name": "#%%\n"
    }
   },
   "outputs": [
    {
     "data": {
      "text/plain": "'Action Adventure Fantasy Science Fiction culture clash future space war space colony society Sam Worthington Zoe Saldana Sigourney Weaver Stephen Lang Michelle Rodriguez James Cameron'"
     },
     "execution_count": 18,
     "metadata": {},
     "output_type": "execute_result"
    }
   ],
   "source": [
    "df.iloc[0].combined_features\n",
    "df.combined_features.iloc[0]"
   ]
  },
  {
   "cell_type": "markdown",
   "metadata": {
    "pycharm": {
     "name": "#%% md\n"
    }
   },
   "source": [
    "### process"
   ]
  },
  {
   "cell_type": "code",
   "execution_count": 19,
   "metadata": {
    "pycharm": {
     "name": "#%%\n"
    }
   },
   "outputs": [],
   "source": [
    "cv = CountVectorizer() \n",
    "count_matrix = cv.fit_transform(df.combined_features) "
   ]
  },
  {
   "cell_type": "code",
   "execution_count": 20,
   "metadata": {
    "pycharm": {
     "name": "#%%\n"
    }
   },
   "outputs": [
    {
     "name": "stderr",
     "output_type": "stream",
     "text": [
      "E:\\work\\machine_learing101\\venv\\lib\\site-packages\\sklearn\\utils\\deprecation.py:87: FutureWarning: Function get_feature_names is deprecated; get_feature_names is deprecated in 1.0 and will be removed in 1.2. Please use get_feature_names_out instead.\n",
      "  warnings.warn(msg, category=FutureWarning)\n"
     ]
    },
    {
     "data": {
      "text/plain": "14845"
     },
     "execution_count": 20,
     "metadata": {},
     "output_type": "execute_result"
    }
   ],
   "source": [
    "len(cv.get_feature_names())"
   ]
  },
  {
   "cell_type": "code",
   "execution_count": 21,
   "metadata": {
    "pycharm": {
     "name": "#%%\n"
    }
   },
   "outputs": [
    {
     "data": {
      "text/plain": "(4803, 14845)"
     },
     "execution_count": 21,
     "metadata": {},
     "output_type": "execute_result"
    }
   ],
   "source": [
    "count_matrix.shape"
   ]
  },
  {
   "cell_type": "code",
   "execution_count": 22,
   "metadata": {
    "pycharm": {
     "name": "#%%\n"
    }
   },
   "outputs": [
    {
     "name": "stdout",
     "output_type": "stream",
     "text": [
      "['11', '15th', '17th', '18th', '1910s', '1917', '1920s', '1930s', '1950s', '1960s']\n",
      "['zuehlsdorff', 'zukovic', 'zuleikha', 'zuniga', 'zurer', 'zvyagintsev', 'zwart', 'zwick', 'zwigoff', 'zylka']\n",
      "[[0 0 0 0 0 0 0 0 0 0 0 0 0 0 0 0 0 0 0 0]\n",
      " [0 0 0 0 0 0 0 0 0 0 0 0 0 0 0 0 0 0 0 0]\n",
      " [0 0 0 0 0 0 0 0 0 0 0 0 0 0 0 0 0 0 0 0]\n",
      " [0 0 0 0 0 0 0 0 0 0 0 0 0 0 0 0 0 0 0 0]\n",
      " [0 0 0 0 0 0 0 0 0 0 0 0 0 0 0 0 0 0 0 0]\n",
      " [0 0 0 0 0 0 0 0 0 0 0 0 0 0 0 0 0 0 0 0]\n",
      " [0 0 0 0 0 0 0 0 0 0 0 0 0 0 0 0 0 0 0 0]\n",
      " [0 0 0 0 0 0 0 0 0 0 0 0 0 0 0 0 0 0 0 0]\n",
      " [0 0 0 0 0 0 0 0 0 0 0 0 0 0 0 0 0 0 0 0]\n",
      " [0 0 0 0 0 0 0 0 0 0 0 0 0 0 0 0 0 0 0 0]]\n"
     ]
    }
   ],
   "source": [
    "print(cv.get_feature_names()[0:10])\n",
    "print(cv.get_feature_names()[-10:])\n",
    "print(count_matrix.toarray()[:10, 10:30])"
   ]
  },
  {
   "cell_type": "code",
   "execution_count": 23,
   "metadata": {
    "pycharm": {
     "name": "#%%\n"
    }
   },
   "outputs": [
    {
     "data": {
      "text/plain": "(4803, 4803)"
     },
     "execution_count": 23,
     "metadata": {},
     "output_type": "execute_result"
    }
   ],
   "source": [
    "cosine_sim = cosine_similarity(count_matrix)\n",
    "cosine_sim.shape"
   ]
  },
  {
   "cell_type": "code",
   "execution_count": 24,
   "metadata": {
    "pycharm": {
     "name": "#%%\n"
    }
   },
   "outputs": [
    {
     "name": "stdout",
     "output_type": "stream",
     "text": [
      "[[1.   0.11 0.12 0.04 0.23 0.19 0.   0.14]\n",
      " [0.11 1.   0.08 0.04 0.07 0.26 0.   0.07]\n",
      " [0.12 0.08 1.   0.16 0.21 0.13 0.   0.19]\n",
      " [0.04 0.04 0.16 1.   0.04 0.08 0.   0.04]\n",
      " [0.23 0.07 0.21 0.04 1.   0.2  0.   0.22]\n",
      " [0.19 0.26 0.13 0.08 0.2  1.   0.   0.07]\n",
      " [0.   0.   0.   0.   0.   0.   1.   0.  ]\n",
      " [0.14 0.07 0.19 0.04 0.22 0.07 0.   1.  ]]\n"
     ]
    }
   ],
   "source": [
    "print(cosine_sim[:8,:8].round(2))"
   ]
  },
  {
   "cell_type": "markdown",
   "metadata": {
    "pycharm": {
     "name": "#%% md\n"
    }
   },
   "source": [
    "#### Recommend"
   ]
  },
  {
   "cell_type": "code",
   "execution_count": 25,
   "metadata": {
    "pycharm": {
     "name": "#%%\n"
    }
   },
   "outputs": [
    {
     "name": "stdout",
     "output_type": "stream",
     "text": [
      "user choice ref_index = 0\n"
     ]
    }
   ],
   "source": [
    "user_choice = 'Avatar'\n",
    "ref_index = df[df.title.str.contains(user_choice, case=False)].index[0]\n",
    "\n",
    "print('user choice ref_index = {}' .format(ref_index))"
   ]
  },
  {
   "cell_type": "code",
   "execution_count": 26,
   "metadata": {
    "pycharm": {
     "name": "#%%\n"
    }
   },
   "outputs": [
    {
     "data": {
      "text/plain": "[(0, 1.0000000000000004),\n (1, 0.10540925533894599),\n (2, 0.12038585308576921),\n (3, 0.03774256780481986),\n (4, 0.23094010767585033),\n (5, 0.1924500897298753),\n (6, 0.0),\n (7, 0.1405456737852613)]"
     },
     "execution_count": 26,
     "metadata": {},
     "output_type": "execute_result"
    }
   ],
   "source": [
    "similar_movies = list(enumerate(cosine_sim[ref_index])) \n",
    "similar_movies[:8]"
   ]
  },
  {
   "cell_type": "code",
   "execution_count": 27,
   "metadata": {
    "pycharm": {
     "name": "#%%\n"
    }
   },
   "outputs": [
    {
     "data": {
      "text/plain": "[(94, 0.42339019740572564),\n (2403, 0.3774256780481986),\n (3208, 0.3464101615137755),\n (47, 0.34426518632954817),\n (56, 0.33596842045264647),\n (3158, 0.33333333333333337)]"
     },
     "execution_count": 27,
     "metadata": {},
     "output_type": "execute_result"
    }
   ],
   "source": [
    "sorted_similar_movies = sorted(similar_movies,key=lambda x:x[1],reverse=True)[1:]\n",
    "\n",
    "sorted_similar_movies[:6]"
   ]
  },
  {
   "cell_type": "code",
   "execution_count": 28,
   "metadata": {
    "pycharm": {
     "name": "#%%\n"
    }
   },
   "outputs": [
    {
     "data": {
      "text/plain": "'Guardians of the Galaxy'"
     },
     "execution_count": 28,
     "metadata": {},
     "output_type": "execute_result"
    }
   ],
   "source": [
    "df.title[94]"
   ]
  },
  {
   "cell_type": "code",
   "execution_count": 29,
   "metadata": {
    "pycharm": {
     "name": "#%%\n"
    }
   },
   "outputs": [
    {
     "name": "stdout",
     "output_type": "stream",
     "text": [
      "Recommend movies for [Avatar]\n",
      "------------------------------------\n",
      "Guardians of the Galaxy         -> 0.423\n",
      "Aliens                          -> 0.377\n",
      "Star Wars: Clone Wars: Volume 1  -> 0.346\n",
      "Star Trek Into Darkness         -> 0.344\n",
      "Star Trek Beyond                -> 0.336\n",
      "Alien                           -> 0.333\n",
      "Lockout                         -> 0.314\n",
      "Jason X                         -> 0.308\n"
     ]
    }
   ],
   "source": [
    "\n",
    "print('Recommend movies for ['+ user_choice +']')\n",
    "print('------------------------------------')\n",
    "for i,element in enumerate(sorted_similar_movies):\n",
    "    similar_movie_id = element[0]   \n",
    "    similar_movie_title = df.title.iloc[similar_movie_id]\n",
    "    s_score = element[1]    \n",
    "    print('{:30}  -> {:.3f}'. format(similar_movie_title, s_score))\n",
    "\n",
    "    if i > 6:\n",
    "        break"
   ]
  },
  {
   "cell_type": "code",
   "execution_count": 29,
   "metadata": {
    "pycharm": {
     "name": "#%%\n"
    }
   },
   "outputs": [],
   "source": []
  }
 ],
 "metadata": {
  "kernelspec": {
   "display_name": "Python 3",
   "language": "python",
   "name": "python3"
  },
  "language_info": {
   "codemirror_mode": {
    "name": "ipython",
    "version": 3
   },
   "file_extension": ".py",
   "mimetype": "text/x-python",
   "name": "python",
   "nbconvert_exporter": "python",
   "pygments_lexer": "ipython3",
   "version": "3.7.1"
  }
 },
 "nbformat": 4,
 "nbformat_minor": 2
}