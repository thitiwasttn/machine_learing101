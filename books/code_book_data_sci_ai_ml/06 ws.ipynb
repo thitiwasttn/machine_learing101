{
 "cells": [
  {
   "cell_type": "code",
   "execution_count": null,
   "metadata": {},
   "outputs": [],
   "source": [
    "# ws5\n",
    "import pandas as pd\n",
    "uri = 'data/sale_quarterly1.xlsx'\n",
    "cols = 'b:e'\n",
    "df = pd.read_excel(uri, sheet_name='Sheet1', usecols=cols, header=2)\n",
    "df.head(4)"
   ]
  },
  {
   "cell_type": "code",
   "execution_count": null,
   "metadata": {},
   "outputs": [],
   "source": [
    "df.shape"
   ]
  },
  {
   "cell_type": "code",
   "execution_count": null,
   "metadata": {},
   "outputs": [],
   "source": [
    "df.dtypes"
   ]
  },
  {
   "cell_type": "code",
   "execution_count": null,
   "metadata": {},
   "outputs": [],
   "source": [
    "df.describe()\n"
   ]
  },
  {
   "cell_type": "code",
   "execution_count": null,
   "metadata": {},
   "outputs": [],
   "source": [
    "# \n",
    "uri = 'data/sale_quarterly1.xlsx'\n",
    "cols = 'b:e'\n",
    "df = pd.read_excel(uri, sheet_name='Sheet1', usecols=cols, header=2, \n",
    "                   dtype={'Quarter':str})\n",
    "df.head()\n",
    "df.describe()"
   ]
  },
  {
   "cell_type": "code",
   "execution_count": null,
   "metadata": {},
   "outputs": [],
   "source": [
    "df.Quarter = df.Quarter.astype('category')\n",
    "df.dtypes"
   ]
  },
  {
   "cell_type": "code",
   "execution_count": null,
   "metadata": {},
   "outputs": [],
   "source": [
    "df.describe()"
   ]
  },
  {
   "cell_type": "code",
   "execution_count": null,
   "metadata": {},
   "outputs": [],
   "source": [
    "df.Sales.sum()"
   ]
  },
  {
   "cell_type": "code",
   "execution_count": null,
   "metadata": {},
   "outputs": [],
   "source": [
    "# df.head()\n",
    "# df.mean()\n",
    "# df.std()\n",
    "# df.max()\n",
    "# df.min()\n",
    "df.sum()"
   ]
  },
  {
   "cell_type": "code",
   "execution_count": null,
   "metadata": {},
   "outputs": [],
   "source": [
    "# ws6\n",
    "pvt = df.pivot_table(index='Quarter') \n",
    "pvt = df.pivot_table(index='Quarter', margins=True) \n",
    "pvt"
   ]
  },
  {
   "cell_type": "code",
   "execution_count": null,
   "metadata": {},
   "outputs": [],
   "source": [
    "df.groupby('Quarter').mean()"
   ]
  },
  {
   "cell_type": "code",
   "execution_count": null,
   "metadata": {},
   "outputs": [],
   "source": [
    "# ws7 \n",
    "pvt = df.pivot_table(index=['Quarter','Employee'] , margins=True) # mean  , margins=True\n",
    "pvt"
   ]
  },
  {
   "cell_type": "code",
   "execution_count": null,
   "metadata": {},
   "outputs": [],
   "source": [
    "# ws8 \n",
    "\n",
    "import numpy as np\n",
    "\n",
    "pvt = df.pivot_table(index=['Quarter'], aggfunc=np.sum, margins=True) \n",
    "pvt = df.pivot_table(index=['Quarter'], aggfunc='sum', margins=True) \n",
    "pvt = df.pivot_table(index=['Quarter'], values='Sales', aggfunc='sum', margins=True) \n",
    "# pvt.applymap(\"THB{0:,.2f}\".format) \n",
    "pvt = pvt.applymap(\"{0:,}\".format) \n",
    "# pvt.style.format({'Sales': \"{:,.2f}\"}) \n",
    "pvt"
   ]
  },
  {
   "cell_type": "code",
   "execution_count": null,
   "metadata": {},
   "outputs": [],
   "source": [
    "df.groupby('Quarter').sum()\n",
    "# df.groupby(['Country','Quarter']).sum()"
   ]
  },
  {
   "cell_type": "code",
   "execution_count": null,
   "metadata": {},
   "outputs": [],
   "source": [
    "# ws9\n",
    "# pvt = df.pivot_table(index=['Quarter'], values=['Sales'],\n",
    "#         aggfunc=['sum','mean'], margins=True)\n",
    "#\n",
    "pvt = df.pivot_table(index=['Quarter'], values=['Sales'],\n",
    "        aggfunc=['sum','max','min','mean'], margins=True)\n",
    "\n",
    "pvt"
   ]
  },
  {
   "cell_type": "code",
   "execution_count": null,
   "metadata": {},
   "outputs": [],
   "source": [
    "df['Import'] = df['Sales']  - 50\n",
    "display(df.head())\n",
    "df.head()"
   ]
  },
  {
   "cell_type": "code",
   "execution_count": null,
   "metadata": {},
   "outputs": [],
   "source": [
    "pvt = df.pivot_table(index=['Quarter'], values=['Sales','Import'],\n",
    "        aggfunc={'Sales':'sum','Import':'mean'}, margins=True)\n",
    "\n",
    "pvt"
   ]
  },
  {
   "cell_type": "code",
   "execution_count": null,
   "metadata": {},
   "outputs": [],
   "source": [
    "# ws10\n",
    "pvt = df.pivot_table(index=['Quarter'], values='Sales', aggfunc='sum') \n",
    "pvt = pvt.applymap(\"{0:,}\".format) \n",
    "# pvt.sort_values('Sales')\n",
    "pvt = pvt.sort_values('Sales', ascending=False)\n",
    "## pvt.Sales.sort_values()\n",
    "pvt\n"
   ]
  },
  {
   "cell_type": "code",
   "execution_count": null,
   "metadata": {},
   "outputs": [],
   "source": [
    "# ws11\n",
    "%matplotlib inline\n",
    "pvt = df.pivot_table(index=['Quarter'], values='Sales', aggfunc='sum') # \n",
    "pvt.plot.bar()\n",
    "\n",
    "\n",
    "# pvt.sort_values('Sales')\n",
    "pvt_sorted = pvt.sort_values('Sales', ascending=False)\n",
    "pvt_sorted.plot.bar()"
   ]
  },
  {
   "cell_type": "code",
   "execution_count": null,
   "metadata": {},
   "outputs": [],
   "source": [
    "# ws12 \n",
    "import matplotlib.pyplot as plt\n",
    "plt.rc('font', family='tahoma')\n",
    "\n",
    "pvt = df.pivot_table(index=['Employee'], values=['Sales'], aggfunc='sum')\n",
    "# pvt.sort_values(['Sales'], ascending=[0])\n",
    "# pvt.sort_values('Sales', ascending=False)\n",
    "pvt.plot.bar()\n",
    "pvt"
   ]
  },
  {
   "cell_type": "code",
   "execution_count": null,
   "metadata": {},
   "outputs": [],
   "source": [
    "# ws13\n",
    "pvt = df.pivot_table(index=['Country'], values=['Sales'], aggfunc='sum')\n",
    "\n",
    "# pvt.sort_values(['Sales'],ascending=[False])  # ceo blt : top by country\n",
    "pvt.plot.bar()\n",
    "plt.title(\"Sales report\")\n",
    "pvt"
   ]
  },
  {
   "cell_type": "code",
   "execution_count": null,
   "metadata": {},
   "outputs": [],
   "source": [
    "pvt = df.pivot_table(index=['Country','Quarter'], values='Sales', aggfunc='sum')\n",
    "pvt.plot.bar()\n",
    "pvt"
   ]
  },
  {
   "cell_type": "code",
   "execution_count": null,
   "metadata": {},
   "outputs": [],
   "source": [
    "# ws14\n",
    "# for graph\n",
    "pvt2 = df.pivot_table(index=['Country'], columns=['Quarter'], values=['Sales'], aggfunc='sum', \n",
    "                fill_value=0)\n",
    "pvt2.plot.bar()\n",
    "\n",
    "# for table\n",
    "pvt = df.pivot_table(index=['Country'], columns=['Quarter'], values=['Sales'], aggfunc='sum', \n",
    "                fill_value=0, margins=True)\n",
    "pvt = pvt.applymap(\"{0:,}\".format) # \n",
    "pvt"
   ]
  },
  {
   "cell_type": "code",
   "execution_count": null,
   "metadata": {},
   "outputs": [],
   "source": [
    "# \n",
    "# for table\n",
    "pvt = df.pivot_table(index=['Country'], columns=['Quarter'], values=['Sales'], aggfunc='sum', \n",
    "                fill_value=0, margins=True)\n",
    "\n",
    "# for graph\n",
    "g = pvt.drop('All') \n",
    "g.drop('All', level=1, axis=1, inplace=True) \n",
    "g.plot.bar()\n",
    "\n",
    "pvt = pvt.applymap(\"{0:,}\".format) #\n",
    "pvt"
   ]
  },
  {
   "cell_type": "code",
   "execution_count": null,
   "metadata": {},
   "outputs": [],
   "source": [
    "# ws15\n",
    "# for graph\n",
    "pvt2 = df.pivot_table(index=['Country'], columns=['Employee'], values=['Sales'], aggfunc='sum', \n",
    "                fill_value=0)\n",
    "pvt2.plot.bar()\n",
    "\n",
    "# for table\n",
    "pvt = df.pivot_table(index=['Country'], columns=['Employee'], values=['Sales'], aggfunc='sum', \n",
    "                fill_value=0, margins=True)\n",
    "pvt = pvt.applymap(\"{0:,}\".format) # \n",
    "pvt"
   ]
  },
  {
   "cell_type": "code",
   "execution_count": null,
   "metadata": {},
   "outputs": [],
   "source": [
    "# ws15\n",
    "\n",
    "# for graph\n",
    "pvt2 = df.pivot_table(index=['Quarter'], columns=['Country'], values=['Sales'], aggfunc='sum', \n",
    "                fill_value=0)\n",
    "pvt2.plot.bar()\n",
    "\n",
    "# for table\n",
    "pvt = df.pivot_table(index=['Quarter'], columns=['Country'], values=['Sales'], aggfunc='sum', \n",
    "                fill_value=0, margins=True)\n",
    "pvt = pvt.applymap(\"{0:,}\".format) # ok\n",
    "pvt"
   ]
  },
  {
   "cell_type": "code",
   "execution_count": null,
   "metadata": {},
   "outputs": [],
   "source": [
    "# \n",
    "# for graph\n",
    "pvt2 = df.pivot_table(index=['Employee'], columns=['Country'], values=['Sales'], aggfunc='sum', \n",
    "                fill_value=0)\n",
    "pvt2.plot.bar()\n",
    "\n",
    "# for table\n",
    "pvt = df.pivot_table(index=['Employee'], columns=['Country'], values=['Sales'], aggfunc='sum', \n",
    "                fill_value=0, margins=True)\n",
    "pvt = pvt.applymap(\"{0:,}\".format) # ok\n",
    "pvt"
   ]
  },
  {
   "cell_type": "code",
   "execution_count": null,
   "metadata": {},
   "outputs": [],
   "source": [
    "# ws16\n",
    "\n",
    "# for graph\n",
    "pvt2 = df.pivot_table(index=['Employee'], columns=['Quarter'], values=['Sales'], aggfunc='sum', \n",
    "                fill_value=0)\n",
    "pvt2.plot.bar()\n",
    "\n",
    "# for table\n",
    "pvt = df.pivot_table(index=['Employee'], columns=['Quarter'], values=['Sales'], aggfunc='sum', \n",
    "                fill_value=0, margins=True)\n",
    "pvt = pvt.applymap(\"{0:,}\".format) # \n",
    "pvt"
   ]
  },
  {
   "cell_type": "code",
   "execution_count": null,
   "metadata": {},
   "outputs": [],
   "source": [
    "#\n",
    "# for graph\n",
    "pvt2 = df.pivot_table(index=['Country'], columns=['Quarter'], values=['Sales'], aggfunc='count', \n",
    "                fill_value=0)\n",
    "pvt2.plot.bar()\n",
    "\n",
    "# for table\n",
    "pvt = df.pivot_table(index=['Country'], columns=['Quarter'], values=['Sales'], aggfunc='count', \n",
    "                fill_value=0, margins=True)\n",
    "pvt = pvt.applymap(\"{0:,}\".format) # ok\n",
    "pvt"
   ]
  },
  {
   "cell_type": "code",
   "execution_count": null,
   "metadata": {},
   "outputs": [],
   "source": [
    "df.dtypes\n",
    "df.Quarter = df.Quarter.astype('int')"
   ]
  },
  {
   "cell_type": "code",
   "execution_count": null,
   "metadata": {},
   "outputs": [],
   "source": [
    "# ws17\n",
    "pvt = df[df.Quarter == 3].pivot_table(index='Country',columns='Quarter',values='Sales', \n",
    "                                      aggfunc='sum')\n",
    "pvt"
   ]
  },
  {
   "cell_type": "code",
   "execution_count": null,
   "metadata": {},
   "outputs": [],
   "source": [
    "pvt = df[(df.Quarter == 3) & \n",
    "         (df.Sales >= 100)].pivot_table(index='Country', \n",
    "                      columns='Quarter',values='Sales',aggfunc='sum')\n",
    "pvt"
   ]
  },
  {
   "cell_type": "code",
   "execution_count": null,
   "metadata": {},
   "outputs": [],
   "source": [
    "pvt = df[(df.Quarter == 3) | (df.Quarter == 1)].pivot_table(index='Country',\n",
    "                                columns='Quarter',values='Sales',aggfunc='sum')\n",
    "pvt"
   ]
  },
  {
   "cell_type": "code",
   "execution_count": null,
   "metadata": {},
   "outputs": [],
   "source": [
    "pvt = df[df.Country.str.match('U')].pivot_table(index='Country',columns='Quarter',values='Sales') #fill_value=0\n",
    "pvt"
   ]
  },
  {
   "cell_type": "code",
   "execution_count": null,
   "metadata": {},
   "outputs": [],
   "source": [
    "pvt = df[df.Country=='US'].pivot_table(index='Country',columns='Quarter',values='Sales') #fill_value=0\n",
    "pvt"
   ]
  },
  {
   "cell_type": "code",
   "execution_count": null,
   "metadata": {},
   "outputs": [],
   "source": [
    "# ws18\n",
    "# for graph\n",
    "pvt2 = df[(df.Employee.str.match('กอบ')) | \n",
    "         (df.Employee.str.match('Bill'))].pivot_table(\n",
    "    index='Employee',columns=['Quarter'],values='Sales',fill_value=0, \n",
    "    aggfunc='sum')\n",
    "pvt2.plot.bar()\n",
    "\n",
    "# for data\n",
    "pvt = df[(df.Employee.str.match('กอบ')) | \n",
    "         (df.Employee.str.match('Bill'))].pivot_table(\n",
    "    index='Employee',columns=['Quarter'],values='Sales',fill_value=0, \n",
    "    aggfunc='sum', margins=True)\n",
    "\n",
    "pvt"
   ]
  },
  {
   "cell_type": "code",
   "execution_count": null,
   "metadata": {},
   "outputs": [],
   "source": []
  }
 ],
 "metadata": {
  "kernelspec": {
   "display_name": "Python 3",
   "language": "python",
   "name": "python3"
  },
  "language_info": {
   "codemirror_mode": {
    "name": "ipython",
    "version": 3
   },
   "file_extension": ".py",
   "mimetype": "text/x-python",
   "name": "python",
   "nbconvert_exporter": "python",
   "pygments_lexer": "ipython3",
   "version": "3.7.1"
  }
 },
 "nbformat": 4,
 "nbformat_minor": 2
}
