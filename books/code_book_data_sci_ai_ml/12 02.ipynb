{
 "cells": [
  {
   "cell_type": "code",
   "execution_count": null,
   "metadata": {},
   "outputs": [],
   "source": [
    "# ws10\n",
    "\n",
    "import pandas as pd\n",
    "import numpy as np\n",
    "\n",
    "range = pd.date_range('2020-01-1', '2020-2-28', freq='10min')\n",
    "df = pd.DataFrame(index = range)\n",
    "\n",
    "# temp\n",
    "df['temp'] = np.random.randint(low=10, high=40, size=df.shape[0])  \n",
    "# humid\n",
    "df['humid'] = np.random.randint(low=50, high=70, size=df.shape[0])  # \n",
    "\n",
    "df.reset_index(inplace=True)\n",
    "df.columns = ['time','temp','humid']"
   ]
  },
  {
   "cell_type": "code",
   "execution_count": null,
   "metadata": {},
   "outputs": [],
   "source": [
    "df.head()"
   ]
  },
  {
   "cell_type": "code",
   "execution_count": null,
   "metadata": {},
   "outputs": [],
   "source": [
    "df.tail()"
   ]
  },
  {
   "cell_type": "code",
   "execution_count": null,
   "metadata": {},
   "outputs": [],
   "source": [
    "df.time = pd.to_datetime(df.time)"
   ]
  },
  {
   "cell_type": "code",
   "execution_count": null,
   "metadata": {},
   "outputs": [],
   "source": [
    "df.shape"
   ]
  },
  {
   "cell_type": "code",
   "execution_count": null,
   "metadata": {},
   "outputs": [],
   "source": [
    "df.dtypes"
   ]
  },
  {
   "cell_type": "code",
   "execution_count": null,
   "metadata": {},
   "outputs": [],
   "source": [
    "df.set_index('time', inplace=True)"
   ]
  },
  {
   "cell_type": "code",
   "execution_count": null,
   "metadata": {},
   "outputs": [],
   "source": [
    "df.loc['2020-01-15'].head()"
   ]
  },
  {
   "cell_type": "code",
   "execution_count": null,
   "metadata": {},
   "outputs": [],
   "source": [
    "df.index[:10]"
   ]
  },
  {
   "cell_type": "code",
   "execution_count": null,
   "metadata": {},
   "outputs": [],
   "source": [
    "chk_time = pd.to_datetime('2020-1-18 3pm')\n",
    "chk_time\n",
    "df.loc[chk_time]  "
   ]
  },
  {
   "cell_type": "code",
   "execution_count": null,
   "metadata": {},
   "outputs": [],
   "source": [
    "chk_time = '2020/1/18 15:00'\n",
    "chk_time = '2020-1-18 15:00'\n",
    "df.loc[chk_time]  "
   ]
  },
  {
   "cell_type": "code",
   "execution_count": null,
   "metadata": {},
   "outputs": [],
   "source": [
    "df.loc['2020-1-1 9:00':'2020-1-1 9:30'] "
   ]
  },
  {
   "cell_type": "code",
   "execution_count": null,
   "metadata": {},
   "outputs": [],
   "source": [
    "import matplotlib.pyplot as plt\n",
    "# %matplotlib inline\n",
    "\n",
    "plt.rcParams['figure.figsize'] = 11,3 \n",
    "\n",
    "start = pd.to_datetime('2020-1-15 10:00')\n",
    "end = pd.to_datetime('2020-1-18 1:00')\n",
    "\n",
    "df.loc[start : end].plot(grid=True)  \n",
    "plt.xlabel('Date time')\n",
    "plt.show()"
   ]
  },
  {
   "cell_type": "code",
   "execution_count": null,
   "metadata": {},
   "outputs": [],
   "source": [
    "df_temp = df.temp.loc[start : end]\n",
    "df_sampling = df.temp.loc[start : end].resample('1h').mean()\n",
    "df_rolling = df.temp.loc[start : end].rolling(6,center=True).mean()\n",
    "\n",
    "df_temp.plot(grid=True, alpha=0.5)  # must \n",
    "df_sampling.plot(c='b', marker='o', label='Sampling Mean')\n",
    "df_rolling.plot(c='r',label='Rolling Mean',grid=True )  \n",
    "plt.xlabel('Date time')\n",
    "plt.legend()\n",
    "plt.show()"
   ]
  }
 ],
 "metadata": {
  "kernelspec": {
   "display_name": "Python 3",
   "language": "python",
   "name": "python3"
  },
  "language_info": {
   "codemirror_mode": {
    "name": "ipython",
    "version": 3
   },
   "file_extension": ".py",
   "mimetype": "text/x-python",
   "name": "python",
   "nbconvert_exporter": "python",
   "pygments_lexer": "ipython3",
   "version": "3.7.1"
  }
 },
 "nbformat": 4,
 "nbformat_minor": 2
}
