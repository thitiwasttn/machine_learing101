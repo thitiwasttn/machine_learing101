{
 "cells": [
  {
   "cell_type": "code",
   "execution_count": 32,
   "metadata": {
    "collapsed": true,
    "pycharm": {
     "name": "#%%\n"
    }
   },
   "outputs": [],
   "source": [
    "import pandas as pd"
   ]
  },
  {
   "cell_type": "code",
   "execution_count": 33,
   "outputs": [
    {
     "data": {
      "text/plain": "Index(['age', 'employed', 'own_house', 'credit', 'target'], dtype='object')"
     },
     "execution_count": 33,
     "metadata": {},
     "output_type": "execute_result"
    }
   ],
   "source": [
    "df = pd.read_csv('../../data/simple_loan.csv')\n",
    "df = df[:10]\n",
    "df.columns"
   ],
   "metadata": {
    "collapsed": false,
    "pycharm": {
     "name": "#%%\n"
    }
   }
  },
  {
   "cell_type": "code",
   "execution_count": 34,
   "outputs": [
    {
     "data": {
      "text/plain": "     age  employed own_house credit target\n0  young     False         n   fair     no\n1  young     False         n   good     no\n2  young      True         n   good    yes\n3  young      True         y   fair    yes\n4  young     False         n   fair     no",
      "text/html": "<div>\n<style scoped>\n    .dataframe tbody tr th:only-of-type {\n        vertical-align: middle;\n    }\n\n    .dataframe tbody tr th {\n        vertical-align: top;\n    }\n\n    .dataframe thead th {\n        text-align: right;\n    }\n</style>\n<table border=\"1\" class=\"dataframe\">\n  <thead>\n    <tr style=\"text-align: right;\">\n      <th></th>\n      <th>age</th>\n      <th>employed</th>\n      <th>own_house</th>\n      <th>credit</th>\n      <th>target</th>\n    </tr>\n  </thead>\n  <tbody>\n    <tr>\n      <th>0</th>\n      <td>young</td>\n      <td>False</td>\n      <td>n</td>\n      <td>fair</td>\n      <td>no</td>\n    </tr>\n    <tr>\n      <th>1</th>\n      <td>young</td>\n      <td>False</td>\n      <td>n</td>\n      <td>good</td>\n      <td>no</td>\n    </tr>\n    <tr>\n      <th>2</th>\n      <td>young</td>\n      <td>True</td>\n      <td>n</td>\n      <td>good</td>\n      <td>yes</td>\n    </tr>\n    <tr>\n      <th>3</th>\n      <td>young</td>\n      <td>True</td>\n      <td>y</td>\n      <td>fair</td>\n      <td>yes</td>\n    </tr>\n    <tr>\n      <th>4</th>\n      <td>young</td>\n      <td>False</td>\n      <td>n</td>\n      <td>fair</td>\n      <td>no</td>\n    </tr>\n  </tbody>\n</table>\n</div>"
     },
     "execution_count": 34,
     "metadata": {},
     "output_type": "execute_result"
    }
   ],
   "source": [
    "df.head()"
   ],
   "metadata": {
    "collapsed": false,
    "pycharm": {
     "name": "#%%\n"
    }
   }
  },
  {
   "cell_type": "code",
   "execution_count": 35,
   "outputs": [],
   "source": [
    "X = df[['age', 'employed', 'own_house', 'credit']]  # feature\n",
    "y = df['target']  # target label"
   ],
   "metadata": {
    "collapsed": false,
    "pycharm": {
     "name": "#%%\n"
    }
   }
  },
  {
   "cell_type": "code",
   "execution_count": 36,
   "outputs": [
    {
     "data": {
      "text/plain": "((7, 4), (3, 4))"
     },
     "execution_count": 36,
     "metadata": {},
     "output_type": "execute_result"
    }
   ],
   "source": [
    "from sklearn.model_selection import train_test_split\n",
    "\n",
    "X_train, X_test, y_train, y_test = train_test_split(X, y, test_size=0.3)\n",
    "\n",
    "X_train.shape, X_test.shape # ข้อมูลสำหรับ train มี 7 แถว สำหรับ test มี 3 แถว\n"
   ],
   "metadata": {
    "collapsed": false,
    "pycharm": {
     "name": "#%%\n"
    }
   }
  },
  {
   "cell_type": "code",
   "execution_count": 37,
   "outputs": [
    {
     "data": {
      "text/plain": "      age  employed own_house     credit\n6  middle     False         n       good\n3   young      True         y       fair\n8  middle     False         y  excellent\n0   young     False         n       fair\n2   young      True         n       good\n1   young     False         n       good\n9  middle     False         y  excellent",
      "text/html": "<div>\n<style scoped>\n    .dataframe tbody tr th:only-of-type {\n        vertical-align: middle;\n    }\n\n    .dataframe tbody tr th {\n        vertical-align: top;\n    }\n\n    .dataframe thead th {\n        text-align: right;\n    }\n</style>\n<table border=\"1\" class=\"dataframe\">\n  <thead>\n    <tr style=\"text-align: right;\">\n      <th></th>\n      <th>age</th>\n      <th>employed</th>\n      <th>own_house</th>\n      <th>credit</th>\n    </tr>\n  </thead>\n  <tbody>\n    <tr>\n      <th>6</th>\n      <td>middle</td>\n      <td>False</td>\n      <td>n</td>\n      <td>good</td>\n    </tr>\n    <tr>\n      <th>3</th>\n      <td>young</td>\n      <td>True</td>\n      <td>y</td>\n      <td>fair</td>\n    </tr>\n    <tr>\n      <th>8</th>\n      <td>middle</td>\n      <td>False</td>\n      <td>y</td>\n      <td>excellent</td>\n    </tr>\n    <tr>\n      <th>0</th>\n      <td>young</td>\n      <td>False</td>\n      <td>n</td>\n      <td>fair</td>\n    </tr>\n    <tr>\n      <th>2</th>\n      <td>young</td>\n      <td>True</td>\n      <td>n</td>\n      <td>good</td>\n    </tr>\n    <tr>\n      <th>1</th>\n      <td>young</td>\n      <td>False</td>\n      <td>n</td>\n      <td>good</td>\n    </tr>\n    <tr>\n      <th>9</th>\n      <td>middle</td>\n      <td>False</td>\n      <td>y</td>\n      <td>excellent</td>\n    </tr>\n  </tbody>\n</table>\n</div>"
     },
     "execution_count": 37,
     "metadata": {},
     "output_type": "execute_result"
    }
   ],
   "source": [
    "X_train"
   ],
   "metadata": {
    "collapsed": false,
    "pycharm": {
     "name": "#%%\n"
    }
   }
  },
  {
   "cell_type": "code",
   "execution_count": 38,
   "outputs": [
    {
     "data": {
      "text/plain": "      age  employed own_house credit\n4   young     False         n   fair\n7  middle      True         y   good\n5  middle     False         n   fair",
      "text/html": "<div>\n<style scoped>\n    .dataframe tbody tr th:only-of-type {\n        vertical-align: middle;\n    }\n\n    .dataframe tbody tr th {\n        vertical-align: top;\n    }\n\n    .dataframe thead th {\n        text-align: right;\n    }\n</style>\n<table border=\"1\" class=\"dataframe\">\n  <thead>\n    <tr style=\"text-align: right;\">\n      <th></th>\n      <th>age</th>\n      <th>employed</th>\n      <th>own_house</th>\n      <th>credit</th>\n    </tr>\n  </thead>\n  <tbody>\n    <tr>\n      <th>4</th>\n      <td>young</td>\n      <td>False</td>\n      <td>n</td>\n      <td>fair</td>\n    </tr>\n    <tr>\n      <th>7</th>\n      <td>middle</td>\n      <td>True</td>\n      <td>y</td>\n      <td>good</td>\n    </tr>\n    <tr>\n      <th>5</th>\n      <td>middle</td>\n      <td>False</td>\n      <td>n</td>\n      <td>fair</td>\n    </tr>\n  </tbody>\n</table>\n</div>"
     },
     "execution_count": 38,
     "metadata": {},
     "output_type": "execute_result"
    }
   ],
   "source": [
    "X_test"
   ],
   "metadata": {
    "collapsed": false,
    "pycharm": {
     "name": "#%%\n"
    }
   }
  },
  {
   "cell_type": "code",
   "execution_count": 39,
   "outputs": [
    {
     "data": {
      "text/plain": "6     no\n3    yes\n8    yes\n0     no\n2    yes\n1     no\n9    yes\nName: target, dtype: object"
     },
     "execution_count": 39,
     "metadata": {},
     "output_type": "execute_result"
    }
   ],
   "source": [
    "y_train"
   ],
   "metadata": {
    "collapsed": false,
    "pycharm": {
     "name": "#%%\n"
    }
   }
  },
  {
   "cell_type": "code",
   "execution_count": 40,
   "outputs": [
    {
     "data": {
      "text/plain": "4     no\n7    yes\n5     no\nName: target, dtype: object"
     },
     "execution_count": 40,
     "metadata": {},
     "output_type": "execute_result"
    }
   ],
   "source": [
    "y_test"
   ],
   "metadata": {
    "collapsed": false,
    "pycharm": {
     "name": "#%%\n"
    }
   }
  },
  {
   "cell_type": "code",
   "execution_count": null,
   "outputs": [],
   "source": [],
   "metadata": {
    "collapsed": false,
    "pycharm": {
     "name": "#%%\n"
    }
   }
  }
 ],
 "metadata": {
  "kernelspec": {
   "display_name": "Python 3",
   "language": "python",
   "name": "python3"
  },
  "language_info": {
   "codemirror_mode": {
    "name": "ipython",
    "version": 2
   },
   "file_extension": ".py",
   "mimetype": "text/x-python",
   "name": "python",
   "nbconvert_exporter": "python",
   "pygments_lexer": "ipython2",
   "version": "2.7.6"
  }
 },
 "nbformat": 4,
 "nbformat_minor": 0
}