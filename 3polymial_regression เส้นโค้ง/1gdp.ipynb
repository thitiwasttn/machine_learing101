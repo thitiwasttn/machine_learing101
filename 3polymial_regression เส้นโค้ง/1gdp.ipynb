{
 "cells": [
  {
   "cell_type": "code",
   "execution_count": 13,
   "metadata": {
    "collapsed": true,
    "pycharm": {
     "name": "#%%\n"
    }
   },
   "outputs": [
    {
     "data": {
      "text/plain": "              SGP           THA           USA  VNM\n1960  704462302.4  2.760747e+09  5.433000e+11  NaN\n1961  764308114.5  3.034044e+09  5.633000e+11  NaN\n1962  825885273.7  3.308913e+09  6.051000e+11  NaN\n1963  917222004.4  3.540403e+09  6.386000e+11  NaN\n1964  893734483.2  3.889130e+09  6.858000e+11  NaN",
      "text/html": "<div>\n<style scoped>\n    .dataframe tbody tr th:only-of-type {\n        vertical-align: middle;\n    }\n\n    .dataframe tbody tr th {\n        vertical-align: top;\n    }\n\n    .dataframe thead th {\n        text-align: right;\n    }\n</style>\n<table border=\"1\" class=\"dataframe\">\n  <thead>\n    <tr style=\"text-align: right;\">\n      <th></th>\n      <th>SGP</th>\n      <th>THA</th>\n      <th>USA</th>\n      <th>VNM</th>\n    </tr>\n  </thead>\n  <tbody>\n    <tr>\n      <th>1960</th>\n      <td>704462302.4</td>\n      <td>2.760747e+09</td>\n      <td>5.433000e+11</td>\n      <td>NaN</td>\n    </tr>\n    <tr>\n      <th>1961</th>\n      <td>764308114.5</td>\n      <td>3.034044e+09</td>\n      <td>5.633000e+11</td>\n      <td>NaN</td>\n    </tr>\n    <tr>\n      <th>1962</th>\n      <td>825885273.7</td>\n      <td>3.308913e+09</td>\n      <td>6.051000e+11</td>\n      <td>NaN</td>\n    </tr>\n    <tr>\n      <th>1963</th>\n      <td>917222004.4</td>\n      <td>3.540403e+09</td>\n      <td>6.386000e+11</td>\n      <td>NaN</td>\n    </tr>\n    <tr>\n      <th>1964</th>\n      <td>893734483.2</td>\n      <td>3.889130e+09</td>\n      <td>6.858000e+11</td>\n      <td>NaN</td>\n    </tr>\n  </tbody>\n</table>\n</div>"
     },
     "execution_count": 13,
     "metadata": {},
     "output_type": "execute_result"
    }
   ],
   "source": [
    "import pandas as pd\n",
    "import matplotlib.pyplot as plt\n",
    "import seaborn as sns\n",
    "from sklearn.linear_model import LinearRegression\n",
    "from sklearn.preprocessing import PolynomialFeatures\n",
    "\n",
    "df = pd.read_csv('../data/gdp4c.csv', index_col=0)\n",
    "df.head()"
   ]
  },
  {
   "cell_type": "code",
   "execution_count": 14,
   "outputs": [
    {
     "data": {
      "text/plain": "               SGP           THA           USA           VNM\n2013  3.044540e+11  4.203330e+11  1.669150e+13  1.712220e+11\n2014  3.115390e+11  4.073390e+11  1.742760e+13  1.862050e+11\n2015  3.040980e+11  4.013990e+11  1.812070e+13  1.932410e+11\n2016  3.097640e+11  4.117550e+11  1.862450e+13  2.052760e+11\n2017  3.239070e+11  4.552210e+11  1.939060e+13  2.238640e+11",
      "text/html": "<div>\n<style scoped>\n    .dataframe tbody tr th:only-of-type {\n        vertical-align: middle;\n    }\n\n    .dataframe tbody tr th {\n        vertical-align: top;\n    }\n\n    .dataframe thead th {\n        text-align: right;\n    }\n</style>\n<table border=\"1\" class=\"dataframe\">\n  <thead>\n    <tr style=\"text-align: right;\">\n      <th></th>\n      <th>SGP</th>\n      <th>THA</th>\n      <th>USA</th>\n      <th>VNM</th>\n    </tr>\n  </thead>\n  <tbody>\n    <tr>\n      <th>2013</th>\n      <td>3.044540e+11</td>\n      <td>4.203330e+11</td>\n      <td>1.669150e+13</td>\n      <td>1.712220e+11</td>\n    </tr>\n    <tr>\n      <th>2014</th>\n      <td>3.115390e+11</td>\n      <td>4.073390e+11</td>\n      <td>1.742760e+13</td>\n      <td>1.862050e+11</td>\n    </tr>\n    <tr>\n      <th>2015</th>\n      <td>3.040980e+11</td>\n      <td>4.013990e+11</td>\n      <td>1.812070e+13</td>\n      <td>1.932410e+11</td>\n    </tr>\n    <tr>\n      <th>2016</th>\n      <td>3.097640e+11</td>\n      <td>4.117550e+11</td>\n      <td>1.862450e+13</td>\n      <td>2.052760e+11</td>\n    </tr>\n    <tr>\n      <th>2017</th>\n      <td>3.239070e+11</td>\n      <td>4.552210e+11</td>\n      <td>1.939060e+13</td>\n      <td>2.238640e+11</td>\n    </tr>\n  </tbody>\n</table>\n</div>"
     },
     "execution_count": 14,
     "metadata": {},
     "output_type": "execute_result"
    }
   ],
   "source": [
    "df.tail()"
   ],
   "metadata": {
    "collapsed": false,
    "pycharm": {
     "name": "#%%\n"
    }
   }
  },
  {
   "cell_type": "code",
   "execution_count": 15,
   "outputs": [
    {
     "data": {
      "text/plain": "(58, 4)"
     },
     "execution_count": 15,
     "metadata": {},
     "output_type": "execute_result"
    }
   ],
   "source": [
    "df.describe()\n",
    "df.shape"
   ],
   "metadata": {
    "collapsed": false,
    "pycharm": {
     "name": "#%%\n"
    }
   }
  },
  {
   "cell_type": "code",
   "execution_count": 16,
   "outputs": [
    {
     "data": {
      "text/plain": "SGP     0\nTHA     0\nUSA     0\nVNM    25\ndtype: int64"
     },
     "execution_count": 16,
     "metadata": {},
     "output_type": "execute_result"
    }
   ],
   "source": [
    "df.isnull().sum()\n",
    "# มีข้อมูลว่าง"
   ],
   "metadata": {
    "collapsed": false,
    "pycharm": {
     "name": "#%%\n"
    }
   }
  },
  {
   "cell_type": "code",
   "execution_count": 17,
   "outputs": [
    {
     "name": "stderr",
     "output_type": "stream",
     "text": [
      "E:\\work\\machine_learing101\\venv\\lib\\site-packages\\seaborn\\_decorators.py:36: FutureWarning: Pass the following variables as keyword args: x, y. From version 0.12, the only valid positional argument will be `data`, and passing other arguments without an explicit keyword will result in an error or misinterpretation.\n",
      "  warnings.warn(\n",
      "E:\\work\\machine_learing101\\venv\\lib\\site-packages\\seaborn\\_decorators.py:36: FutureWarning: Pass the following variables as keyword args: x, y. From version 0.12, the only valid positional argument will be `data`, and passing other arguments without an explicit keyword will result in an error or misinterpretation.\n",
      "  warnings.warn(\n",
      "E:\\work\\machine_learing101\\venv\\lib\\site-packages\\seaborn\\_decorators.py:36: FutureWarning: Pass the following variables as keyword args: x, y. From version 0.12, the only valid positional argument will be `data`, and passing other arguments without an explicit keyword will result in an error or misinterpretation.\n",
      "  warnings.warn(\n"
     ]
    },
    {
     "data": {
      "text/plain": "Text(0, 0.5, 'GDP')"
     },
     "execution_count": 17,
     "metadata": {},
     "output_type": "execute_result"
    },
    {
     "data": {
      "text/plain": "<Figure size 432x288 with 1 Axes>",
      "image/png": "[encoded data removed]"
     },
     "metadata": {},
     "output_type": "display_data"
    }
   ],
   "source": [
    "sns.set_style('darkgrid')\n",
    "sns.scatterplot(df.index, df['THA'], label='THA')\n",
    "sns.scatterplot(df.index, df['SGP'], label='SGP')\n",
    "sns.scatterplot(df.index, df['VNM'], label='VNM')\n",
    "plt.ylabel('GDP')"
   ],
   "metadata": {
    "collapsed": false,
    "pycharm": {
     "name": "#%%\n"
    }
   }
  },
  {
   "cell_type": "code",
   "execution_count": 18,
   "outputs": [
    {
     "data": {
      "text/plain": "<Figure size 432x288 with 1 Axes>",
      "image/png": "[encoded data removed]"
     },
     "metadata": {},
     "output_type": "display_data"
    }
   ],
   "source": [
    "# train\n",
    "x = df.index.values.reshape(-1, 1)\n",
    "y = df['THA']\n",
    "model = LinearRegression()\n",
    "model.fit(x, y)\n",
    "predict = model.predict(x)\n",
    "plt.scatter(x, y, color='b')\n",
    "plt.plot(x, predict, linewidth='2', color='r')\n",
    "plt.show()"
   ],
   "metadata": {
    "collapsed": false,
    "pycharm": {
     "name": "#%%\n"
    }
   }
  },
  {
   "cell_type": "code",
   "execution_count": 19,
   "outputs": [
    {
     "data": {
      "text/plain": "58032284468.14501"
     },
     "execution_count": 19,
     "metadata": {},
     "output_type": "execute_result"
    }
   ],
   "source": [
    "from sklearn.metrics import r2_score\n",
    "# ประเมินความแม่น\n",
    "from sklearn.metrics import mean_squared_error, mean_absolute_error\n",
    "\n",
    "import numpy as np\n",
    "np.sqrt(mean_squared_error(y, predict))"
   ],
   "metadata": {
    "collapsed": false,
    "pycharm": {
     "name": "#%%\n"
    }
   }
  },
  {
   "cell_type": "code",
   "execution_count": 20,
   "outputs": [
    {
     "name": "stdout",
     "output_type": "stream",
     "text": [
      "R2 = 0.81300 \n",
      "R2 = 0.81300 \n",
      "MSE = 3.3677e+21 \n",
      "RMSE = 5.8032e+10 \n"
     ]
    }
   ],
   "source": [
    "\n",
    "\n",
    "print('R2 = {:.5f} '.format(model.score(x, y)))\n",
    "print('R2 = {:.5f} '.format(r2_score(y, predict)))\n",
    "\n",
    "print('MSE = {:.4e} '.format(mean_squared_error(y, predict)))\n",
    "print('RMSE = {:.4e} '.format(np.sqrt(mean_squared_error(y, predict))))"
   ],
   "metadata": {
    "collapsed": false,
    "pycharm": {
     "name": "#%%\n"
    }
   }
  },
  {
   "cell_type": "code",
   "execution_count": 21,
   "outputs": [
    {
     "data": {
      "text/plain": "array([3.50427352e+11])"
     },
     "execution_count": 21,
     "metadata": {},
     "output_type": "execute_result"
    }
   ],
   "source": [
    "# ทำนายว่าปี 2020 จะมี gdp เท่าไหร่\n",
    "predict2020 = model.predict([[2020]])\n",
    "predict2020\n",
    "# ไม้แม่น ของจริงได้ 501.8 billion USD"
   ],
   "metadata": {
    "collapsed": false,
    "pycharm": {
     "name": "#%%\n"
    }
   }
  },
  {
   "cell_type": "code",
   "execution_count": 22,
   "outputs": [
    {
     "data": {
      "text/plain": "<Figure size 432x288 with 1 Axes>",
      "image/png": "[encoded data removed]"
     },
     "metadata": {},
     "output_type": "display_data"
    }
   ],
   "source": [
    "poly_feature = PolynomialFeatures(degree=2)\n",
    "x_poly = poly_feature.fit_transform(x)\n",
    "model = LinearRegression()\n",
    "model.fit(x_poly, y)\n",
    "\n",
    "y_poly_pred = model.predict(x_poly)\n",
    "\n",
    "\n",
    "sns.set_style('darkgrid')\n",
    "plt.rcParams['figure.figsize'] = 6,4\n",
    "\n",
    "plt.scatter(x, y, color='b',s=12)\n",
    "plt.plot(x, y_poly_pred, linewidth='2', color='r')\n",
    "plt.ylabel('GDP')\n",
    "\n",
    "plt.show()"
   ],
   "metadata": {
    "collapsed": false,
    "pycharm": {
     "name": "#%%\n"
    }
   }
  },
  {
   "cell_type": "code",
   "execution_count": 23,
   "outputs": [
    {
     "name": "stdout",
     "output_type": "stream",
     "text": [
      "R2 = 0.95797 \n",
      "R2 = 0.95797 \n",
      "MSE = 7.5696e+20 \n",
      "RMSE = 2.7513e+10 \n"
     ]
    }
   ],
   "source": [
    "# ประเมินความแม่นยำ\n",
    "from sklearn.metrics import mean_squared_error, mean_absolute_error, r2_score\n",
    "import numpy as np\n",
    "\n",
    "print('R2 = {:.5f} '.format(model.score(x_poly, y)))\n",
    "print('R2 = {:.5f} '.format(r2_score(y, y_poly_pred)))\n",
    "\n",
    "print('MSE = {:.4e} '.format(mean_squared_error(y, y_poly_pred)))\n",
    "print('RMSE = {:.4e} '.format(np.sqrt(mean_squared_error(y,  y_poly_pred))))"
   ],
   "metadata": {
    "collapsed": false,
    "pycharm": {
     "name": "#%%\n"
    }
   }
  },
  {
   "cell_type": "code",
   "execution_count": 24,
   "outputs": [
    {
     "name": "stdout",
     "output_type": "stream",
     "text": [
      "4.0035e+11\n",
      "4.5629e+11\n",
      "4.9563e+11\n",
      "3.1526e+11\n"
     ]
    }
   ],
   "source": [
    "x_input = [[2015], [2018], [2020], [2010]]\n",
    "y_poly_pred = model.predict(poly_feature.fit_transform(x_input))\n",
    "y_poly_pred\n",
    "\n",
    "for val in y_poly_pred:\n",
    "    print('{:.4e}'.format(val))"
   ],
   "metadata": {
    "collapsed": false,
    "pycharm": {
     "name": "#%%\n"
    }
   }
  }
 ],
 "metadata": {
  "kernelspec": {
   "display_name": "Python 3",
   "language": "python",
   "name": "python3"
  },
  "language_info": {
   "codemirror_mode": {
    "name": "ipython",
    "version": 2
   },
   "file_extension": ".py",
   "mimetype": "text/x-python",
   "name": "python",
   "nbconvert_exporter": "python",
   "pygments_lexer": "ipython2",
   "version": "2.7.6"
  }
 },
 "nbformat": 4,
 "nbformat_minor": 0
}